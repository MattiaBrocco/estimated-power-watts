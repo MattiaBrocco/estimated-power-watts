{
 "cells": [
  {
   "cell_type": "code",
   "execution_count": null,
   "metadata": {},
   "outputs": [],
   "source": [
    "import os\n",
    "import sys\n",
    "import gzip\n",
    "import shutil\n",
    "import pandas as pd\n",
    "from tqdm import tqdm\n",
    "\n",
    "if os.getcwd().replace(\"algorithm_development\", \"utils\") not in sys.path:\n",
    "    sys.path.append(os.getcwd().replace(\"algorithm_development\", \"utils\"))\n",
    "\n",
    "import parse_fit\n",
    "pd.options.display.max_columns = 100\n",
    "\n",
    "%load_ext autoreload\n",
    "%autoreload 2"
   ]
  },
  {
   "cell_type": "code",
   "execution_count": null,
   "metadata": {},
   "outputs": [],
   "source": [
    "#######################\n",
    "### UNZIP ALL FILES ###\n",
    "#######################\n",
    "strava_export_path = \"\\\\\".join(os.getcwd().split(\"\\\\\")[:-1]) + \"\\\\export_105647830\"\n",
    "\n",
    "for filename in os.listdir(strava_export_path + \"\\\\activities\"):\n",
    "    if filename.endswith('.gz') and filename.replace(\".gz\", \"\") not in os.listdir(strava_export_path + \"\\\\activities\"): \n",
    "        print(filename)\n",
    "        with gzip.open(\"\\\\\".join((strava_export_path + \"\\\\activities\", filename)), 'rb') as f_in:\n",
    "            with open(\"\\\\\".join((strava_export_path + \"\\\\activities\", filename))[:-3], 'wb') as f_out:\n",
    "                shutil.copyfileobj(f_in, f_out)"
   ]
  },
  {
   "cell_type": "code",
   "execution_count": null,
   "metadata": {},
   "outputs": [],
   "source": [
    "activities_df = pd.read_csv(f\"{strava_export_path}\\\\activities.csv\")\n",
    "activities_df[\"Filename\"] = activities_df[\"Filename\"].apply(lambda v: v.split(\"/\")[1].replace(\".gz\", \"\")\n",
    "                                                            if isinstance(v, str) else v)\n",
    "\n",
    "\n",
    "list_of_fit_files = [\"\\\\\".join((strava_export_path + \"\\\\activities\", v))\n",
    "                     for v in os.listdir(strava_export_path + \"\\\\activities\")\n",
    "                     if \".gpx\" not in v and \".gz\" not in v]\n",
    "list_of_gpx_files = [\"\\\\\".join((strava_export_path + \"\\\\activities\", v))\n",
    "                     for v in os.listdir(strava_export_path + \"\\\\activities\")\n",
    "                     if \".gpx\" in v]"
   ]
  },
  {
   "cell_type": "code",
   "execution_count": null,
   "metadata": {},
   "outputs": [],
   "source": [
    "##########################################\n",
    "### GET TO DATAFRAME PER EACH FIT FILE ###\n",
    "##########################################\n",
    "list_of_dfs_fit_points = []\n",
    "list_of_dfs_fit_laps = []\n",
    "for file in tqdm(list_of_fit_files):\n",
    "    try:\n",
    "        d_ = parse_fit.get_dataframes(file)\n",
    "        list_of_dfs_fit_laps.append(d_[0])\n",
    "        list_of_dfs_fit_points.append(d_[1])\n",
    "    except:\n",
    "        print(file)\n",
    "\n",
    "fit_file_laps = pd.concat(list_of_dfs_fit_laps, ignore_index = True)\n",
    "fit_file_points = pd.concat(list_of_dfs_fit_points, ignore_index = True)\n",
    "\n",
    "fit_file_points = fit_file_points.merge(activities_df, left_on = \"FileName\", right_on = \"Filename\", how = \"left\")\n",
    "fit_file_points = fit_file_points.drop(\"compressed_speed_distance\", axis = 1)\n",
    "\n",
    "fit_file_laps = fit_file_laps.merge(activities_df, left_on = \"FileName\", right_on = \"Filename\", how = \"left\")\n",
    "\n",
    "# SAVE FILES TO AVOID RECOMPUTING EACH TIME\n",
    "fit_file_laps.to_parquet(\"{}\\\\fit_file_laps.parquet\".format(\"\\\\\".join(strava_export_path.split(\"\\\\\")[:-1]) + \"\\\\data\\\\\"))\n",
    "fit_file_points.to_parquet(\"{}\\\\fit_file_points.parquet\".format(\"\\\\\".join(strava_export_path.split(\"\\\\\")[:-1]) + \"\\\\data\\\\\"))"
   ]
  },
  {
   "cell_type": "markdown",
   "metadata": {},
   "source": [
    "---\n",
    "---\n",
    "---"
   ]
  }
 ],
 "metadata": {
  "kernelspec": {
   "display_name": "Python 3",
   "language": "python",
   "name": "python3"
  },
  "language_info": {
   "name": "python",
   "version": "3.8.10"
  }
 },
 "nbformat": 4,
 "nbformat_minor": 2
}
