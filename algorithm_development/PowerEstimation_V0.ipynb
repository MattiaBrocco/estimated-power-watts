{
 "cells": [
  {
   "cell_type": "code",
   "execution_count": 119,
   "metadata": {},
   "outputs": [
    {
     "name": "stdout",
     "output_type": "stream",
     "text": [
      "Python 3.8.10\n",
      "numpy 1.22.4\n",
      "pandas 1.4.2\n",
      "sklearn 1.3.2\n",
      "The autoreload extension is already loaded. To reload it, use:\n",
      "  %reload_ext autoreload\n"
     ]
    }
   ],
   "source": [
    "### Python 3.8.10\n",
    "# major requirements below\n",
    "\n",
    "!python --version\n",
    "\n",
    "import os\n",
    "import sys\n",
    "import sklearn\n",
    "import numpy as np\n",
    "import pandas as pd\n",
    "import seaborn as sns\n",
    "import matplotlib.pyplot as plt\n",
    "\n",
    "print(\"numpy\", np.__version__)\n",
    "print(\"pandas\", pd.__version__)\n",
    "print(\"sklearn\", sklearn.__version__)\n",
    "\n",
    "if os.getcwd().replace(\"algorithm_development\", \"utils\") not in sys.path:\n",
    "    sys.path.append(os.getcwd().replace(\"algorithm_development\", \"utils\"))\n",
    "\n",
    "import utils\n",
    "import parse_fit\n",
    "import tree_estimator\n",
    "\n",
    "pd.options.display.max_columns = 100\n",
    "\n",
    "%load_ext autoreload\n",
    "%autoreload 2"
   ]
  },
  {
   "cell_type": "code",
   "execution_count": 120,
   "metadata": {},
   "outputs": [],
   "source": [
    "strava_export_path = \"\\\\\".join(os.getcwd().split(\"\\\\\")[:-2]) + \"\\\\export_105647830\""
   ]
  },
  {
   "cell_type": "code",
   "execution_count": 121,
   "metadata": {},
   "outputs": [],
   "source": [
    "activities_df = pd.read_csv(f\"{strava_export_path}\\\\activities.csv\")\n",
    "activities_df[\"Filename\"] = activities_df[\"Filename\"].apply(lambda v: v.split(\"/\")[1].replace(\".gz\", \"\")\n",
    "                                                            if isinstance(v, str) else v)"
   ]
  },
  {
   "cell_type": "code",
   "execution_count": 122,
   "metadata": {},
   "outputs": [],
   "source": [
    "list_of_fit_files = [\"\\\\\".join((strava_export_path + \"\\\\activities\", v)) for v in os.listdir(strava_export_path + \"\\\\activities\")\n",
    "                     if \".gpx\" not in v and \".gz\" not in v]\n",
    "list_of_gpx_files = [\"\\\\\".join((strava_export_path + \"\\\\activities\", v)) for v in os.listdir(strava_export_path + \"\\\\activities\")\n",
    "                     if \".gpx\" in v]"
   ]
  },
  {
   "cell_type": "code",
   "execution_count": 123,
   "metadata": {},
   "outputs": [],
   "source": [
    "# SAVE FILES TO AVOID RECOMPUTING EACH TIME\n",
    "fit_file_laps = pd.read_parquet(\"{}\\\\fit_file_laps.parquet\".format(\"\\\\\".join(strava_export_path.split(\"\\\\\")[:-1] + [\"\\\\data\"])))\n",
    "fit_file_points = pd.read_parquet(\"{}\\\\fit_file_points.parquet\".format(\"\\\\\".join(strava_export_path.split(\"\\\\\")[:-1] + [\"\\\\data\"])))"
   ]
  },
  {
   "cell_type": "code",
   "execution_count": 124,
   "metadata": {},
   "outputs": [
    {
     "data": {
      "text/html": [
       "<div>\n",
       "<style scoped>\n",
       "    .dataframe tbody tr th:only-of-type {\n",
       "        vertical-align: middle;\n",
       "    }\n",
       "\n",
       "    .dataframe tbody tr th {\n",
       "        vertical-align: top;\n",
       "    }\n",
       "\n",
       "    .dataframe thead th {\n",
       "        text-align: right;\n",
       "    }\n",
       "</style>\n",
       "<table border=\"1\" class=\"dataframe\">\n",
       "  <thead>\n",
       "    <tr style=\"text-align: right;\">\n",
       "      <th></th>\n",
       "      <th>FileName</th>\n",
       "      <th>lap</th>\n",
       "      <th>distance</th>\n",
       "      <th>speed</th>\n",
       "      <th>enhanced_speed</th>\n",
       "      <th>heart_rate</th>\n",
       "      <th>power</th>\n",
       "      <th>cadence</th>\n",
       "      <th>grade</th>\n",
       "      <th>slope</th>\n",
       "      <th>current_slope</th>\n",
       "      <th>altitude</th>\n",
       "      <th>enhanced_altitude</th>\n",
       "      <th>filtered_altitude</th>\n",
       "      <th>latitude</th>\n",
       "      <th>position_lat</th>\n",
       "      <th>longitude</th>\n",
       "      <th>position_long</th>\n",
       "      <th>temperature</th>\n",
       "      <th>time_from_course</th>\n",
       "      <th>timestamp</th>\n",
       "      <th>Activity Name</th>\n",
       "      <th>Athlete Weight</th>\n",
       "      <th>Bike Weight</th>\n",
       "      <th>Weighted Average Power</th>\n",
       "    </tr>\n",
       "  </thead>\n",
       "  <tbody>\n",
       "    <tr>\n",
       "      <th>0</th>\n",
       "      <td>12109821153.fit</td>\n",
       "      <td>1</td>\n",
       "      <td>0.00</td>\n",
       "      <td>4.124</td>\n",
       "      <td>4.124</td>\n",
       "      <td>103.0</td>\n",
       "      <td>NaN</td>\n",
       "      <td>35.0</td>\n",
       "      <td>NaN</td>\n",
       "      <td>NaN</td>\n",
       "      <td>NaN</td>\n",
       "      <td>275.4</td>\n",
       "      <td>275.4</td>\n",
       "      <td>NaN</td>\n",
       "      <td>45.710826</td>\n",
       "      <td>545351401</td>\n",
       "      <td>9.677776</td>\n",
       "      <td>115460361</td>\n",
       "      <td>NaN</td>\n",
       "      <td>None</td>\n",
       "      <td>2024-05-05 05:02:41+00:00</td>\n",
       "      <td>Granfondo BGY</td>\n",
       "      <td>NaN</td>\n",
       "      <td>9.8</td>\n",
       "      <td>NaN</td>\n",
       "    </tr>\n",
       "    <tr>\n",
       "      <th>1</th>\n",
       "      <td>12109821153.fit</td>\n",
       "      <td>1</td>\n",
       "      <td>20.01</td>\n",
       "      <td>3.284</td>\n",
       "      <td>3.284</td>\n",
       "      <td>109.0</td>\n",
       "      <td>NaN</td>\n",
       "      <td>61.0</td>\n",
       "      <td>NaN</td>\n",
       "      <td>NaN</td>\n",
       "      <td>NaN</td>\n",
       "      <td>275.0</td>\n",
       "      <td>275.0</td>\n",
       "      <td>NaN</td>\n",
       "      <td>45.710653</td>\n",
       "      <td>545349329</td>\n",
       "      <td>9.677843</td>\n",
       "      <td>115461167</td>\n",
       "      <td>NaN</td>\n",
       "      <td>None</td>\n",
       "      <td>2024-05-05 05:02:45+00:00</td>\n",
       "      <td>Granfondo BGY</td>\n",
       "      <td>NaN</td>\n",
       "      <td>9.8</td>\n",
       "      <td>NaN</td>\n",
       "    </tr>\n",
       "  </tbody>\n",
       "</table>\n",
       "</div>"
      ],
      "text/plain": [
       "          FileName  lap  distance  speed  enhanced_speed  heart_rate  power  \\\n",
       "0  12109821153.fit    1      0.00  4.124           4.124       103.0    NaN   \n",
       "1  12109821153.fit    1     20.01  3.284           3.284       109.0    NaN   \n",
       "\n",
       "   cadence  grade  slope  current_slope  altitude  enhanced_altitude  \\\n",
       "0     35.0    NaN    NaN            NaN     275.4              275.4   \n",
       "1     61.0    NaN    NaN            NaN     275.0              275.0   \n",
       "\n",
       "   filtered_altitude   latitude  position_lat  longitude  position_long  \\\n",
       "0                NaN  45.710826     545351401   9.677776      115460361   \n",
       "1                NaN  45.710653     545349329   9.677843      115461167   \n",
       "\n",
       "   temperature time_from_course                 timestamp  Activity Name  \\\n",
       "0          NaN             None 2024-05-05 05:02:41+00:00  Granfondo BGY   \n",
       "1          NaN             None 2024-05-05 05:02:45+00:00  Granfondo BGY   \n",
       "\n",
       "   Athlete Weight  Bike Weight  Weighted Average Power  \n",
       "0             NaN          9.8                     NaN  \n",
       "1             NaN          9.8                     NaN  "
      ]
     },
     "execution_count": 124,
     "metadata": {},
     "output_type": "execute_result"
    }
   ],
   "source": [
    "example = utils.slice_parquet_activity(activities_df, fit_file_points, \"Granfondo BGY\")\n",
    "example.head(2)"
   ]
  },
  {
   "cell_type": "code",
   "execution_count": 125,
   "metadata": {},
   "outputs": [
    {
     "data": {
      "text/plain": [
       "8.343362147412318"
      ]
     },
     "execution_count": 125,
     "metadata": {},
     "output_type": "execute_result"
    }
   ],
   "source": [
    "utils.compute_power(weight=85.5, bike_wgt=8.8, speed=5.524, slope=7.097182)"
   ]
  },
  {
   "cell_type": "code",
   "execution_count": 126,
   "metadata": {},
   "outputs": [],
   "source": [
    "from sklearn.tree import DecisionTreeRegressor\n",
    "from sklearn.metrics import mean_squared_error\n",
    "from sklearn.metrics import mean_absolute_error\n",
    "from sklearn.model_selection import GridSearchCV\n",
    "from sklearn.model_selection import train_test_split"
   ]
  },
  {
   "cell_type": "code",
   "execution_count": 159,
   "metadata": {},
   "outputs": [],
   "source": [
    "def data_prep(df, weight, bike_wgt, rest_hr, max_hr, split = True, has_real_power = True):\n",
    "    Xy = df[[\"altitude\", \"cadence\", \"enhanced_speed\", \"current_slope\", \"heart_rate\", \"distance\", \"power\"]].copy()\n",
    "    # heart_rate w.r.t. rest HR and max HR\n",
    "    # Xy[\"heart_rate\"] = 100 * (Xy['heart_rate']/ (max_hr-rest_hr))\n",
    "    Xy[\"heart_rate\"] = Xy[\"heart_rate\"].bfill()\n",
    "    Xy[\"current_slope\"] = Xy[\"current_slope\"].fillna(0)\n",
    "    Xy.loc[(Xy[\"cadence\"].isnull()) & (Xy[\"enhanced_speed\"] == 0), \"cadence\"] = 0\n",
    "    Xy[\"distance\"] = Xy[\"distance\"] / 1000\n",
    "    Xy[\"power\"] = Xy[\"power\"].fillna(0)\n",
    "    Xy[\"power\"] = Xy[\"power\"]/weight\n",
    "\n",
    "    # Xy[\"athlete_weight\"] = 85.5\n",
    "    # Xy[\"bike_weight\"] = 8.8\n",
    "\n",
    "    Xy = Xy.dropna(how = \"any\").reset_index(drop = True)\n",
    "\n",
    "    Xy[\"estimated_power\"] = Xy.apply(lambda row: utils.compute_power(weight = weight, bike_wgt = bike_wgt,\n",
    "                                                                     speed = row[\"enhanced_speed\"],\n",
    "                                                                     slope = row[\"current_slope\"]),\n",
    "                                    axis = 1)\n",
    "\n",
    "    X = Xy.drop(\"power\", axis = 1)\n",
    "    y = Xy[\"power\"]\n",
    "    \n",
    "    if split:\n",
    "        X_train, X_test, y_train, y_test = train_test_split(X, y, test_size=0.3, random_state=42, shuffle = True)\n",
    "        return X_train, X_test, y_train, y_test\n",
    "    else:\n",
    "        return X, y"
   ]
  },
  {
   "cell_type": "code",
   "execution_count": 160,
   "metadata": {},
   "outputs": [],
   "source": [
    "def model_pipeline(X_train, X_test, y_train, y_test, weight, early_stop = False):\n",
    "    # Uneducated guess\n",
    "    print(\"RMSE: {:.2f}\".format(mean_squared_error(y_train, X_train[\"estimated_power\"], squared=False)))\n",
    "    print(\"MAE: {:.2f} W/kg ({:.2f} W)\".format(mean_absolute_error(y_train, X_train[\"estimated_power\"]),\n",
    "                                               mean_absolute_error(y_train, X_train[\"estimated_power\"]) * weight))\n",
    "\n",
    "    plt.figure(figsize = (16, 5))\n",
    "    plt.plot(sorted(pd.concat([y_train, y_test], ignore_index=True))[::-1], label = \"REAL POWER\")\n",
    "    plt.plot(sorted(pd.concat([X_train, X_test], ignore_index=True)[\"estimated_power\"])[::-1], label = \"PREDICTED\")\n",
    "    plt.title(\"UNEDUCATED GUESS - Test power curve\")\n",
    "    plt.legend()\n",
    "    plt.show()\n",
    "\n",
    "    if early_stop:\n",
    "        return None\n",
    "\n",
    "    # Initialize a Decision Tree Classifier\n",
    "\n",
    "    d3 = DecisionTreeRegressor(random_state = 101, criterion = \"absolute_error\")\n",
    "    d3.fit(X_train, y_train)\n",
    "    print(\"Tree Train RMSE: {:.4f}\\n\".format((mean_squared_error(y_train, d3.predict(X_train), squared=True))))\n",
    "\n",
    "    # Compute impurities to look for an adequate pruning term\n",
    "    path = d3.cost_complexity_pruning_path(X_train, y_train)\n",
    "    ccp_alphas, impurities = path.ccp_alphas, path.impurities\n",
    "    # Plot the impurity level given ccp_alpha\n",
    "    plt.plot(ccp_alphas[:-1], impurities[:-1], marker = \"o\", drawstyle = \"steps-post\")\n",
    "    plt.xlabel(\"effective alpha\")\n",
    "    plt.ylabel(\"total impurity of leaves\")\n",
    "    plt.title(\"Total Impurity vs effective alpha for training set\")\n",
    "    plt.show()\n",
    "\n",
    "    # Tree Pruning (we are overfitting - Accuracy: 100% in training)\n",
    "    tree_params = {\"ccp_alpha\":[ccp_alphas[impurities < impty].max()\n",
    "                                for impty in np.linspace(0.1, np.round(impurities.max()/2, 3),\n",
    "                                                        num = 5)]}\n",
    "\n",
    "    tree_grid = GridSearchCV(DecisionTreeRegressor(random_state = 101, criterion = \"absolute_error\"),\n",
    "                            tree_params, cv = 3, n_jobs = 6, verbose = 10,\n",
    "                            return_train_score = True)\n",
    "    tree_grid.fit(X_train, y_train)\n",
    "\n",
    "    # Show the results\n",
    "    print(\"With ReLU\")\n",
    "    print(\"RMSE: {:.2f}\".format(mean_squared_error(y_test, utils.ReLU(tree_grid.best_estimator_.predict(X_test)), squared=True)))\n",
    "    print(\"MAE: {:.2f} W/kg ({:.2f} W)\".format(mean_absolute_error(y_test, utils.ReLU(tree_grid.best_estimator_.predict(X_test))),\n",
    "                                               mean_absolute_error(y_test, utils.ReLU(tree_grid.best_estimator_.predict(X_test))) * weight))\n",
    "    # print(\"MAPE: {:.2f} %\".format(100*mean_absolute_percentage_error(y_test, ReLU(tree_grid.best_estimator_.predict(X_test)))))\n",
    "    print()\n",
    "    print(\"Without ReLU\")\n",
    "    print(\"RMSE: {:.2f}\".format(mean_squared_error(y_test, tree_grid.best_estimator_.predict(X_test), squared=True)))\n",
    "    print(\"MAE: {:.2f} W/kg ({:.2f} W)\".format(mean_absolute_error(y_test, tree_grid.best_estimator_.predict(X_test)),\n",
    "                                               mean_absolute_error(y_test, tree_grid.best_estimator_.predict(X_test)) * weight))\n",
    "    # print(\"MAPE: {:.2f} %\".format(100*mean_absolute_percentage_error(y_test, tree_grid.best_estimator_.predict(X_test))))\n",
    "\n",
    "    plt.figure(figsize = (16, 5))\n",
    "    plt.plot(sorted(y_test)[::-1], label = \"REAL POWER\", lw = 5)\n",
    "    plt.plot(sorted(utils.ReLU(tree_grid.best_estimator_.predict(X_test)))[::-1], label = \"PREDICTED + RELU\", lw = 5)\n",
    "    plt.plot(sorted(tree_grid.best_estimator_.predict(X_test))[::-1], label = \"PREDICTED\", alpha = .8, ls = \"--\")\n",
    "    plt.title(\"DECISION TREE - Test power curve\")\n",
    "    plt.legend()\n",
    "    plt.show()\n",
    "\n",
    "    return tree_grid.best_estimator_"
   ]
  },
  {
   "cell_type": "code",
   "execution_count": 161,
   "metadata": {},
   "outputs": [],
   "source": [
    "_, dr = parse_fit.get_dataframes(\"{}\\\\16438299806_ACTIVITY.fit\".format(\"\\\\\".join(strava_export_path.split(\"\\\\\")[:-1] + [\"\\\\data\\\\DR\"])))"
   ]
  },
  {
   "cell_type": "code",
   "execution_count": 162,
   "metadata": {},
   "outputs": [
    {
     "name": "stdout",
     "output_type": "stream",
     "text": [
      "RMSE: 1.84\n",
      "MAE: 1.22 W/kg (104.01 W)\n"
     ]
    },
    {
     "data": {
      "image/png": "[encoded data removed]",
      "text/plain": [
       "<Figure size 1152x360 with 1 Axes>"
      ]
     },
     "metadata": {
      "needs_background": "light"
     },
     "output_type": "display_data"
    },
    {
     "name": "stdout",
     "output_type": "stream",
     "text": [
      "Tree Train RMSE: 0.0000\n",
      "\n"
     ]
    },
    {
     "data": {
      "image/png": "[encoded data removed]",
      "text/plain": [
       "<Figure size 432x288 with 1 Axes>"
      ]
     },
     "metadata": {
      "needs_background": "light"
     },
     "output_type": "display_data"
    },
    {
     "name": "stdout",
     "output_type": "stream",
     "text": [
      "Fitting 3 folds for each of 5 candidates, totalling 15 fits\n",
      "With ReLU\n",
      "RMSE: 0.19\n",
      "MAE: 0.24 W/kg (20.20 W)\n",
      "\n",
      "Without ReLU\n",
      "RMSE: 0.19\n",
      "MAE: 0.24 W/kg (20.20 W)\n"
     ]
    },
    {
     "data": {
      "image/png": "[encoded data removed]",
      "text/plain": [
       "<Figure size 1152x360 with 1 Axes>"
      ]
     },
     "metadata": {
      "needs_background": "light"
     },
     "output_type": "display_data"
    }
   ],
   "source": [
    "dr_X_train, dr_X_test, dr_y_train, dr_y_test = data_prep(dr, weight = 85.5, bike_wgt = 8.8, rest_hr = 55, max_hr = 195)\n",
    "model = model_pipeline(dr_X_train, dr_X_test, dr_y_train, dr_y_test, weight = 85.5)"
   ]
  },
  {
   "cell_type": "code",
   "execution_count": 185,
   "metadata": {},
   "outputs": [
    {
     "data": {
      "text/plain": [
       "118.15529"
      ]
     },
     "execution_count": 185,
     "metadata": {},
     "output_type": "execute_result"
    }
   ],
   "source": [
    "dr_X_train[\"distance\"].max()"
   ]
  },
  {
   "cell_type": "code",
   "execution_count": 163,
   "metadata": {},
   "outputs": [
    {
     "data": {
      "text/html": [
       "<div>\n",
       "<style scoped>\n",
       "    .dataframe tbody tr th:only-of-type {\n",
       "        vertical-align: middle;\n",
       "    }\n",
       "\n",
       "    .dataframe tbody tr th {\n",
       "        vertical-align: top;\n",
       "    }\n",
       "\n",
       "    .dataframe thead th {\n",
       "        text-align: right;\n",
       "    }\n",
       "</style>\n",
       "<table border=\"1\" class=\"dataframe\">\n",
       "  <thead>\n",
       "    <tr style=\"text-align: right;\">\n",
       "      <th></th>\n",
       "      <th>altitude</th>\n",
       "      <th>cadence</th>\n",
       "      <th>enhanced_speed</th>\n",
       "      <th>current_slope</th>\n",
       "      <th>heart_rate</th>\n",
       "      <th>distance</th>\n",
       "      <th>estimated_power</th>\n",
       "    </tr>\n",
       "  </thead>\n",
       "  <tbody>\n",
       "    <tr>\n",
       "      <th>12933</th>\n",
       "      <td>102.2</td>\n",
       "      <td>85.0</td>\n",
       "      <td>11.943</td>\n",
       "      <td>-0.820733</td>\n",
       "      <td>151.0</td>\n",
       "      <td>96.06366</td>\n",
       "      <td>2.448766</td>\n",
       "    </tr>\n",
       "    <tr>\n",
       "      <th>9990</th>\n",
       "      <td>91.8</td>\n",
       "      <td>84.0</td>\n",
       "      <td>6.476</td>\n",
       "      <td>1.129450</td>\n",
       "      <td>137.0</td>\n",
       "      <td>73.29365</td>\n",
       "      <td>2.305853</td>\n",
       "    </tr>\n",
       "    <tr>\n",
       "      <th>7530</th>\n",
       "      <td>239.8</td>\n",
       "      <td>54.0</td>\n",
       "      <td>3.555</td>\n",
       "      <td>7.996498</td>\n",
       "      <td>142.0</td>\n",
       "      <td>53.65046</td>\n",
       "      <td>5.891821</td>\n",
       "    </tr>\n",
       "    <tr>\n",
       "      <th>1323</th>\n",
       "      <td>64.0</td>\n",
       "      <td>93.0</td>\n",
       "      <td>10.329</td>\n",
       "      <td>0.131415</td>\n",
       "      <td>155.0</td>\n",
       "      <td>11.35494</td>\n",
       "      <td>3.197703</td>\n",
       "    </tr>\n",
       "    <tr>\n",
       "      <th>3043</th>\n",
       "      <td>89.6</td>\n",
       "      <td>92.0</td>\n",
       "      <td>8.575</td>\n",
       "      <td>-0.758583</td>\n",
       "      <td>128.0</td>\n",
       "      <td>25.41760</td>\n",
       "      <td>0.479088</td>\n",
       "    </tr>\n",
       "  </tbody>\n",
       "</table>\n",
       "</div>"
      ],
      "text/plain": [
       "       altitude  cadence  enhanced_speed  current_slope  heart_rate  distance  \\\n",
       "12933     102.2     85.0          11.943      -0.820733       151.0  96.06366   \n",
       "9990       91.8     84.0           6.476       1.129450       137.0  73.29365   \n",
       "7530      239.8     54.0           3.555       7.996498       142.0  53.65046   \n",
       "1323       64.0     93.0          10.329       0.131415       155.0  11.35494   \n",
       "3043       89.6     92.0           8.575      -0.758583       128.0  25.41760   \n",
       "\n",
       "       estimated_power  \n",
       "12933         2.448766  \n",
       "9990          2.305853  \n",
       "7530          5.891821  \n",
       "1323          3.197703  \n",
       "3043          0.479088  "
      ]
     },
     "execution_count": 163,
     "metadata": {},
     "output_type": "execute_result"
    }
   ],
   "source": [
    "dr_X_test.head()"
   ]
  },
  {
   "cell_type": "code",
   "execution_count": 172,
   "metadata": {},
   "outputs": [
    {
     "data": {
      "text/plain": [
       "2.497076"
      ]
     },
     "execution_count": 172,
     "metadata": {},
     "output_type": "execute_result"
    }
   ],
   "source": [
    "## predict example\n",
    "iloc_index = 0\n",
    "\n",
    "tree_estimator.predict(model,\n",
    "              altitude = dr_X_test.iloc[iloc_index, 0],\n",
    "              cadence = dr_X_test.iloc[iloc_index, 1],\n",
    "              enhanced_speed = dr_X_test.iloc[iloc_index, 2],\n",
    "              current_slope = dr_X_test.iloc[iloc_index, 3],\n",
    "              heart_rate = dr_X_test.iloc[iloc_index, 4],\n",
    "              distance = dr_X_test.iloc[iloc_index, 5],\n",
    "              weight = 85.5,\n",
    "              bike_wgt = 8.8\n",
    ")"
   ]
  },
  {
   "cell_type": "code",
   "execution_count": 166,
   "metadata": {},
   "outputs": [
    {
     "name": "stdout",
     "output_type": "stream",
     "text": [
      "RMSE: 0.14\n",
      "MAE: 0.20 W/kg (17.40 W)\n",
      "RMSE: 0.14\n",
      "MAE: 0.20 W/kg (17.44 W)\n",
      "RMSE: 0.14\n",
      "MAE: 0.20 W/kg (17.42 W)\n"
     ]
    }
   ],
   "source": [
    "# test on all DR files\n",
    "for f in os.listdir(\"\\\\\".join(strava_export_path.split(\"\\\\\")[:-1] + [\"\\\\data\\\\DR\"])):\n",
    "    if \".fit\" in f:\n",
    "        _, data = parse_fit.get_dataframes(\"{}\\\\{}\".format(\"\\\\\".join(strava_export_path.split(\"\\\\\")[:-1] + [\"\\\\data\\\\DR\"]), f ))\n",
    "\n",
    "        X_input, y_input = data_prep(dr, weight = 85.5, bike_wgt = 8.8, rest_hr = 55, max_hr = 195, split = False)\n",
    "\n",
    "        print(\"RMSE: {:.2f}\".format(mean_squared_error(y_input, model.predict(X_input), squared=True)))\n",
    "        print(\"MAE: {:.2f} W/kg ({:.2f} W)\".format(mean_absolute_error(y_input, model.predict(X_input)),\n",
    "                                                mean_absolute_error(y_input, model.predict(X_input)) * 85.5))"
   ]
  },
  {
   "cell_type": "code",
   "execution_count": 167,
   "metadata": {},
   "outputs": [
    {
     "name": "stdout",
     "output_type": "stream",
     "text": [
      "Tra pioggia e vento in FVG🌧\tDidn't work\n",
      "Morning Ride\tDidn't work\n",
      "Back in Veneto\tDidn't work\n",
      "Per chiudere l'anno \tDidn't work\n",
      "Day 2: Coospo e gambe scarichi\tDidn't work\n",
      "Morning Ride\tDidn't work\n",
      "Chill & a torn wrist \tDidn't work\n",
      "Allenamento #1\tDidn't work\n"
     ]
    }
   ],
   "source": [
    "# test on some of my FIT files\n",
    "sample_activities = activities_df[~(activities_df[\"Activity Name\"].str.contains(\"Zwift\")) &\n",
    "                                  (activities_df[\"Average Watts\"].notna()) &\n",
    "                                  (activities_df[\"Average Heart Rate\"].notna())][\"Activity Name\"].sample(50)\n",
    "\n",
    "deltas_avg_power = []\n",
    "for a in sample_activities:\n",
    "    # print(a)\n",
    "    \n",
    "    input_data = utils.slice_parquet_activity(activities_df, fit_file_points, a, col_subset=False)\n",
    "    if len(input_data) > 0:\n",
    "        X_input, y_input = data_prep(input_data, weight = 67, bike_wgt = 9.8, rest_hr = 57, max_hr = 195, split = False)\n",
    "\n",
    "        recording_interval = input_data[\"timestamp\"].diff().dropna().min().seconds\n",
    "        if X_input.isnull().sum().sum() == 0:\n",
    "            \n",
    "            prediction = model.predict(X_input)\n",
    "            # print(\"\\tZwift avg Watts: {:.2f}\".format(input_data[\"Average Watts\"].max()))\n",
    "            # print(\"\\tMODEL avg Watts: {:.2f}\".format(67 * prediction.mean()))\n",
    "\n",
    "            deltas_avg_power += [[a, input_data[\"Average Watts\"].max(), 67 * prediction.mean()]]\n",
    "            \n",
    "            # plt.figure(figsize = (16, 5))\n",
    "            # plt.plot(sorted(prediction, reverse=True), label = \"PREDICTED\")\n",
    "            # plt.axvline(60 / recording_interval, color = \"grey\", alpha = .5, ls = \"--\")\n",
    "            # plt.axvline(300 / recording_interval, color = \"grey\", alpha = .5, ls = \"--\")\n",
    "            # plt.axvline(3600 / recording_interval, color = \"grey\", alpha = .5, ls = \"--\")\n",
    "            # #plt.xlim(-20, len(X_input) * 1.1)\n",
    "            # #plt.xscale(\"log\")\n",
    "            # plt.legend()\n",
    "            # plt.show()\n",
    "    else:\n",
    "        print(f\"{a}\\tDidn't work\")"
   ]
  },
  {
   "cell_type": "code",
   "execution_count": 168,
   "metadata": {},
   "outputs": [],
   "source": [
    "deltas_avg_power = pd.DataFrame(deltas_avg_power,\n",
    "                                columns=[\"Activity Name\", \"Zwift avg Watts\", \"MODEL avg Watts\"])"
   ]
  },
  {
   "cell_type": "code",
   "execution_count": 169,
   "metadata": {},
   "outputs": [
    {
     "data": {
      "image/png": "[encoded data removed]",
      "text/plain": [
       "<Figure size 1152x648 with 1 Axes>"
      ]
     },
     "metadata": {
      "needs_background": "light"
     },
     "output_type": "display_data"
    }
   ],
   "source": [
    "error_n_datasets = deltas_avg_power.iloc[:, 1] - deltas_avg_power.iloc[:, 2]\n",
    "mean_error_n_datasets = error_n_datasets.mean()\n",
    "\n",
    "plt.figure(figsize=(16, 9))\n",
    "sns.kdeplot(error_n_datasets)\n",
    "plt.hist(error_n_datasets,\n",
    "         density=True, bins = np.arange(-150, 150, 10),\n",
    "         alpha = .5, color = \"lightblue\")\n",
    "plt.axvline(mean_error_n_datasets, ls = \"--\", color = \"grey\",\n",
    "            label = \"Mean value: %.2f\" % mean_error_n_datasets)\n",
    "plt.title(\"Error distribution on AVG POWER\")\n",
    "plt.legend()\n",
    "plt.show()"
   ]
  },
  {
   "cell_type": "code",
   "execution_count": 170,
   "metadata": {},
   "outputs": [
    {
     "name": "stdout",
     "output_type": "stream",
     "text": [
      "(547,) (547,) (547,) (547,) (547,)\n"
     ]
    }
   ],
   "source": [
    "print(model.tree_.threshold.shape,\n",
    "      model.tree_.feature.shape,\n",
    "      model.tree_.children_left.shape,\n",
    "      model.tree_.children_right.shape,\n",
    "      model.tree_.value.flatten().shape)\n",
    "\n",
    "output_model_file = pd.DataFrame({\"threshold\": model.tree_.threshold,\n",
    "                                  \"feature\": model.tree_.feature,\n",
    "                                  \"children_left\": model.tree_.children_left,\n",
    "                                  \"children_right\": model.tree_.children_right,\n",
    "                                  \"value\": model.tree_.value.flatten()})\n",
    "\n",
    "output_model_file.to_csv(\"./model/model_parameters.csv\", index = False)"
   ]
  },
  {
   "cell_type": "markdown",
   "metadata": {},
   "source": [
    "---\n",
    "---\n",
    "---"
   ]
  },
  {
   "cell_type": "code",
   "execution_count": 177,
   "metadata": {},
   "outputs": [],
   "source": [
    "# activities_df[activities_df[\"Filename\"] == \"13480236818.fit\"]\n",
    "\n",
    "simulation_file = utils.slice_parquet_activity(activities_df, fit_file_points, \"GF IlLombardia\")"
   ]
  },
  {
   "cell_type": "code",
   "execution_count": 183,
   "metadata": {},
   "outputs": [
    {
     "data": {
      "text/html": [
       "<div>\n",
       "<style scoped>\n",
       "    .dataframe tbody tr th:only-of-type {\n",
       "        vertical-align: middle;\n",
       "    }\n",
       "\n",
       "    .dataframe tbody tr th {\n",
       "        vertical-align: top;\n",
       "    }\n",
       "\n",
       "    .dataframe thead th {\n",
       "        text-align: right;\n",
       "    }\n",
       "</style>\n",
       "<table border=\"1\" class=\"dataframe\">\n",
       "  <thead>\n",
       "    <tr style=\"text-align: right;\">\n",
       "      <th></th>\n",
       "      <th>altitude</th>\n",
       "      <th>cadence</th>\n",
       "      <th>speed</th>\n",
       "      <th>current_slope</th>\n",
       "      <th>heart_rate</th>\n",
       "      <th>distance</th>\n",
       "    </tr>\n",
       "  </thead>\n",
       "  <tbody>\n",
       "    <tr>\n",
       "      <th>0</th>\n",
       "      <td>305.2</td>\n",
       "      <td>75.0</td>\n",
       "      <td>7.651</td>\n",
       "      <td>NaN</td>\n",
       "      <td>158.0</td>\n",
       "      <td>0.00</td>\n",
       "    </tr>\n",
       "    <tr>\n",
       "      <th>1</th>\n",
       "      <td>305.2</td>\n",
       "      <td>75.0</td>\n",
       "      <td>8.071</td>\n",
       "      <td>NaN</td>\n",
       "      <td>159.0</td>\n",
       "      <td>0.00</td>\n",
       "    </tr>\n",
       "    <tr>\n",
       "      <th>2</th>\n",
       "      <td>305.4</td>\n",
       "      <td>75.0</td>\n",
       "      <td>8.454</td>\n",
       "      <td>NaN</td>\n",
       "      <td>160.0</td>\n",
       "      <td>47.35</td>\n",
       "    </tr>\n",
       "    <tr>\n",
       "      <th>3</th>\n",
       "      <td>305.8</td>\n",
       "      <td>82.0</td>\n",
       "      <td>9.284</td>\n",
       "      <td>NaN</td>\n",
       "      <td>161.0</td>\n",
       "      <td>101.00</td>\n",
       "    </tr>\n",
       "    <tr>\n",
       "      <th>4</th>\n",
       "      <td>306.2</td>\n",
       "      <td>84.0</td>\n",
       "      <td>9.032</td>\n",
       "      <td>NaN</td>\n",
       "      <td>163.0</td>\n",
       "      <td>147.12</td>\n",
       "    </tr>\n",
       "    <tr>\n",
       "      <th>5</th>\n",
       "      <td>306.6</td>\n",
       "      <td>86.0</td>\n",
       "      <td>9.527</td>\n",
       "      <td>NaN</td>\n",
       "      <td>163.0</td>\n",
       "      <td>193.04</td>\n",
       "    </tr>\n",
       "    <tr>\n",
       "      <th>6</th>\n",
       "      <td>306.8</td>\n",
       "      <td>88.0</td>\n",
       "      <td>9.704</td>\n",
       "      <td>NaN</td>\n",
       "      <td>163.0</td>\n",
       "      <td>240.04</td>\n",
       "    </tr>\n",
       "    <tr>\n",
       "      <th>7</th>\n",
       "      <td>306.6</td>\n",
       "      <td>89.0</td>\n",
       "      <td>10.003</td>\n",
       "      <td>NaN</td>\n",
       "      <td>164.0</td>\n",
       "      <td>287.01</td>\n",
       "    </tr>\n",
       "    <tr>\n",
       "      <th>8</th>\n",
       "      <td>306.8</td>\n",
       "      <td>92.0</td>\n",
       "      <td>9.891</td>\n",
       "      <td>0.106086</td>\n",
       "      <td>164.0</td>\n",
       "      <td>317.44</td>\n",
       "    </tr>\n",
       "    <tr>\n",
       "      <th>9</th>\n",
       "      <td>306.8</td>\n",
       "      <td>92.0</td>\n",
       "      <td>10.152</td>\n",
       "      <td>0.190469</td>\n",
       "      <td>164.0</td>\n",
       "      <td>337.86</td>\n",
       "    </tr>\n",
       "  </tbody>\n",
       "</table>\n",
       "</div>"
      ],
      "text/plain": [
       "   altitude  cadence   speed  current_slope  heart_rate  distance\n",
       "0     305.2     75.0   7.651            NaN       158.0      0.00\n",
       "1     305.2     75.0   8.071            NaN       159.0      0.00\n",
       "2     305.4     75.0   8.454            NaN       160.0     47.35\n",
       "3     305.8     82.0   9.284            NaN       161.0    101.00\n",
       "4     306.2     84.0   9.032            NaN       163.0    147.12\n",
       "5     306.6     86.0   9.527            NaN       163.0    193.04\n",
       "6     306.8     88.0   9.704            NaN       163.0    240.04\n",
       "7     306.6     89.0  10.003            NaN       164.0    287.01\n",
       "8     306.8     92.0   9.891       0.106086       164.0    317.44\n",
       "9     306.8     92.0  10.152       0.190469       164.0    337.86"
      ]
     },
     "execution_count": 183,
     "metadata": {},
     "output_type": "execute_result"
    }
   ],
   "source": [
    "simulation_file[[\"altitude\", \"cadence\", \"speed\", \"current_slope\", \"heart_rate\", \"distance\"]].head(10)"
   ]
  }
 ],
 "metadata": {
  "kernelspec": {
   "display_name": "Python 3",
   "language": "python",
   "name": "python3"
  },
  "language_info": {
   "codemirror_mode": {
    "name": "ipython",
    "version": 3
   },
   "file_extension": ".py",
   "mimetype": "text/x-python",
   "name": "python",
   "nbconvert_exporter": "python",
   "pygments_lexer": "ipython3",
   "version": "3.8.10"
  }
 },
 "nbformat": 4,
 "nbformat_minor": 2
}
