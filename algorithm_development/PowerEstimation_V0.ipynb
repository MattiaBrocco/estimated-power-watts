{
 "cells": [
  {
   "cell_type": "code",
   "execution_count": 117,
   "metadata": {},
   "outputs": [
    {
     "name": "stdout",
     "output_type": "stream",
     "text": [
      "Python 3.8.10\n",
      "pandas 1.4.2\n",
      "numpy 1.22.4\n",
      "sklearn 1.3.2\n"
     ]
    }
   ],
   "source": [
    "### Python 3.8.10\n",
    "# major requirements below\n",
    "\n",
    "!python --version\n",
    "\n",
    "import pandas\n",
    "print(\"pandas\", pandas.__version__)\n",
    "\n",
    "import numpy\n",
    "print(\"numpy\", numpy.__version__)\n",
    "\n",
    "import sklearn\n",
    "print(\"sklearn\", sklearn.__version__)"
   ]
  },
  {
   "cell_type": "code",
   "execution_count": null,
   "metadata": {},
   "outputs": [
    {
     "name": "stdout",
     "output_type": "stream",
     "text": [
      "The autoreload extension is already loaded. To reload it, use:\n",
      "  %reload_ext autoreload\n"
     ]
    }
   ],
   "source": [
    "\n",
    "\n",
    "import os\n",
    "import sys\n",
    "import numpy as np\n",
    "import pandas as pd\n",
    "import seaborn as sns\n",
    "import matplotlib.pyplot as plt\n",
    "\n",
    "if os.getcwd().replace(\"algorithm_development\", \"utils\") not in sys.path:\n",
    "    sys.path.append(os.getcwd().replace(\"algorithm_development\", \"utils\"))\n",
    "\n",
    "import utils\n",
    "import parse_fit\n",
    "\n",
    "pd.options.display.max_columns = 100\n",
    "\n",
    "%load_ext autoreload\n",
    "%autoreload 2"
   ]
  },
  {
   "cell_type": "code",
   "execution_count": 2,
   "metadata": {},
   "outputs": [],
   "source": [
    "strava_export_path = \"\\\\\".join(os.getcwd().split(\"\\\\\")[:-2]) + \"\\\\export_105647830\""
   ]
  },
  {
   "cell_type": "code",
   "execution_count": 3,
   "metadata": {},
   "outputs": [],
   "source": [
    "activities_df = pd.read_csv(f\"{strava_export_path}\\\\activities.csv\")\n",
    "activities_df[\"Filename\"] = activities_df[\"Filename\"].apply(lambda v: v.split(\"/\")[1].replace(\".gz\", \"\")\n",
    "                                                            if isinstance(v, str) else v)"
   ]
  },
  {
   "cell_type": "code",
   "execution_count": 4,
   "metadata": {},
   "outputs": [],
   "source": [
    "list_of_fit_files = [\"\\\\\".join((strava_export_path + \"\\\\activities\", v)) for v in os.listdir(strava_export_path + \"\\\\activities\")\n",
    "                     if \".gpx\" not in v and \".gz\" not in v]\n",
    "list_of_gpx_files = [\"\\\\\".join((strava_export_path + \"\\\\activities\", v)) for v in os.listdir(strava_export_path + \"\\\\activities\")\n",
    "                     if \".gpx\" in v]"
   ]
  },
  {
   "cell_type": "code",
   "execution_count": 5,
   "metadata": {},
   "outputs": [],
   "source": [
    "# SAVE FILES TO AVOID RECOMPUTING EACH TIME\n",
    "fit_file_laps = pd.read_parquet(\"{}\\\\fit_file_laps.parquet\".format(\"\\\\\".join(strava_export_path.split(\"\\\\\")[:-1] + [\"\\\\data\"])))\n",
    "fit_file_points = pd.read_parquet(\"{}\\\\fit_file_points.parquet\".format(\"\\\\\".join(strava_export_path.split(\"\\\\\")[:-1] + [\"\\\\data\"])))"
   ]
  },
  {
   "cell_type": "code",
   "execution_count": 13,
   "metadata": {},
   "outputs": [
    {
     "data": {
      "text/html": [
       "<div>\n",
       "<style scoped>\n",
       "    .dataframe tbody tr th:only-of-type {\n",
       "        vertical-align: middle;\n",
       "    }\n",
       "\n",
       "    .dataframe tbody tr th {\n",
       "        vertical-align: top;\n",
       "    }\n",
       "\n",
       "    .dataframe thead th {\n",
       "        text-align: right;\n",
       "    }\n",
       "</style>\n",
       "<table border=\"1\" class=\"dataframe\">\n",
       "  <thead>\n",
       "    <tr style=\"text-align: right;\">\n",
       "      <th></th>\n",
       "      <th>FileName</th>\n",
       "      <th>lap</th>\n",
       "      <th>distance</th>\n",
       "      <th>speed</th>\n",
       "      <th>enhanced_speed</th>\n",
       "      <th>heart_rate</th>\n",
       "      <th>power</th>\n",
       "      <th>cadence</th>\n",
       "      <th>grade</th>\n",
       "      <th>slope</th>\n",
       "      <th>current_slope</th>\n",
       "      <th>altitude</th>\n",
       "      <th>enhanced_altitude</th>\n",
       "      <th>filtered_altitude</th>\n",
       "      <th>latitude</th>\n",
       "      <th>position_lat</th>\n",
       "      <th>longitude</th>\n",
       "      <th>position_long</th>\n",
       "      <th>temperature</th>\n",
       "      <th>time_from_course</th>\n",
       "      <th>timestamp</th>\n",
       "      <th>Activity Name</th>\n",
       "      <th>Athlete Weight</th>\n",
       "      <th>Bike Weight</th>\n",
       "      <th>Weighted Average Power</th>\n",
       "    </tr>\n",
       "  </thead>\n",
       "  <tbody>\n",
       "    <tr>\n",
       "      <th>0</th>\n",
       "      <td>12109821153.fit</td>\n",
       "      <td>1</td>\n",
       "      <td>0.00</td>\n",
       "      <td>4.124</td>\n",
       "      <td>4.124</td>\n",
       "      <td>103.0</td>\n",
       "      <td>NaN</td>\n",
       "      <td>35.0</td>\n",
       "      <td>NaN</td>\n",
       "      <td>NaN</td>\n",
       "      <td>NaN</td>\n",
       "      <td>275.4</td>\n",
       "      <td>275.4</td>\n",
       "      <td>NaN</td>\n",
       "      <td>45.710826</td>\n",
       "      <td>545351401</td>\n",
       "      <td>9.677776</td>\n",
       "      <td>115460361</td>\n",
       "      <td>NaN</td>\n",
       "      <td>None</td>\n",
       "      <td>2024-05-05 05:02:41+00:00</td>\n",
       "      <td>Granfondo BGY</td>\n",
       "      <td>NaN</td>\n",
       "      <td>9.8</td>\n",
       "      <td>NaN</td>\n",
       "    </tr>\n",
       "    <tr>\n",
       "      <th>1</th>\n",
       "      <td>12109821153.fit</td>\n",
       "      <td>1</td>\n",
       "      <td>20.01</td>\n",
       "      <td>3.284</td>\n",
       "      <td>3.284</td>\n",
       "      <td>109.0</td>\n",
       "      <td>NaN</td>\n",
       "      <td>61.0</td>\n",
       "      <td>NaN</td>\n",
       "      <td>NaN</td>\n",
       "      <td>NaN</td>\n",
       "      <td>275.0</td>\n",
       "      <td>275.0</td>\n",
       "      <td>NaN</td>\n",
       "      <td>45.710653</td>\n",
       "      <td>545349329</td>\n",
       "      <td>9.677843</td>\n",
       "      <td>115461167</td>\n",
       "      <td>NaN</td>\n",
       "      <td>None</td>\n",
       "      <td>2024-05-05 05:02:45+00:00</td>\n",
       "      <td>Granfondo BGY</td>\n",
       "      <td>NaN</td>\n",
       "      <td>9.8</td>\n",
       "      <td>NaN</td>\n",
       "    </tr>\n",
       "  </tbody>\n",
       "</table>\n",
       "</div>"
      ],
      "text/plain": [
       "          FileName  lap  distance  speed  enhanced_speed  heart_rate  power  \\\n",
       "0  12109821153.fit    1      0.00  4.124           4.124       103.0    NaN   \n",
       "1  12109821153.fit    1     20.01  3.284           3.284       109.0    NaN   \n",
       "\n",
       "   cadence  grade  slope  current_slope  altitude  enhanced_altitude  \\\n",
       "0     35.0    NaN    NaN            NaN     275.4              275.4   \n",
       "1     61.0    NaN    NaN            NaN     275.0              275.0   \n",
       "\n",
       "   filtered_altitude   latitude  position_lat  longitude  position_long  \\\n",
       "0                NaN  45.710826     545351401   9.677776      115460361   \n",
       "1                NaN  45.710653     545349329   9.677843      115461167   \n",
       "\n",
       "   temperature time_from_course                 timestamp  Activity Name  \\\n",
       "0          NaN             None 2024-05-05 05:02:41+00:00  Granfondo BGY   \n",
       "1          NaN             None 2024-05-05 05:02:45+00:00  Granfondo BGY   \n",
       "\n",
       "   Athlete Weight  Bike Weight  Weighted Average Power  \n",
       "0             NaN          9.8                     NaN  \n",
       "1             NaN          9.8                     NaN  "
      ]
     },
     "execution_count": 13,
     "metadata": {},
     "output_type": "execute_result"
    }
   ],
   "source": [
    "example = utils.slice_parquet_activity(activities_df, fit_file_points, \"Granfondo BGY\")\n",
    "example.head(2)"
   ]
  },
  {
   "cell_type": "code",
   "execution_count": 18,
   "metadata": {},
   "outputs": [
    {
     "data": {
      "text/plain": [
       "8.420499165721347"
      ]
     },
     "execution_count": 18,
     "metadata": {},
     "output_type": "execute_result"
    }
   ],
   "source": [
    "utils.compute_power(weight=85.5, bike_wgt=8.8, speed=5.524, slope=7.097182)"
   ]
  },
  {
   "cell_type": "code",
   "execution_count": 22,
   "metadata": {},
   "outputs": [],
   "source": [
    "from sklearn import tree\n",
    "from sklearn.metrics import r2_score\n",
    "from sklearn.tree import DecisionTreeRegressor\n",
    "from sklearn.metrics import mean_squared_error\n",
    "from sklearn.metrics import mean_absolute_error\n",
    "from sklearn.model_selection import GridSearchCV\n",
    "from sklearn.linear_model import LinearRegression\n",
    "from sklearn.model_selection import train_test_split\n",
    "from sklearn.metrics import mean_absolute_percentage_error"
   ]
  },
  {
   "cell_type": "code",
   "execution_count": 20,
   "metadata": {},
   "outputs": [],
   "source": [
    "def data_prep(df, weight, bike_wgt, rest_hr, max_hr, split = True, has_real_power = True):\n",
    "    Xy = df[[\"altitude\", \"cadence\", \"enhanced_speed\", \"current_slope\", \"heart_rate\", \"distance\", \"power\"]].copy()\n",
    "    # heart_rate w.r.t. rest HR and max HR\n",
    "    Xy[\"heart_rate\"] = 100 * (Xy['heart_rate']/ (max_hr-rest_hr))\n",
    "    Xy[\"heart_rate\"] = Xy[\"heart_rate\"].bfill()\n",
    "    Xy[\"current_slope\"] = Xy[\"current_slope\"].fillna(0)\n",
    "    Xy.loc[(Xy[\"cadence\"].isnull()) & (Xy[\"enhanced_speed\"] == 0), \"cadence\"] = 0\n",
    "    Xy[\"distance\"] = Xy[\"distance\"] / 1000\n",
    "    Xy[\"power\"] = Xy[\"power\"].fillna(0)\n",
    "    Xy[\"power\"] = Xy[\"power\"]/weight\n",
    "\n",
    "    # Xy[\"athlete_weight\"] = 85.5\n",
    "    # Xy[\"bike_weight\"] = 8.8\n",
    "\n",
    "    Xy = Xy.dropna(how = \"any\").reset_index(drop = True)\n",
    "\n",
    "    Xy[\"estimated_power\"] = Xy.apply(lambda row: utils.compute_power(weight = weight, bike_wgt = bike_wgt,\n",
    "                                                                     speed = row[\"enhanced_speed\"],\n",
    "                                                                     slope = row[\"current_slope\"]),\n",
    "                                    axis = 1)\n",
    "\n",
    "    X = Xy.drop(\"power\", axis = 1)\n",
    "    y = Xy[\"power\"]\n",
    "    \n",
    "    if split:\n",
    "        X_train, X_test, y_train, y_test = train_test_split(X, y, test_size=0.3, random_state=42, shuffle = True)\n",
    "        return X_train, X_test, y_train, y_test\n",
    "    else:\n",
    "        return X, y"
   ]
  },
  {
   "cell_type": "code",
   "execution_count": 23,
   "metadata": {},
   "outputs": [],
   "source": [
    "def model_pipeline(X_train, X_test, y_train, y_test, weight, early_stop = False):\n",
    "    # Uneducated guess\n",
    "    print(\"RMSE: {:.2f}\".format(mean_squared_error(y_train, X_train[\"estimated_power\"], squared=False)))\n",
    "    print(\"MAE: {:.2f} W/kg ({:.2f} W)\".format(mean_absolute_error(y_train, X_train[\"estimated_power\"]),\n",
    "                                               mean_absolute_error(y_train, X_train[\"estimated_power\"]) * weight))\n",
    "\n",
    "    plt.figure(figsize = (16, 5))\n",
    "    plt.plot(sorted(pd.concat([y_train, y_test], ignore_index=True))[::-1], label = \"REAL POWER\")\n",
    "    plt.plot(sorted(pd.concat([X_train, X_test], ignore_index=True)[\"estimated_power\"])[::-1], label = \"PREDICTED\")\n",
    "    plt.title(\"UNEDUCATED GUESS - Test power curve\")\n",
    "    plt.legend()\n",
    "    plt.show()\n",
    "\n",
    "    if early_stop:\n",
    "        return None\n",
    "\n",
    "    # Initialize a Decision Tree Classifier\n",
    "\n",
    "    d3 = DecisionTreeRegressor(random_state = 101, criterion = \"absolute_error\")\n",
    "    d3.fit(X_train, y_train)\n",
    "    print(\"Tree Train RMSE: {:.4f}\\n\".format((mean_squared_error(y_train, d3.predict(X_train), squared=True))))\n",
    "\n",
    "    # Compute impurities to look for an adequate pruning term\n",
    "    path = d3.cost_complexity_pruning_path(X_train, y_train)\n",
    "    ccp_alphas, impurities = path.ccp_alphas, path.impurities\n",
    "    # Plot the impurity level given ccp_alpha\n",
    "    plt.plot(ccp_alphas[:-1], impurities[:-1], marker = \"o\", drawstyle = \"steps-post\")\n",
    "    plt.xlabel(\"effective alpha\")\n",
    "    plt.ylabel(\"total impurity of leaves\")\n",
    "    plt.title(\"Total Impurity vs effective alpha for training set\")\n",
    "    plt.show()\n",
    "\n",
    "    # Tree Pruning (we are overfitting - Accuracy: 100% in training)\n",
    "    tree_params = {\"ccp_alpha\":[ccp_alphas[impurities < impty].max()\n",
    "                                for impty in np.linspace(0.1, np.round(impurities.max()/2, 3),\n",
    "                                                        num = 5)]}\n",
    "\n",
    "    tree_grid = GridSearchCV(DecisionTreeRegressor(random_state = 101, criterion = \"absolute_error\"),\n",
    "                            tree_params, cv = 3, n_jobs = 6, verbose = 10,\n",
    "                            return_train_score = True)\n",
    "    tree_grid.fit(X_train, y_train)\n",
    "\n",
    "    # Show the results\n",
    "    print(\"With ReLU\")\n",
    "    print(\"RMSE: {:.2f}\".format(mean_squared_error(y_test, utils.ReLU(tree_grid.best_estimator_.predict(X_test)), squared=True)))\n",
    "    print(\"MAE: {:.2f} W/kg ({:.2f} W)\".format(mean_absolute_error(y_test, utils.ReLU(tree_grid.best_estimator_.predict(X_test))),\n",
    "                                               mean_absolute_error(y_test, utils.ReLU(tree_grid.best_estimator_.predict(X_test))) * weight))\n",
    "    # print(\"MAPE: {:.2f} %\".format(100*mean_absolute_percentage_error(y_test, ReLU(tree_grid.best_estimator_.predict(X_test)))))\n",
    "    print()\n",
    "    print(\"Without ReLU\")\n",
    "    print(\"RMSE: {:.2f}\".format(mean_squared_error(y_test, tree_grid.best_estimator_.predict(X_test), squared=True)))\n",
    "    print(\"MAE: {:.2f} W/kg ({:.2f} W)\".format(mean_absolute_error(y_test, tree_grid.best_estimator_.predict(X_test)),\n",
    "                                               mean_absolute_error(y_test, tree_grid.best_estimator_.predict(X_test)) * weight))\n",
    "    # print(\"MAPE: {:.2f} %\".format(100*mean_absolute_percentage_error(y_test, tree_grid.best_estimator_.predict(X_test))))\n",
    "\n",
    "    plt.figure(figsize = (16, 5))\n",
    "    plt.plot(sorted(y_test)[::-1], label = \"REAL POWER\", lw = 5)\n",
    "    plt.plot(sorted(utils.ReLU(tree_grid.best_estimator_.predict(X_test)))[::-1], label = \"PREDICTED + RELU\", lw = 5)\n",
    "    plt.plot(sorted(tree_grid.best_estimator_.predict(X_test))[::-1], label = \"PREDICTED\", alpha = .8, ls = \"--\")\n",
    "    plt.title(\"DECISION TREE - Test power curve\")\n",
    "    plt.legend()\n",
    "    plt.show()\n",
    "\n",
    "    return tree_grid.best_estimator_"
   ]
  },
  {
   "cell_type": "code",
   "execution_count": 24,
   "metadata": {},
   "outputs": [],
   "source": [
    "_, dr = parse_fit.get_dataframes(\"{}\\\\16438299806_ACTIVITY.fit\".format(\"\\\\\".join(strava_export_path.split(\"\\\\\")[:-1] + [\"\\\\data\\\\DR\"])))"
   ]
  },
  {
   "cell_type": "code",
   "execution_count": 26,
   "metadata": {},
   "outputs": [
    {
     "name": "stdout",
     "output_type": "stream",
     "text": [
      "RMSE: 1.83\n",
      "MAE: 1.22 W/kg (103.97 W)\n"
     ]
    },
    {
     "data": {
      "image/png": "[encoded data removed]",
      "text/plain": [
       "<Figure size 1152x360 with 1 Axes>"
      ]
     },
     "metadata": {
      "needs_background": "light"
     },
     "output_type": "display_data"
    },
    {
     "name": "stdout",
     "output_type": "stream",
     "text": [
      "Tree Train RMSE: 0.0000\n",
      "\n"
     ]
    },
    {
     "data": {
      "image/png": "[encoded data removed]",
      "text/plain": [
       "<Figure size 432x288 with 1 Axes>"
      ]
     },
     "metadata": {
      "needs_background": "light"
     },
     "output_type": "display_data"
    },
    {
     "name": "stdout",
     "output_type": "stream",
     "text": [
      "Fitting 3 folds for each of 5 candidates, totalling 15 fits\n",
      "With ReLU\n",
      "RMSE: 0.19\n",
      "MAE: 0.24 W/kg (20.23 W)\n",
      "\n",
      "Without ReLU\n",
      "RMSE: 0.19\n",
      "MAE: 0.24 W/kg (20.23 W)\n"
     ]
    },
    {
     "data": {
      "image/png": "[encoded data removed]",
      "text/plain": [
       "<Figure size 1152x360 with 1 Axes>"
      ]
     },
     "metadata": {
      "needs_background": "light"
     },
     "output_type": "display_data"
    }
   ],
   "source": [
    "dr_X_train, dr_X_test, dr_y_train, dr_y_test = data_prep(dr, weight = 85.5, bike_wgt = 8.8, rest_hr = 55, max_hr = 195)\n",
    "model = model_pipeline(dr_X_train, dr_X_test, dr_y_train, dr_y_test, weight = 85.5)"
   ]
  },
  {
   "cell_type": "code",
   "execution_count": 27,
   "metadata": {},
   "outputs": [
    {
     "name": "stdout",
     "output_type": "stream",
     "text": [
      "RMSE: 0.14\n",
      "MAE: 0.21 W/kg (17.55 W)\n",
      "RMSE: 0.14\n",
      "MAE: 0.20 W/kg (17.53 W)\n",
      "RMSE: 0.14\n",
      "MAE: 0.20 W/kg (17.48 W)\n"
     ]
    }
   ],
   "source": [
    "# test on all DR files\n",
    "for f in os.listdir(\"\\\\\".join(strava_export_path.split(\"\\\\\")[:-1] + [\"\\\\data\\\\DR\"])):\n",
    "    if \".fit\" in f:\n",
    "        _, data = parse_fit.get_dataframes(\"{}\\\\{}\".format(\"\\\\\".join(strava_export_path.split(\"\\\\\")[:-1] + [\"\\\\data\\\\DR\"]), f ))\n",
    "\n",
    "        X_input, y_input = data_prep(dr, weight = 85.5, bike_wgt = 8.8, rest_hr = 55, max_hr = 195, split = False)\n",
    "\n",
    "        print(\"RMSE: {:.2f}\".format(mean_squared_error(y_input, model.predict(X_input), squared=True)))\n",
    "        print(\"MAE: {:.2f} W/kg ({:.2f} W)\".format(mean_absolute_error(y_input, model.predict(X_input)),\n",
    "                                                mean_absolute_error(y_input, model.predict(X_input)) * 85.5))"
   ]
  },
  {
   "cell_type": "code",
   "execution_count": 65,
   "metadata": {},
   "outputs": [
    {
     "name": "stdout",
     "output_type": "stream",
     "text": [
      "Per chiudere l'anno \tDidn't work\n",
      "Morning Ride\tDidn't work\n",
      "Tra pioggia e vento in FVG🌧\tDidn't work\n",
      "Day 2: Coospo e gambe scarichi\tDidn't work\n",
      "Back in Veneto\tDidn't work\n",
      "Allenamento #1\tDidn't work\n",
      "Chill & a torn wrist \tDidn't work\n"
     ]
    }
   ],
   "source": [
    "# test on some of my FIT files\n",
    "sample_activities = activities_df[~(activities_df[\"Activity Name\"].str.contains(\"Zwift\")) &\n",
    "                                  (activities_df[\"Average Watts\"].notna()) &\n",
    "                                  (activities_df[\"Average Heart Rate\"].notna())][\"Activity Name\"].sample(50)\n",
    "\n",
    "deltas_avg_power = []\n",
    "for a in sample_activities:\n",
    "    # print(a)\n",
    "    \n",
    "    input_data = utils.slice_parquet_activity(activities_df, fit_file_points, a, col_subset=False)\n",
    "    if len(input_data) > 0:\n",
    "        X_input, y_input = data_prep(input_data, weight = 67, bike_wgt = 9.8, rest_hr = 57, max_hr = 195, split = False)\n",
    "\n",
    "        recording_interval = input_data[\"timestamp\"].diff().dropna().min().seconds\n",
    "        if X_input.isnull().sum().sum() == 0:\n",
    "            \n",
    "            prediction = model.predict(X_input)\n",
    "            # print(\"\\tZwift avg Watts: {:.2f}\".format(input_data[\"Average Watts\"].max()))\n",
    "            # print(\"\\tMODEL avg Watts: {:.2f}\".format(67 * prediction.mean()))\n",
    "\n",
    "            deltas_avg_power += [[a, input_data[\"Average Watts\"].max(), 67 * prediction.mean()]]\n",
    "            \n",
    "            # plt.figure(figsize = (16, 5))\n",
    "            # plt.plot(sorted(prediction, reverse=True), label = \"PREDICTED\")\n",
    "            # plt.axvline(60 / recording_interval, color = \"grey\", alpha = .5, ls = \"--\")\n",
    "            # plt.axvline(300 / recording_interval, color = \"grey\", alpha = .5, ls = \"--\")\n",
    "            # plt.axvline(3600 / recording_interval, color = \"grey\", alpha = .5, ls = \"--\")\n",
    "            # #plt.xlim(-20, len(X_input) * 1.1)\n",
    "            # #plt.xscale(\"log\")\n",
    "            # plt.legend()\n",
    "            # plt.show()\n",
    "    else:\n",
    "        print(f\"{a}\\tDidn't work\")"
   ]
  },
  {
   "cell_type": "code",
   "execution_count": 66,
   "metadata": {},
   "outputs": [],
   "source": [
    "deltas_avg_power = pd.DataFrame(deltas_avg_power,\n",
    "                                columns=[\"Activity Name\", \"Zwift avg Watts\", \"MODEL avg Watts\"])"
   ]
  },
  {
   "cell_type": "code",
   "execution_count": 69,
   "metadata": {},
   "outputs": [
    {
     "data": {
      "image/png": "[encoded data removed]",
      "text/plain": [
       "<Figure size 1152x648 with 1 Axes>"
      ]
     },
     "metadata": {
      "needs_background": "light"
     },
     "output_type": "display_data"
    }
   ],
   "source": [
    "error_n_datasets = deltas_avg_power.iloc[:, 1] - deltas_avg_power.iloc[:, 2]\n",
    "mean_error_n_datasets = error_n_datasets.mean()\n",
    "\n",
    "plt.figure(figsize=(16, 9))\n",
    "sns.kdeplot(error_n_datasets)\n",
    "plt.hist(error_n_datasets,\n",
    "         density=True, bins = np.arange(-150, 150, 10),\n",
    "         alpha = .5, color = \"lightblue\")\n",
    "plt.axvline(mean_error_n_datasets, ls = \"--\", color = \"grey\",\n",
    "            label = \"Mean value: %.2f\" % mean_error_n_datasets)\n",
    "plt.title(\"Error distribution on AVG POWER\")\n",
    "plt.legend()\n",
    "plt.show()"
   ]
  },
  {
   "cell_type": "code",
   "execution_count": 80,
   "metadata": {},
   "outputs": [
    {
     "name": "stdout",
     "output_type": "stream",
     "text": [
      "Help on class Tree in module sklearn.tree._tree:\n",
      "\n",
      "class Tree(builtins.object)\n",
      " |  Array-based representation of a binary decision tree.\n",
      " |  \n",
      " |  The binary tree is represented as a number of parallel arrays. The i-th\n",
      " |  element of each array holds information about the node `i`. Node 0 is the\n",
      " |  tree's root. You can find a detailed description of all arrays in\n",
      " |  `_tree.pxd`. NOTE: Some of the arrays only apply to either leaves or split\n",
      " |  nodes, resp. In this case the values of nodes of the other type are\n",
      " |  arbitrary!\n",
      " |  \n",
      " |  Attributes\n",
      " |  ----------\n",
      " |  node_count : int\n",
      " |      The number of nodes (internal nodes + leaves) in the tree.\n",
      " |  \n",
      " |  capacity : int\n",
      " |      The current capacity (i.e., size) of the arrays, which is at least as\n",
      " |      great as `node_count`.\n",
      " |  \n",
      " |  max_depth : int\n",
      " |      The depth of the tree, i.e. the maximum depth of its leaves.\n",
      " |  \n",
      " |  children_left : array of int, shape [node_count]\n",
      " |      children_left[i] holds the node id of the left child of node i.\n",
      " |      For leaves, children_left[i] == TREE_LEAF. Otherwise,\n",
      " |      children_left[i] > i. This child handles the case where\n",
      " |      X[:, feature[i]] <= threshold[i].\n",
      " |  \n",
      " |  children_right : array of int, shape [node_count]\n",
      " |      children_right[i] holds the node id of the right child of node i.\n",
      " |      For leaves, children_right[i] == TREE_LEAF. Otherwise,\n",
      " |      children_right[i] > i. This child handles the case where\n",
      " |      X[:, feature[i]] > threshold[i].\n",
      " |  \n",
      " |  n_leaves : int\n",
      " |      Number of leaves in the tree.\n",
      " |  \n",
      " |  feature : array of int, shape [node_count]\n",
      " |      feature[i] holds the feature to split on, for the internal node i.\n",
      " |  \n",
      " |  threshold : array of double, shape [node_count]\n",
      " |      threshold[i] holds the threshold for the internal node i.\n",
      " |  \n",
      " |  value : array of double, shape [node_count, n_outputs, max_n_classes]\n",
      " |      Contains the constant prediction value of each node.\n",
      " |  \n",
      " |  impurity : array of double, shape [node_count]\n",
      " |      impurity[i] holds the impurity (i.e., the value of the splitting\n",
      " |      criterion) at node i.\n",
      " |  \n",
      " |  n_node_samples : array of int, shape [node_count]\n",
      " |      n_node_samples[i] holds the number of training samples reaching node i.\n",
      " |  \n",
      " |  weighted_n_node_samples : array of double, shape [node_count]\n",
      " |      weighted_n_node_samples[i] holds the weighted number of training samples\n",
      " |      reaching node i.\n",
      " |  \n",
      " |  missing_go_to_left : array of bool, shape [node_count]\n",
      " |      missing_go_to_left[i] holds a bool indicating whether or not there were\n",
      " |      missing values at node i.\n",
      " |  \n",
      " |  Methods defined here:\n",
      " |  \n",
      " |  __getstate__(...)\n",
      " |      Getstate re-implementation, for pickling.\n",
      " |  \n",
      " |  __reduce__(...)\n",
      " |      Reduce re-implementation, for pickling.\n",
      " |  \n",
      " |  __setstate__(...)\n",
      " |      Setstate re-implementation, for unpickling.\n",
      " |  \n",
      " |  apply(...)\n",
      " |      Finds the terminal region (=leaf node) for each sample in X.\n",
      " |  \n",
      " |  compute_feature_importances(...)\n",
      " |      Computes the importance of each feature (aka variable).\n",
      " |  \n",
      " |  compute_node_depths(...)\n",
      " |      Compute the depth of each node in a tree.\n",
      " |      \n",
      " |      .. versionadded:: 1.3\n",
      " |      \n",
      " |      Returns\n",
      " |      -------\n",
      " |      depths : ndarray of shape (self.node_count,), dtype=np.int64\n",
      " |          The depth of each node in the tree.\n",
      " |  \n",
      " |  compute_partial_dependence(...)\n",
      " |      Partial dependence of the response on the ``target_feature`` set.\n",
      " |      \n",
      " |      For each sample in ``X`` a tree traversal is performed.\n",
      " |      Each traversal starts from the root with weight 1.0.\n",
      " |      \n",
      " |      At each non-leaf node that splits on a target feature, either\n",
      " |      the left child or the right child is visited based on the feature\n",
      " |      value of the current sample, and the weight is not modified.\n",
      " |      At each non-leaf node that splits on a complementary feature,\n",
      " |      both children are visited and the weight is multiplied by the fraction\n",
      " |      of training samples which went to each child.\n",
      " |      \n",
      " |      At each leaf, the value of the node is multiplied by the current\n",
      " |      weight (weights sum to 1 for all visited terminal nodes).\n",
      " |      \n",
      " |      Parameters\n",
      " |      ----------\n",
      " |      X : view on 2d ndarray, shape (n_samples, n_target_features)\n",
      " |          The grid points on which the partial dependence should be\n",
      " |          evaluated.\n",
      " |      target_features : view on 1d ndarray, shape (n_target_features)\n",
      " |          The set of target features for which the partial dependence\n",
      " |          should be evaluated.\n",
      " |      out : view on 1d ndarray, shape (n_samples)\n",
      " |          The value of the partial dependence function on each grid\n",
      " |          point.\n",
      " |  \n",
      " |  decision_path(...)\n",
      " |      Finds the decision path (=node) for each sample in X.\n",
      " |  \n",
      " |  predict(...)\n",
      " |      Predict target for X.\n",
      " |  \n",
      " |  ----------------------------------------------------------------------\n",
      " |  Static methods defined here:\n",
      " |  \n",
      " |  __new__(*args, **kwargs) from builtins.type\n",
      " |      Create and return a new object.  See help(type) for accurate signature.\n",
      " |  \n",
      " |  ----------------------------------------------------------------------\n",
      " |  Data descriptors defined here:\n",
      " |  \n",
      " |  capacity\n",
      " |  \n",
      " |  children_left\n",
      " |  \n",
      " |  children_right\n",
      " |  \n",
      " |  feature\n",
      " |  \n",
      " |  impurity\n",
      " |  \n",
      " |  max_depth\n",
      " |  \n",
      " |  max_n_classes\n",
      " |  \n",
      " |  missing_go_to_left\n",
      " |  \n",
      " |  n_classes\n",
      " |  \n",
      " |  n_features\n",
      " |  \n",
      " |  n_leaves\n",
      " |  \n",
      " |  n_node_samples\n",
      " |  \n",
      " |  n_outputs\n",
      " |  \n",
      " |  node_count\n",
      " |  \n",
      " |  threshold\n",
      " |  \n",
      " |  value\n",
      " |  \n",
      " |  weighted_n_node_samples\n",
      " |  \n",
      " |  ----------------------------------------------------------------------\n",
      " |  Data and other attributes defined here:\n",
      " |  \n",
      " |  __pyx_vtable__ = <capsule object NULL>\n",
      "\n"
     ]
    }
   ],
   "source": [
    "import sklearn\n",
    "help(sklearn.tree._tree.Tree)"
   ]
  },
  {
   "cell_type": "code",
   "execution_count": 94,
   "metadata": {},
   "outputs": [
    {
     "name": "stdout",
     "output_type": "stream",
     "text": [
      "(543,) (543,) (543,) (543,) (543,)\n"
     ]
    }
   ],
   "source": [
    "print(model.tree_.threshold.shape,\n",
    "      model.tree_.feature.shape,\n",
    "      model.tree_.children_left.shape,\n",
    "      model.tree_.children_right.shape,\n",
    "      model.tree_.value.flatten().shape)\n",
    "\n",
    "output_model_file = pd.DataFrame({\"threshold\": model.tree_.threshold,\n",
    "                                  \"feature\": model.tree_.feature,\n",
    "                                  \"children_left\": model.tree_.children_left,\n",
    "                                  \"children_right\": model.tree_.children_right,\n",
    "                                  \"value\": model.tree_.value.flatten()})\n",
    "\n",
    "output_model_file.to_csv(\"./model/model_parameters.csv\", index = False)"
   ]
  },
  {
   "cell_type": "markdown",
   "metadata": {},
   "source": [
    "---\n",
    "---\n",
    "---"
   ]
  }
 ],
 "metadata": {
  "kernelspec": {
   "display_name": "Python 3",
   "language": "python",
   "name": "python3"
  },
  "language_info": {
   "codemirror_mode": {
    "name": "ipython",
    "version": 3
   },
   "file_extension": ".py",
   "mimetype": "text/x-python",
   "name": "python",
   "nbconvert_exporter": "python",
   "pygments_lexer": "ipython3",
   "version": "3.8.10"
  }
 },
 "nbformat": 4,
 "nbformat_minor": 2
}
