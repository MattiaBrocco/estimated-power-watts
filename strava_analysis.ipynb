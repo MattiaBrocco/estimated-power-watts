{
 "cells": [
  {
   "cell_type": "code",
   "execution_count": 1,
   "metadata": {
    "ExecuteTime": {
     "end_time": "2024-07-05T19:49:10.127192Z",
     "start_time": "2024-07-05T19:49:03.059965Z"
    }
   },
   "outputs": [],
   "source": [
    "import os\n",
    "import sys\n",
    "import gzip\n",
    "import gpxpy\n",
    "import shutil\n",
    "import fitdecode\n",
    "import gpxpy.gpx\n",
    "import numpy as np\n",
    "import pandas as pd\n",
    "import seaborn as sns\n",
    "from tqdm import tqdm\n",
    "import matplotlib.pyplot as plt\n",
    "\n",
    "strava_export = \"c:\\\\Users\\\\matti\\\\Desktop\\\\Garmin IQ datafield\\\\export_105647830\\\\activities\"\n",
    "\n",
    "import parse_fit\n",
    "import parse_gpx\n",
    "import parse_tcx\n",
    "\n",
    "pd.options.display.max_columns = 100\n",
    "\n",
    "%load_ext autoreload\n",
    "%autoreload 2"
   ]
  },
  {
   "cell_type": "markdown",
   "metadata": {},
   "source": [
    "https://towardsdatascience.com/parsing-fitness-tracker-data-with-python-a59e7dc17418"
   ]
  },
  {
   "cell_type": "code",
   "execution_count": 2,
   "metadata": {
    "ExecuteTime": {
     "end_time": "2024-07-05T19:49:14.328918Z",
     "start_time": "2024-07-05T19:49:14.171338Z"
    }
   },
   "outputs": [],
   "source": [
    "###########################################\n",
    "####### GET DATA COMPUTED BY STRAVA #######\n",
    "###########################################\n",
    "\n",
    "activies_df = pd.read_csv(strava_export + \".csv\")\n",
    "activies_df[\"Filename\"] = activies_df[\"Filename\"].apply(lambda v: v if pd.isnull(v)\n",
    "                                                        else v.split(\"/\")[1].replace(\".gz\", \"\"))"
   ]
  },
  {
   "cell_type": "markdown",
   "metadata": {},
   "source": [
    "```python\n",
    "#######################\n",
    "### UNZIP ALL FILES ###\n",
    "#######################\n",
    "for filename in os.listdir(strava_export):\n",
    "    if filename.endswith('.gz') and filename.replace(\".gz\", \"\") not in os.listdir(strava_export): \n",
    "    print(filename)\n",
    "    with gzip.open(\"\\\\\".join((strava_export, filename)), 'rb') as f_in:\n",
    "        with open(\"\\\\\".join((strava_export, filename))[:-3], 'wb') as f_out:\n",
    "            shutil.copyfileobj(f_in, f_out)\n",
    "```"
   ]
  },
  {
   "cell_type": "code",
   "execution_count": 3,
   "metadata": {
    "ExecuteTime": {
     "end_time": "2024-07-05T19:49:47.691060Z",
     "start_time": "2024-07-05T19:49:47.558815Z"
    }
   },
   "outputs": [],
   "source": [
    "list_of_fit_files = [\"\\\\\".join((strava_export, v)) for v in os.listdir(strava_export)\n",
    "                     if \".gpx\" not in v and \".gz\" not in v]\n",
    "list_of_gpx_files = [\"\\\\\".join((strava_export, v)) for v in os.listdir(strava_export)\n",
    "                     if \".gpx\" in v]"
   ]
  },
  {
   "cell_type": "code",
   "execution_count": 4,
   "metadata": {
    "ExecuteTime": {
     "end_time": "2024-07-05T19:55:39.657397Z",
     "start_time": "2024-07-05T19:49:51.787280Z"
    }
   },
   "outputs": [
    {
     "name": "stderr",
     "output_type": "stream",
     "text": [
      "100%|████████████████████████████████████████████████████████████████████████████████| 117/117 [05:44<00:00,  2.94s/it]\n",
      "C:\\Users\\matti\\AppData\\Local\\Temp\\ipykernel_22392\\4025744445.py:11: FutureWarning: The behavior of DataFrame concatenation with empty or all-NA entries is deprecated. In a future version, this will no longer exclude empty or all-NA columns when determining the result dtypes. To retain the old behavior, exclude the relevant entries before the concat operation.\n",
      "  fit_file_laps = pd.concat(list_of_dfs_fit_laps, ignore_index = True)\n",
      "C:\\Users\\matti\\AppData\\Local\\Temp\\ipykernel_22392\\4025744445.py:12: FutureWarning: The behavior of DataFrame concatenation with empty or all-NA entries is deprecated. In a future version, this will no longer exclude empty or all-NA columns when determining the result dtypes. To retain the old behavior, exclude the relevant entries before the concat operation.\n",
      "  fit_file_points = pd.concat(list_of_dfs_fit_points, ignore_index = True)\n"
     ]
    }
   ],
   "source": [
    "##########################################\n",
    "### GET TO DATAFRAME PER EACH FIT FILE ###\n",
    "##########################################\n",
    "list_of_dfs_fit_points = []\n",
    "list_of_dfs_fit_laps = []\n",
    "for file in tqdm(list_of_fit_files):\n",
    "    d_ = parse_fit.get_dataframes(file)\n",
    "    list_of_dfs_fit_laps.append(d_[0])\n",
    "    list_of_dfs_fit_points.append(d_[1])\n",
    "\n",
    "fit_file_laps = pd.concat(list_of_dfs_fit_laps, ignore_index = True)\n",
    "fit_file_points = pd.concat(list_of_dfs_fit_points, ignore_index = True)"
   ]
  },
  {
   "cell_type": "code",
   "execution_count": 11,
   "metadata": {
    "ExecuteTime": {
     "end_time": "2024-07-03T22:17:43.694843Z",
     "start_time": "2024-07-03T22:17:43.572015Z"
    }
   },
   "outputs": [
    {
     "data": {
      "text/plain": [
       "['Zwift - Zwift Academy: Workout 1 | Explosive 30s in Yorkshire',\n",
       " 'Zwift - Zwift Academy Tri:  Bike Workout 2 | Aerobic Threshold Development in Watopia',\n",
       " 'Zwift - Zone 3 Steps in Makuri Islands',\n",
       " 'Zwift - Zone 1 Ride in Innsbruck',\n",
       " 'Zwift - Workout 13 in New York',\n",
       " 'Zwift - Volcano Climb Forward in Watopia',\n",
       " 'Zwift - Triple Flat Loops in Watopia',\n",
       " 'Zwift - Tiny Race: Seaside Sprint in Watopia',\n",
       " 'Zwift - Threshold Development in France',\n",
       " 'Zwift - Threshold #2 in Watopia']"
      ]
     },
     "execution_count": 11,
     "metadata": {},
     "output_type": "execute_result"
    }
   ],
   "source": [
    "sorted(activies_df[\"Activity Name\"])[::-1][:10]"
   ]
  },
  {
   "cell_type": "code",
   "execution_count": 5,
   "metadata": {
    "ExecuteTime": {
     "end_time": "2024-07-05T19:56:15.127375Z",
     "start_time": "2024-07-05T19:56:14.921964Z"
    }
   },
   "outputs": [
    {
     "data": {
      "text/html": [
       "<div>\n",
       "<style scoped>\n",
       "    .dataframe tbody tr th:only-of-type {\n",
       "        vertical-align: middle;\n",
       "    }\n",
       "\n",
       "    .dataframe tbody tr th {\n",
       "        vertical-align: top;\n",
       "    }\n",
       "\n",
       "    .dataframe thead th {\n",
       "        text-align: right;\n",
       "    }\n",
       "</style>\n",
       "<table border=\"1\" class=\"dataframe\">\n",
       "  <thead>\n",
       "    <tr style=\"text-align: right;\">\n",
       "      <th></th>\n",
       "      <th>Activity ID</th>\n",
       "      <th>Activity Date</th>\n",
       "      <th>Activity Name</th>\n",
       "      <th>Activity Type</th>\n",
       "      <th>Activity Description</th>\n",
       "      <th>Elapsed Time</th>\n",
       "      <th>Distance</th>\n",
       "      <th>Max Heart Rate</th>\n",
       "      <th>Relative Effort</th>\n",
       "      <th>Commute</th>\n",
       "      <th>Activity Private Note</th>\n",
       "      <th>Activity Gear</th>\n",
       "      <th>Filename</th>\n",
       "      <th>Athlete Weight</th>\n",
       "      <th>Bike Weight</th>\n",
       "      <th>Elapsed Time.1</th>\n",
       "      <th>Moving Time</th>\n",
       "      <th>Distance.1</th>\n",
       "      <th>Max Speed</th>\n",
       "      <th>Average Speed</th>\n",
       "      <th>Elevation Gain</th>\n",
       "      <th>Elevation Loss</th>\n",
       "      <th>Elevation Low</th>\n",
       "      <th>Elevation High</th>\n",
       "      <th>Max Grade</th>\n",
       "      <th>Average Grade</th>\n",
       "      <th>Average Positive Grade</th>\n",
       "      <th>Average Negative Grade</th>\n",
       "      <th>Max Cadence</th>\n",
       "      <th>Average Cadence</th>\n",
       "      <th>Max Heart Rate.1</th>\n",
       "      <th>Average Heart Rate</th>\n",
       "      <th>Max Watts</th>\n",
       "      <th>Average Watts</th>\n",
       "      <th>Calories</th>\n",
       "      <th>Max Temperature</th>\n",
       "      <th>Average Temperature</th>\n",
       "      <th>Relative Effort.1</th>\n",
       "      <th>Total Work</th>\n",
       "      <th>Number of Runs</th>\n",
       "      <th>Uphill Time</th>\n",
       "      <th>Downhill Time</th>\n",
       "      <th>Other Time</th>\n",
       "      <th>Perceived Exertion</th>\n",
       "      <th>Type</th>\n",
       "      <th>Start Time</th>\n",
       "      <th>Weighted Average Power</th>\n",
       "      <th>Power Count</th>\n",
       "      <th>Prefer Perceived Exertion</th>\n",
       "      <th>Perceived Relative Effort</th>\n",
       "      <th>Commute.1</th>\n",
       "      <th>Total Weight Lifted</th>\n",
       "      <th>From Upload</th>\n",
       "      <th>Grade Adjusted Distance</th>\n",
       "      <th>Weather Observation Time</th>\n",
       "      <th>Weather Condition</th>\n",
       "      <th>Weather Temperature</th>\n",
       "      <th>Apparent Temperature</th>\n",
       "      <th>Dewpoint</th>\n",
       "      <th>Humidity</th>\n",
       "      <th>Weather Pressure</th>\n",
       "      <th>Wind Speed</th>\n",
       "      <th>Wind Gust</th>\n",
       "      <th>Wind Bearing</th>\n",
       "      <th>Precipitation Intensity</th>\n",
       "      <th>Sunrise Time</th>\n",
       "      <th>Sunset Time</th>\n",
       "      <th>Moon Phase</th>\n",
       "      <th>Bike</th>\n",
       "      <th>Gear</th>\n",
       "      <th>Precipitation Probability</th>\n",
       "      <th>Precipitation Type</th>\n",
       "      <th>Cloud Cover</th>\n",
       "      <th>Weather Visibility</th>\n",
       "      <th>UV Index</th>\n",
       "      <th>Weather Ozone</th>\n",
       "      <th>Jump Count</th>\n",
       "      <th>Total Grit</th>\n",
       "      <th>Average Flow</th>\n",
       "      <th>Flagged</th>\n",
       "      <th>Average Elapsed Speed</th>\n",
       "      <th>Dirt Distance</th>\n",
       "      <th>Newly Explored Distance</th>\n",
       "      <th>Newly Explored Dirt Distance</th>\n",
       "      <th>Activity Count</th>\n",
       "      <th>Total Steps</th>\n",
       "      <th>Carbon Saved</th>\n",
       "      <th>Pool Length</th>\n",
       "      <th>Training Load</th>\n",
       "      <th>Intensity</th>\n",
       "      <th>Average Grade Adjusted Pace</th>\n",
       "      <th>Timer Time</th>\n",
       "      <th>Total Cycles</th>\n",
       "      <th>Media</th>\n",
       "    </tr>\n",
       "  </thead>\n",
       "  <tbody>\n",
       "    <tr>\n",
       "      <th>132</th>\n",
       "      <td>11659433168</td>\n",
       "      <td>Jun 15, 2024, 1:19:44 PM</td>\n",
       "      <td>Zwift - The Pretzel in Watopia</td>\n",
       "      <td>Virtual Ride</td>\n",
       "      <td>Ride to improve PBs on hills</td>\n",
       "      <td>11086</td>\n",
       "      <td>73.07</td>\n",
       "      <td>186.0</td>\n",
       "      <td>202.0</td>\n",
       "      <td>False</td>\n",
       "      <td>NaN</td>\n",
       "      <td>Scott Addict RC (virtual)</td>\n",
       "      <td>12441011297.fit</td>\n",
       "      <td>NaN</td>\n",
       "      <td>7.9</td>\n",
       "      <td>11086.0</td>\n",
       "      <td>10407.0</td>\n",
       "      <td>73076.007812</td>\n",
       "      <td>24.015625</td>\n",
       "      <td>7.021813</td>\n",
       "      <td>1354.0</td>\n",
       "      <td>0.0</td>\n",
       "      <td>-6.4</td>\n",
       "      <td>516.200012</td>\n",
       "      <td>19.785538</td>\n",
       "      <td>-0.007937</td>\n",
       "      <td>NaN</td>\n",
       "      <td>NaN</td>\n",
       "      <td>114.0</td>\n",
       "      <td>87.526077</td>\n",
       "      <td>186.0</td>\n",
       "      <td>157.124146</td>\n",
       "      <td>NaN</td>\n",
       "      <td>144.016159</td>\n",
       "      <td>1431.0</td>\n",
       "      <td>NaN</td>\n",
       "      <td>NaN</td>\n",
       "      <td>202.0</td>\n",
       "      <td>NaN</td>\n",
       "      <td>NaN</td>\n",
       "      <td>NaN</td>\n",
       "      <td>NaN</td>\n",
       "      <td>NaN</td>\n",
       "      <td>6.0</td>\n",
       "      <td>NaN</td>\n",
       "      <td>NaN</td>\n",
       "      <td>155.0</td>\n",
       "      <td>10660.0</td>\n",
       "      <td>0.0</td>\n",
       "      <td>274.0</td>\n",
       "      <td>0.0</td>\n",
       "      <td>NaN</td>\n",
       "      <td>1.0</td>\n",
       "      <td>NaN</td>\n",
       "      <td>NaN</td>\n",
       "      <td>NaN</td>\n",
       "      <td>NaN</td>\n",
       "      <td>NaN</td>\n",
       "      <td>NaN</td>\n",
       "      <td>NaN</td>\n",
       "      <td>NaN</td>\n",
       "      <td>NaN</td>\n",
       "      <td>NaN</td>\n",
       "      <td>NaN</td>\n",
       "      <td>NaN</td>\n",
       "      <td>NaN</td>\n",
       "      <td>NaN</td>\n",
       "      <td>NaN</td>\n",
       "      <td>13940951.0</td>\n",
       "      <td>NaN</td>\n",
       "      <td>NaN</td>\n",
       "      <td>NaN</td>\n",
       "      <td>NaN</td>\n",
       "      <td>NaN</td>\n",
       "      <td>NaN</td>\n",
       "      <td>NaN</td>\n",
       "      <td>NaN</td>\n",
       "      <td>NaN</td>\n",
       "      <td>NaN</td>\n",
       "      <td>0.0</td>\n",
       "      <td>6.591738</td>\n",
       "      <td>0.0</td>\n",
       "      <td>NaN</td>\n",
       "      <td>NaN</td>\n",
       "      <td>NaN</td>\n",
       "      <td>NaN</td>\n",
       "      <td>NaN</td>\n",
       "      <td>NaN</td>\n",
       "      <td>219.0</td>\n",
       "      <td>86.0</td>\n",
       "      <td>NaN</td>\n",
       "      <td>NaN</td>\n",
       "      <td>NaN</td>\n",
       "      <td>media/c67ff196-d530-4e92-a210-242434894968.jpg...</td>\n",
       "    </tr>\n",
       "  </tbody>\n",
       "</table>\n",
       "</div>"
      ],
      "text/plain": [
       "     Activity ID             Activity Date                   Activity Name  \\\n",
       "132  11659433168  Jun 15, 2024, 1:19:44 PM  Zwift - The Pretzel in Watopia   \n",
       "\n",
       "    Activity Type          Activity Description  Elapsed Time  Distance  \\\n",
       "132  Virtual Ride  Ride to improve PBs on hills         11086     73.07   \n",
       "\n",
       "     Max Heart Rate  Relative Effort  Commute  Activity Private Note  \\\n",
       "132           186.0            202.0    False                    NaN   \n",
       "\n",
       "                 Activity Gear         Filename  Athlete Weight  Bike Weight  \\\n",
       "132  Scott Addict RC (virtual)  12441011297.fit             NaN          7.9   \n",
       "\n",
       "     Elapsed Time.1  Moving Time    Distance.1  Max Speed  Average Speed  \\\n",
       "132         11086.0      10407.0  73076.007812  24.015625       7.021813   \n",
       "\n",
       "     Elevation Gain  Elevation Loss  Elevation Low  Elevation High  Max Grade  \\\n",
       "132          1354.0             0.0           -6.4      516.200012  19.785538   \n",
       "\n",
       "     Average Grade  Average Positive Grade  Average Negative Grade  \\\n",
       "132      -0.007937                     NaN                     NaN   \n",
       "\n",
       "     Max Cadence  Average Cadence  Max Heart Rate.1  Average Heart Rate  \\\n",
       "132        114.0        87.526077             186.0          157.124146   \n",
       "\n",
       "     Max Watts  Average Watts  Calories  Max Temperature  Average Temperature  \\\n",
       "132        NaN     144.016159    1431.0              NaN                  NaN   \n",
       "\n",
       "     Relative Effort.1  Total Work  Number of Runs  Uphill Time  \\\n",
       "132              202.0         NaN             NaN          NaN   \n",
       "\n",
       "     Downhill Time  Other Time  Perceived Exertion  Type  Start Time  \\\n",
       "132            NaN         NaN                 6.0   NaN         NaN   \n",
       "\n",
       "     Weighted Average Power  Power Count  Prefer Perceived Exertion  \\\n",
       "132                   155.0      10660.0                        0.0   \n",
       "\n",
       "     Perceived Relative Effort  Commute.1  Total Weight Lifted  From Upload  \\\n",
       "132                      274.0        0.0                  NaN          1.0   \n",
       "\n",
       "     Grade Adjusted Distance  Weather Observation Time  Weather Condition  \\\n",
       "132                      NaN                       NaN                NaN   \n",
       "\n",
       "     Weather Temperature  Apparent Temperature  Dewpoint  Humidity  \\\n",
       "132                  NaN                   NaN       NaN       NaN   \n",
       "\n",
       "     Weather Pressure  Wind Speed  Wind Gust  Wind Bearing  \\\n",
       "132               NaN         NaN        NaN           NaN   \n",
       "\n",
       "     Precipitation Intensity  Sunrise Time  Sunset Time  Moon Phase  \\\n",
       "132                      NaN           NaN          NaN         NaN   \n",
       "\n",
       "           Bike  Gear  Precipitation Probability  Precipitation Type  \\\n",
       "132  13940951.0   NaN                        NaN                 NaN   \n",
       "\n",
       "     Cloud Cover  Weather Visibility  UV Index  Weather Ozone  Jump Count  \\\n",
       "132          NaN                 NaN       NaN            NaN         NaN   \n",
       "\n",
       "     Total Grit  Average Flow  Flagged  Average Elapsed Speed  Dirt Distance  \\\n",
       "132         NaN           NaN      0.0               6.591738            0.0   \n",
       "\n",
       "     Newly Explored Distance  Newly Explored Dirt Distance  Activity Count  \\\n",
       "132                      NaN                           NaN             NaN   \n",
       "\n",
       "     Total Steps  Carbon Saved  Pool Length  Training Load  Intensity  \\\n",
       "132          NaN           NaN          NaN          219.0       86.0   \n",
       "\n",
       "     Average Grade Adjusted Pace  Timer Time  Total Cycles  \\\n",
       "132                          NaN         NaN           NaN   \n",
       "\n",
       "                                                 Media  \n",
       "132  media/c67ff196-d530-4e92-a210-242434894968.jpg...  "
      ]
     },
     "execution_count": 5,
     "metadata": {},
     "output_type": "execute_result"
    }
   ],
   "source": [
    "activies_df[activies_df[\"Activity Name\"] == \"Zwift - The Pretzel in Watopia\"]"
   ]
  },
  {
   "cell_type": "code",
   "execution_count": 71,
   "metadata": {
    "ExecuteTime": {
     "end_time": "2024-07-05T20:31:06.505104Z",
     "start_time": "2024-07-05T20:31:06.232544Z"
    }
   },
   "outputs": [],
   "source": [
    "def preprocessing(lst):\n",
    "    \n",
    "    out = []\n",
    "    for d in lst:\n",
    "        if d[\"power\"].isnull().sum() == 0:\n",
    "            # print(d[\"FileName\"].values[0])        \n",
    "            valeria = d.copy().reset_index(drop = True)\n",
    "            valeria[\"heart_rate\"] = valeria[\"heart_rate\"].astype(int)\n",
    "            valeria[\"grade\"] = (100*(valeria[\"altitude\"].diff().fillna(0)/valeria[\"distance\"].diff().fillna(0)).fillna(0))\n",
    "            valeria = valeria.dropna(axis = 1, how = \"all\")\n",
    "            valeria = valeria.sort_values(\"timestamp\").reset_index(drop = True)\n",
    "\n",
    "            valeria_3s = valeria.set_index(\"timestamp\").drop(\"FileName\", axis = 1).resample('5s', offset=\"0.1s\",\n",
    "                                                                                            origin = \"start\").mean()\n",
    "            valeria_3s = valeria_3s.dropna(how = \"all\")\n",
    "            valeria_3s = valeria_3s[valeria_3s[\"power\"] > 0].reset_index(drop = True)\n",
    "\n",
    "            out += [valeria_3s]\n",
    "        \n",
    "    return pd.concat(out, ignore_index = True)"
   ]
  },
  {
   "cell_type": "code",
   "execution_count": 69,
   "metadata": {
    "ExecuteTime": {
     "end_time": "2024-07-05T20:30:57.481497Z",
     "start_time": "2024-07-05T20:30:57.208062Z"
    }
   },
   "outputs": [],
   "source": [
    "# list_of_dfs_fit_points[0].head()"
   ]
  },
  {
   "cell_type": "code",
   "execution_count": 72,
   "metadata": {
    "ExecuteTime": {
     "end_time": "2024-07-05T20:31:09.177100Z",
     "start_time": "2024-07-05T20:31:07.970379Z"
    }
   },
   "outputs": [],
   "source": [
    "Xy = preprocessing(list_of_dfs_fit_points)\n",
    "Xy[Xy[\"grade\"] > 30] = 10\n",
    "Xy[Xy[\"grade\"] < -30] = -10"
   ]
  },
  {
   "cell_type": "code",
   "execution_count": 38,
   "metadata": {
    "ExecuteTime": {
     "end_time": "2024-07-05T20:09:29.906328Z",
     "start_time": "2024-07-05T20:09:29.678844Z"
    }
   },
   "outputs": [],
   "source": [
    "# example = fit_file_points[fit_file_points[\"FileName\"] == \"12441011297.fit\"].copy().reset_index(drop = True)\n",
    "# example[\"heart_rate\"] = example[\"heart_rate\"].astype(int)\n",
    "# example[\"grade\"] = (100*(example[\"altitude\"].diff().fillna(0)/example[\"distance\"].diff().fillna(0)).fillna(0))\n",
    "# example = example.dropna(axis=1, how = \"all\")\n",
    "# example = example.sort_values(\"timestamp\").reset_index(drop = True)"
   ]
  },
  {
   "cell_type": "code",
   "execution_count": 73,
   "metadata": {
    "ExecuteTime": {
     "end_time": "2024-07-05T20:31:18.869192Z",
     "start_time": "2024-07-05T20:31:18.607963Z"
    }
   },
   "outputs": [],
   "source": [
    "# fit_file_points[fit_file_points[\"FileName\"] == \"12441011297.fit\"].copy().reset_index(drop = True).head()"
   ]
  },
  {
   "cell_type": "code",
   "execution_count": 74,
   "metadata": {
    "ExecuteTime": {
     "end_time": "2024-07-05T20:31:22.887467Z",
     "start_time": "2024-07-05T20:31:22.620122Z"
    }
   },
   "outputs": [],
   "source": [
    "# example_3s =example.set_index(\"timestamp\").drop(\"FileName\", axis = 1).resample('5s', offset=\"0.1s\",  origin = \"start\").mean()\n",
    "# example_3s = example_3s.dropna(how = \"all\")"
   ]
  },
  {
   "cell_type": "code",
   "execution_count": 75,
   "metadata": {
    "ExecuteTime": {
     "end_time": "2024-07-05T20:31:26.280908Z",
     "start_time": "2024-07-05T20:31:26.009719Z"
    }
   },
   "outputs": [],
   "source": [
    "# example_3s"
   ]
  },
  {
   "cell_type": "code",
   "execution_count": 78,
   "metadata": {
    "ExecuteTime": {
     "end_time": "2024-07-05T20:31:57.646193Z",
     "start_time": "2024-07-05T20:31:56.513889Z"
    }
   },
   "outputs": [
    {
     "data": {
      "image/png": "[encoded data removed]",
      "text/plain": [
       "<Figure size 576x360 with 1 Axes>"
      ]
     },
     "metadata": {
      "needs_background": "light"
     },
     "output_type": "display_data"
    }
   ],
   "source": [
    "plt.figure(figsize = (8, 5))\n",
    "sns.heatmap(Xy.corr(), vmin = -1, vmax = 1, cbar = False, annot = True, cmap = \"RdBu\")\n",
    "plt.show()"
   ]
  },
  {
   "cell_type": "code",
   "execution_count": 91,
   "metadata": {
    "ExecuteTime": {
     "end_time": "2024-07-05T20:35:07.052263Z",
     "start_time": "2024-07-05T20:35:06.771194Z"
    }
   },
   "outputs": [
    {
     "name": "stdout",
     "output_type": "stream",
     "text": [
      "[0.84102769 5.66703562 0.66008618 6.34528534] -99.51375076671715\n"
     ]
    }
   ],
   "source": [
    "from sklearn.metrics import r2_score\n",
    "from sklearn.metrics import mean_squared_error\n",
    "from sklearn.metrics import mean_absolute_error\n",
    "from sklearn.linear_model import LinearRegression\n",
    "from sklearn.model_selection import train_test_split\n",
    "from sklearn.metrics import mean_absolute_percentage_error\n",
    "\n",
    "X = Xy[[\"heart_rate\", \"enhanced_speed\", \"cadence\", \"grade\"]].copy()\n",
    "y = Xy[\"power\"].copy()\n",
    "\n",
    "X_train, X_test, y_train, y_test = train_test_split(X, y, test_size=0.3, random_state=42, shuffle = True)\n",
    "\n",
    "lr = LinearRegression(fit_intercept=True)\n",
    "lr.fit(X_train, y_train)\n",
    "print(lr.coef_, lr.intercept_)"
   ]
  },
  {
   "cell_type": "code",
   "execution_count": 92,
   "metadata": {
    "ExecuteTime": {
     "end_time": "2024-07-05T20:35:09.102432Z",
     "start_time": "2024-07-05T20:35:08.825196Z"
    }
   },
   "outputs": [],
   "source": [
    "lr_preds = pd.DataFrame({\"y_true\": y_test, \"y_pred\": lr.predict(X_test)})\n",
    "lr_preds[\"delta\"] = abs(lr_preds[\"y_true\"] - lr_preds[\"y_pred\"])"
   ]
  },
  {
   "cell_type": "code",
   "execution_count": 93,
   "metadata": {
    "ExecuteTime": {
     "end_time": "2024-07-05T20:35:11.083660Z",
     "start_time": "2024-07-05T20:35:10.652626Z"
    }
   },
   "outputs": [
    {
     "data": {
      "text/plain": [
       "<AxesSubplot:>"
      ]
     },
     "execution_count": 93,
     "metadata": {},
     "output_type": "execute_result"
    },
    {
     "data": {
      "image/png": "[encoded data removed]",
      "text/plain": [
       "<Figure size 576x360 with 1 Axes>"
      ]
     },
     "metadata": {
      "needs_background": "light"
     },
     "output_type": "display_data"
    }
   ],
   "source": [
    "plt.figure(figsize = (8, 5))\n",
    "lr_preds[\"delta\"].reset_index(drop = True).plot()"
   ]
  },
  {
   "cell_type": "code",
   "execution_count": 94,
   "metadata": {
    "ExecuteTime": {
     "end_time": "2024-07-05T20:35:14.167775Z",
     "start_time": "2024-07-05T20:35:13.652836Z"
    }
   },
   "outputs": [
    {
     "data": {
      "text/plain": [
       "<AxesSubplot:>"
      ]
     },
     "execution_count": 94,
     "metadata": {},
     "output_type": "execute_result"
    },
    {
     "data": {
      "image/png": "[encoded data removed]",
      "text/plain": [
       "<Figure size 576x360 with 1 Axes>"
      ]
     },
     "metadata": {
      "needs_background": "light"
     },
     "output_type": "display_data"
    }
   ],
   "source": [
    "fix, ax = plt.subplots(1, 1, figsize = (8, 5))\n",
    "lr_preds.reset_index(drop = True).drop(\"delta\", axis = 1).plot(ax = ax)"
   ]
  },
  {
   "cell_type": "code",
   "execution_count": 95,
   "metadata": {
    "ExecuteTime": {
     "end_time": "2024-07-05T20:35:19.691901Z",
     "start_time": "2024-07-05T20:35:19.416552Z"
    }
   },
   "outputs": [
    {
     "name": "stdout",
     "output_type": "stream",
     "text": [
      "R^2: 0.38\n",
      "RMSE: 37.07\n",
      "MAE: 24.16\n",
      "MAPE: 26.65 %\n"
     ]
    }
   ],
   "source": [
    "print(\"R^2: {:.2f}\".format(r2_score(y_test, lr.predict(X_test))))\n",
    "print(\"RMSE: {:.2f}\".format(mean_squared_error(y_test, lr.predict(X_test), squared=False)))\n",
    "print(\"MAE: {:.2f}\".format(mean_absolute_error(y_test, lr.predict(X_test))))\n",
    "print(\"MAPE: {:.2f} %\".format(100*mean_absolute_percentage_error(y_test, lr.predict(X_test))))"
   ]
  },
  {
   "cell_type": "code",
   "execution_count": 49,
   "metadata": {
    "ExecuteTime": {
     "end_time": "2024-07-05T20:11:17.631965Z",
     "start_time": "2024-07-05T20:11:08.217647Z"
    }
   },
   "outputs": [],
   "source": [
    "from keras.callbacks import EarlyStopping\n",
    "from keras.utils.vis_utils import plot_model\n",
    "from tensorflow.keras.models import Sequential\n",
    "from tensorflow.keras.layers import Input, Dense\n",
    "from tensorflow.keras.utils import to_categorical\n",
    "from tensorflow.python.framework.random_seed import set_random_seed"
   ]
  },
  {
   "cell_type": "code",
   "execution_count": 96,
   "metadata": {
    "ExecuteTime": {
     "end_time": "2024-07-05T20:35:25.241883Z",
     "start_time": "2024-07-05T20:35:24.904345Z"
    }
   },
   "outputs": [
    {
     "name": "stdout",
     "output_type": "stream",
     "text": [
      "Model: \"sequential_2\"\n",
      "_________________________________________________________________\n",
      " Layer (type)                Output Shape              Param #   \n",
      "=================================================================\n",
      " dense_7 (Dense)             (None, 4)                 20        \n",
      "                                                                 \n",
      " dense_8 (Dense)             (None, 4)                 20        \n",
      "                                                                 \n",
      " dense_9 (Dense)             (None, 4)                 20        \n",
      "                                                                 \n",
      " dense_10 (Dense)            (None, 1)                 5         \n",
      "                                                                 \n",
      "=================================================================\n",
      "Total params: 65\n",
      "Trainable params: 65\n",
      "Non-trainable params: 0\n",
      "_________________________________________________________________\n"
     ]
    }
   ],
   "source": [
    "model = Sequential()\n",
    "model.add(Dense(input_dim = 4, units = 4, activation = \"elu\"))\n",
    "model.add(Dense(units = 4, activation = \"elu\"))\n",
    "model.add(Dense(units = 4, activation = \"elu\"))\n",
    "model.add(Dense(units = 1, activation = None))\n",
    "model.compile(loss = \"mean_absolute_error\", optimizer = \"adam\",\n",
    "              metrics = [\"mean_absolute_error\", \"mean_absolute_percentage_error\"])\n",
    "model.summary()"
   ]
  },
  {
   "cell_type": "code",
   "execution_count": 97,
   "metadata": {
    "ExecuteTime": {
     "end_time": "2024-07-05T20:39:54.430578Z",
     "start_time": "2024-07-05T20:35:27.312296Z"
    }
   },
   "outputs": [
    {
     "name": "stdout",
     "output_type": "stream",
     "text": [
      "Epoch 304: early stopping\n"
     ]
    }
   ],
   "source": [
    "## Define an Early Stopping\n",
    "early_stopping = EarlyStopping(monitor = \"mean_absolute_error\", mode = \"min\", patience = 20, verbose = 1)\n",
    "\n",
    "history = model.fit(X_train, y_train, epochs = 1000, batch_size = 100,\n",
    "                    verbose = 0, validation_split = 0.4, callbacks = [early_stopping])"
   ]
  },
  {
   "cell_type": "code",
   "execution_count": 98,
   "metadata": {
    "ExecuteTime": {
     "end_time": "2024-07-05T20:39:54.940170Z",
     "start_time": "2024-07-05T20:39:54.433608Z"
    }
   },
   "outputs": [
    {
     "data": {
      "text/plain": [
       "<AxesSubplot:>"
      ]
     },
     "execution_count": 98,
     "metadata": {},
     "output_type": "execute_result"
    },
    {
     "data": {
      "image/png": "[encoded data removed]",
      "text/plain": [
       "<Figure size 576x360 with 1 Axes>"
      ]
     },
     "metadata": {
      "needs_background": "light"
     },
     "output_type": "display_data"
    }
   ],
   "source": [
    "pd.DataFrame(history.history).plot(figsize = (8, 5))"
   ]
  },
  {
   "cell_type": "code",
   "execution_count": 99,
   "metadata": {
    "ExecuteTime": {
     "end_time": "2024-07-05T20:39:59.221598Z",
     "start_time": "2024-07-05T20:39:54.942273Z"
    }
   },
   "outputs": [
    {
     "name": "stdout",
     "output_type": "stream",
     "text": [
      "683/683 [==============================] - 1s 1ms/step\n",
      "RMSE: 34.67\n",
      "683/683 [==============================] - 1s 1ms/step\n",
      "MAE: 21.97\n",
      "683/683 [==============================] - 1s 2ms/step\n",
      "MAPE: 22.81 %\n"
     ]
    }
   ],
   "source": [
    "print(\"RMSE: {:.2f}\".format(mean_squared_error(y_test, model.predict(X_test), squared=False)))\n",
    "print(\"MAE: {:.2f}\".format(mean_absolute_error(y_test, model.predict(X_test))))\n",
    "print(\"MAPE: {:.2f} %\".format(100*mean_absolute_percentage_error(y_test, model.predict(X_test))))"
   ]
  },
  {
   "cell_type": "markdown",
   "metadata": {},
   "source": [
    "$POWER=\\frac{9\\cdot(6\\cdot A\\cdot R-b\\cdot c)}{26.46\\cdot a}$\n",
    "\n",
    "$R=$"
   ]
  },
  {
   "cell_type": "markdown",
   "metadata": {},
   "source": [
    "$9^{\\frac{1}{3}}$"
   ]
  },
  {
   "cell_type": "code",
   "execution_count": null,
   "metadata": {},
   "outputs": [],
   "source": []
  },
  {
   "cell_type": "code",
   "execution_count": null,
   "metadata": {},
   "outputs": [],
   "source": []
  },
  {
   "cell_type": "code",
   "execution_count": null,
   "metadata": {},
   "outputs": [],
   "source": []
  },
  {
   "cell_type": "markdown",
   "metadata": {},
   "source": [
    "$x=\\frac{1}{1157360400a^3}*[\\frac{}{50^{\\frac{2}{3}}}-\\frac{}{50^{\\frac{1}{3}}}+11809799900\\cdot a^3\\cdot s^3+a^2\\cdot b\\cdot(11809799900\\cdot s^2 - 3936600000\\cdot c)+3936599980\\cdot a\\cdot b^2 \\cdot s + 437399997\\cdot b^3]$"
   ]
  },
  {
   "cell_type": "markdown",
   "metadata": {},
   "source": [
    "```python\n",
    "##########################################\n",
    "### GET TO DATAFRAME PER EACH GPX FILE ###\n",
    "##########################################\n",
    "\n",
    "list_of_dfs_gpx = []\n",
    "for file in list_of_gpx_files:\n",
    "    try:\n",
    "        d_ = parse_gpx.get_dataframe_from_gpx(file)\n",
    "        list_of_dfs_gpx.append(d_)\n",
    "    except Exception as e:\n",
    "        print(file)\n",
    "\n",
    "list_of_dfs_gpx[0]\n",
    "\n",
    "from lxml.etree import tostring\n",
    "\n",
    "gpx = gpxpy.parse(open(\"\\\\\".join((strava_export, \"7501129268.gpx\")), 'r'))\n",
    "\n",
    "print(len(gpx.tracks))\n",
    "for track in gpx.tracks:\n",
    "    print(len(track.segments))\n",
    "    for segment in track.segments:\n",
    "        print(len(segment.points))\n",
    "        for point in segment.points:\n",
    "            \n",
    "            #print(point.attributes)\n",
    "\n",
    "            print({'latitude': point.latitude,\n",
    "            'longitude': point.longitude,\n",
    "            'elevation': point.elevation,\n",
    "            'time': point.time,\n",
    "            'speed': point.speed})\n",
    "            # print(tostring(point.extensions[0]))\n",
    "            # # for df in []:\n",
    "            # #     print(elem.find(f'garmin_tpe:{df}', NAMESPACES).text)\n",
    "\n",
    "\n",
    "            # NAMESPACES = {'garmin_tpe': 'http://www.garmin.com/xmlschemas/TrackPointExtension/v1'}\n",
    "            # print(point.extensions[0].find('garmin_tpe:speed', NAMESPACES).text)\n",
    "```"
   ]
  }
 ],
 "metadata": {
  "kernelspec": {
   "display_name": "Python 3 (ipykernel)",
   "language": "python",
   "name": "python3"
  },
  "language_info": {
   "codemirror_mode": {
    "name": "ipython",
    "version": 3
   },
   "file_extension": ".py",
   "mimetype": "text/x-python",
   "name": "python",
   "nbconvert_exporter": "python",
   "pygments_lexer": "ipython3",
   "version": "3.9.12"
  }
 },
 "nbformat": 4,
 "nbformat_minor": 2
}
