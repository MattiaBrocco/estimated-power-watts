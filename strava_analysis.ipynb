{
 "cells": [
  {
   "cell_type": "code",
   "execution_count": 1,
   "metadata": {
    "ExecuteTime": {
     "end_time": "2024-07-09T19:20:18.629663Z",
     "start_time": "2024-07-09T19:20:08.046650Z"
    }
   },
   "outputs": [],
   "source": [
    "import os\n",
    "import sys\n",
    "import gzip\n",
    "import gpxpy\n",
    "import shutil\n",
    "import fitdecode\n",
    "import gpxpy.gpx\n",
    "import numpy as np\n",
    "import pandas as pd\n",
    "import seaborn as sns\n",
    "from tqdm import tqdm\n",
    "import matplotlib.pyplot as plt\n",
    "\n",
    "strava_export = \"c:\\\\Users\\\\matti\\\\Desktop\\\\Garmin IQ datafield\\\\export_105647830\\\\activities\"\n",
    "\n",
    "import parse_fit\n",
    "import parse_gpx\n",
    "import parse_tcx\n",
    "\n",
    "pd.options.display.max_columns = 100\n",
    "\n",
    "%load_ext autoreload\n",
    "%autoreload 2"
   ]
  },
  {
   "cell_type": "markdown",
   "metadata": {},
   "source": [
    "https://towardsdatascience.com/parsing-fitness-tracker-data-with-python-a59e7dc17418"
   ]
  },
  {
   "cell_type": "code",
   "execution_count": 19,
   "metadata": {
    "ExecuteTime": {
     "end_time": "2024-07-09T19:34:17.075913Z",
     "start_time": "2024-07-09T19:34:16.916992Z"
    }
   },
   "outputs": [],
   "source": [
    "###########################################\n",
    "####### GET DATA COMPUTED BY STRAVA #######\n",
    "###########################################\n",
    "\n",
    "activities_df = pd.read_csv(strava_export + \".csv\")\n",
    "activities_df[\"Filename\"] = activities_df[\"Filename\"].apply(lambda v: v if pd.isnull(v)\n",
    "                                                            else v.split(\"/\")[1].replace(\".gz\", \"\"))"
   ]
  },
  {
   "cell_type": "markdown",
   "metadata": {},
   "source": [
    "```python\n",
    "#######################\n",
    "### UNZIP ALL FILES ###\n",
    "#######################\n",
    "for filename in os.listdir(strava_export):\n",
    "    if filename.endswith('.gz') and filename.replace(\".gz\", \"\") not in os.listdir(strava_export): \n",
    "    print(filename)\n",
    "    with gzip.open(\"\\\\\".join((strava_export, filename)), 'rb') as f_in:\n",
    "        with open(\"\\\\\".join((strava_export, filename))[:-3], 'wb') as f_out:\n",
    "            shutil.copyfileobj(f_in, f_out)\n",
    "```"
   ]
  },
  {
   "cell_type": "code",
   "execution_count": 3,
   "metadata": {
    "ExecuteTime": {
     "end_time": "2024-07-09T19:20:20.526488Z",
     "start_time": "2024-07-09T19:20:20.218513Z"
    }
   },
   "outputs": [],
   "source": [
    "list_of_fit_files = [\"\\\\\".join((strava_export, v)) for v in os.listdir(strava_export)\n",
    "                     if \".gpx\" not in v and \".gz\" not in v]\n",
    "list_of_gpx_files = [\"\\\\\".join((strava_export, v)) for v in os.listdir(strava_export)\n",
    "                     if \".gpx\" in v]"
   ]
  },
  {
   "cell_type": "code",
   "execution_count": 4,
   "metadata": {
    "ExecuteTime": {
     "end_time": "2024-07-09T19:29:44.077811Z",
     "start_time": "2024-07-09T19:20:23.160087Z"
    }
   },
   "outputs": [
    {
     "name": "stderr",
     "output_type": "stream",
     "text": [
      "100%|████████████████████████████████████████████████████████████████████████████████| 117/117 [09:16<00:00,  4.75s/it]\n",
      "C:\\Users\\matti\\AppData\\Local\\Temp\\ipykernel_18792\\4025744445.py:11: FutureWarning: The behavior of DataFrame concatenation with empty or all-NA entries is deprecated. In a future version, this will no longer exclude empty or all-NA columns when determining the result dtypes. To retain the old behavior, exclude the relevant entries before the concat operation.\n",
      "  fit_file_laps = pd.concat(list_of_dfs_fit_laps, ignore_index = True)\n",
      "C:\\Users\\matti\\AppData\\Local\\Temp\\ipykernel_18792\\4025744445.py:12: FutureWarning: The behavior of DataFrame concatenation with empty or all-NA entries is deprecated. In a future version, this will no longer exclude empty or all-NA columns when determining the result dtypes. To retain the old behavior, exclude the relevant entries before the concat operation.\n",
      "  fit_file_points = pd.concat(list_of_dfs_fit_points, ignore_index = True)\n"
     ]
    }
   ],
   "source": [
    "##########################################\n",
    "### GET TO DATAFRAME PER EACH FIT FILE ###\n",
    "##########################################\n",
    "list_of_dfs_fit_points = []\n",
    "list_of_dfs_fit_laps = []\n",
    "for file in tqdm(list_of_fit_files):\n",
    "    d_ = parse_fit.get_dataframes(file)\n",
    "    list_of_dfs_fit_laps.append(d_[0])\n",
    "    list_of_dfs_fit_points.append(d_[1])\n",
    "\n",
    "fit_file_laps = pd.concat(list_of_dfs_fit_laps, ignore_index = True)\n",
    "fit_file_points = pd.concat(list_of_dfs_fit_points, ignore_index = True)"
   ]
  },
  {
   "cell_type": "code",
   "execution_count": 32,
   "metadata": {
    "ExecuteTime": {
     "end_time": "2024-07-09T19:37:22.313704Z",
     "start_time": "2024-07-09T19:37:20.848035Z"
    }
   },
   "outputs": [],
   "source": [
    "fit_file_points = fit_file_points.merge(activities_df, left_on = \"FileName\", right_on = \"Filename\", how = \"left\")\n",
    "fit_file_laps = fit_file_laps.merge(activities_df, left_on = \"FileName\", right_on = \"Filename\", how = \"left\")"
   ]
  },
  {
   "cell_type": "code",
   "execution_count": 38,
   "metadata": {
    "ExecuteTime": {
     "end_time": "2024-07-09T19:38:25.994375Z",
     "start_time": "2024-07-09T19:38:25.881082Z"
    }
   },
   "outputs": [],
   "source": [
    "# SAVE FILES TO AVOID RECOMPUTING EACH TIME\n",
    "fit_file_laps.to_parquet(\".\\\\data\\\\fit_file_laps.parquet\")\n",
    "fit_file_points.to_parquet(\".\\\\data\\\\fit_file_points.parquet\")"
   ]
  },
  {
   "cell_type": "code",
   "execution_count": 194,
   "metadata": {
    "ExecuteTime": {
     "end_time": "2024-07-09T20:27:01.313247Z",
     "start_time": "2024-07-09T20:27:00.973321Z"
    }
   },
   "outputs": [
    {
     "data": {
      "text/html": [
       "<div>\n",
       "<style scoped>\n",
       "    .dataframe tbody tr th:only-of-type {\n",
       "        vertical-align: middle;\n",
       "    }\n",
       "\n",
       "    .dataframe tbody tr th {\n",
       "        vertical-align: top;\n",
       "    }\n",
       "\n",
       "    .dataframe thead th {\n",
       "        text-align: right;\n",
       "    }\n",
       "</style>\n",
       "<table border=\"1\" class=\"dataframe\">\n",
       "  <thead>\n",
       "    <tr style=\"text-align: right;\">\n",
       "      <th></th>\n",
       "      <th>FileName</th>\n",
       "      <th>latitude</th>\n",
       "      <th>longitude</th>\n",
       "      <th>lap</th>\n",
       "      <th>altitude</th>\n",
       "      <th>cadence</th>\n",
       "      <th>calories</th>\n",
       "      <th>compressed_speed_distance</th>\n",
       "      <th>cycle_length</th>\n",
       "      <th>distance</th>\n",
       "      <th>enhanced_altitude</th>\n",
       "      <th>enhanced_speed</th>\n",
       "      <th>grade</th>\n",
       "      <th>heart_rate</th>\n",
       "      <th>position_lat</th>\n",
       "      <th>position_long</th>\n",
       "      <th>power</th>\n",
       "      <th>resistance</th>\n",
       "      <th>speed</th>\n",
       "      <th>temperature</th>\n",
       "      <th>time_from_course</th>\n",
       "      <th>timestamp</th>\n",
       "    </tr>\n",
       "  </thead>\n",
       "  <tbody>\n",
       "    <tr>\n",
       "      <th>0</th>\n",
       "      <td>10710188514.fit</td>\n",
       "      <td>45.462326</td>\n",
       "      <td>9.132765</td>\n",
       "      <td>1</td>\n",
       "      <td>NaN</td>\n",
       "      <td>NaN</td>\n",
       "      <td>0</td>\n",
       "      <td>NaN</td>\n",
       "      <td>NaN</td>\n",
       "      <td>0.00</td>\n",
       "      <td>NaN</td>\n",
       "      <td>0.000</td>\n",
       "      <td>0.0</td>\n",
       "      <td>NaN</td>\n",
       "      <td>542386674</td>\n",
       "      <td>108958136</td>\n",
       "      <td>NaN</td>\n",
       "      <td>NaN</td>\n",
       "      <td>0.000</td>\n",
       "      <td>24</td>\n",
       "      <td>NaN</td>\n",
       "      <td>2023-10-07 06:18:44+00:00</td>\n",
       "    </tr>\n",
       "    <tr>\n",
       "      <th>1</th>\n",
       "      <td>10710188514.fit</td>\n",
       "      <td>45.462325</td>\n",
       "      <td>9.132768</td>\n",
       "      <td>1</td>\n",
       "      <td>NaN</td>\n",
       "      <td>NaN</td>\n",
       "      <td>0</td>\n",
       "      <td>NaN</td>\n",
       "      <td>NaN</td>\n",
       "      <td>0.00</td>\n",
       "      <td>NaN</td>\n",
       "      <td>0.000</td>\n",
       "      <td>0.0</td>\n",
       "      <td>93.0</td>\n",
       "      <td>542386662</td>\n",
       "      <td>108958172</td>\n",
       "      <td>NaN</td>\n",
       "      <td>NaN</td>\n",
       "      <td>0.000</td>\n",
       "      <td>24</td>\n",
       "      <td>NaN</td>\n",
       "      <td>2023-10-07 06:18:45+00:00</td>\n",
       "    </tr>\n",
       "    <tr>\n",
       "      <th>2</th>\n",
       "      <td>10710188514.fit</td>\n",
       "      <td>45.462307</td>\n",
       "      <td>9.132850</td>\n",
       "      <td>1</td>\n",
       "      <td>NaN</td>\n",
       "      <td>0.0</td>\n",
       "      <td>0</td>\n",
       "      <td>NaN</td>\n",
       "      <td>NaN</td>\n",
       "      <td>0.31</td>\n",
       "      <td>NaN</td>\n",
       "      <td>0.725</td>\n",
       "      <td>0.0</td>\n",
       "      <td>88.0</td>\n",
       "      <td>542386445</td>\n",
       "      <td>108959150</td>\n",
       "      <td>NaN</td>\n",
       "      <td>NaN</td>\n",
       "      <td>0.725</td>\n",
       "      <td>24</td>\n",
       "      <td>NaN</td>\n",
       "      <td>2023-10-07 06:19:00+00:00</td>\n",
       "    </tr>\n",
       "    <tr>\n",
       "      <th>3</th>\n",
       "      <td>10710188514.fit</td>\n",
       "      <td>45.462308</td>\n",
       "      <td>9.132862</td>\n",
       "      <td>1</td>\n",
       "      <td>NaN</td>\n",
       "      <td>0.0</td>\n",
       "      <td>0</td>\n",
       "      <td>NaN</td>\n",
       "      <td>NaN</td>\n",
       "      <td>0.31</td>\n",
       "      <td>NaN</td>\n",
       "      <td>0.000</td>\n",
       "      <td>0.0</td>\n",
       "      <td>89.0</td>\n",
       "      <td>542386459</td>\n",
       "      <td>108959287</td>\n",
       "      <td>NaN</td>\n",
       "      <td>NaN</td>\n",
       "      <td>0.000</td>\n",
       "      <td>24</td>\n",
       "      <td>NaN</td>\n",
       "      <td>2023-10-07 06:19:01+00:00</td>\n",
       "    </tr>\n",
       "    <tr>\n",
       "      <th>4</th>\n",
       "      <td>10710188514.fit</td>\n",
       "      <td>45.462309</td>\n",
       "      <td>9.132871</td>\n",
       "      <td>1</td>\n",
       "      <td>NaN</td>\n",
       "      <td>0.0</td>\n",
       "      <td>0</td>\n",
       "      <td>NaN</td>\n",
       "      <td>NaN</td>\n",
       "      <td>0.31</td>\n",
       "      <td>NaN</td>\n",
       "      <td>0.000</td>\n",
       "      <td>0.0</td>\n",
       "      <td>90.0</td>\n",
       "      <td>542386479</td>\n",
       "      <td>108959393</td>\n",
       "      <td>NaN</td>\n",
       "      <td>NaN</td>\n",
       "      <td>0.000</td>\n",
       "      <td>24</td>\n",
       "      <td>NaN</td>\n",
       "      <td>2023-10-07 06:19:02+00:00</td>\n",
       "    </tr>\n",
       "    <tr>\n",
       "      <th>...</th>\n",
       "      <td>...</td>\n",
       "      <td>...</td>\n",
       "      <td>...</td>\n",
       "      <td>...</td>\n",
       "      <td>...</td>\n",
       "      <td>...</td>\n",
       "      <td>...</td>\n",
       "      <td>...</td>\n",
       "      <td>...</td>\n",
       "      <td>...</td>\n",
       "      <td>...</td>\n",
       "      <td>...</td>\n",
       "      <td>...</td>\n",
       "      <td>...</td>\n",
       "      <td>...</td>\n",
       "      <td>...</td>\n",
       "      <td>...</td>\n",
       "      <td>...</td>\n",
       "      <td>...</td>\n",
       "      <td>...</td>\n",
       "      <td>...</td>\n",
       "      <td>...</td>\n",
       "    </tr>\n",
       "    <tr>\n",
       "      <th>26660</th>\n",
       "      <td>10710188514.fit</td>\n",
       "      <td>45.462622</td>\n",
       "      <td>9.132907</td>\n",
       "      <td>5</td>\n",
       "      <td>120.8</td>\n",
       "      <td>0.0</td>\n",
       "      <td>5183</td>\n",
       "      <td>NaN</td>\n",
       "      <td>NaN</td>\n",
       "      <td>143115.43</td>\n",
       "      <td>120.8</td>\n",
       "      <td>2.086</td>\n",
       "      <td>0.0</td>\n",
       "      <td>113.0</td>\n",
       "      <td>542390203</td>\n",
       "      <td>108959830</td>\n",
       "      <td>NaN</td>\n",
       "      <td>NaN</td>\n",
       "      <td>2.086</td>\n",
       "      <td>26</td>\n",
       "      <td>NaN</td>\n",
       "      <td>2023-10-07 16:20:08+00:00</td>\n",
       "    </tr>\n",
       "    <tr>\n",
       "      <th>26661</th>\n",
       "      <td>10710188514.fit</td>\n",
       "      <td>45.462604</td>\n",
       "      <td>9.132901</td>\n",
       "      <td>5</td>\n",
       "      <td>120.8</td>\n",
       "      <td>0.0</td>\n",
       "      <td>5183</td>\n",
       "      <td>NaN</td>\n",
       "      <td>NaN</td>\n",
       "      <td>143117.41</td>\n",
       "      <td>120.8</td>\n",
       "      <td>1.961</td>\n",
       "      <td>0.0</td>\n",
       "      <td>113.0</td>\n",
       "      <td>542389998</td>\n",
       "      <td>108959751</td>\n",
       "      <td>NaN</td>\n",
       "      <td>NaN</td>\n",
       "      <td>1.961</td>\n",
       "      <td>26</td>\n",
       "      <td>NaN</td>\n",
       "      <td>2023-10-07 16:20:09+00:00</td>\n",
       "    </tr>\n",
       "    <tr>\n",
       "      <th>26662</th>\n",
       "      <td>10710188514.fit</td>\n",
       "      <td>45.462584</td>\n",
       "      <td>9.132896</td>\n",
       "      <td>5</td>\n",
       "      <td>120.8</td>\n",
       "      <td>0.0</td>\n",
       "      <td>5183</td>\n",
       "      <td>NaN</td>\n",
       "      <td>NaN</td>\n",
       "      <td>143119.76</td>\n",
       "      <td>120.8</td>\n",
       "      <td>2.697</td>\n",
       "      <td>0.0</td>\n",
       "      <td>114.0</td>\n",
       "      <td>542389750</td>\n",
       "      <td>108959695</td>\n",
       "      <td>NaN</td>\n",
       "      <td>NaN</td>\n",
       "      <td>2.697</td>\n",
       "      <td>26</td>\n",
       "      <td>NaN</td>\n",
       "      <td>2023-10-07 16:20:10+00:00</td>\n",
       "    </tr>\n",
       "    <tr>\n",
       "      <th>26663</th>\n",
       "      <td>10710188514.fit</td>\n",
       "      <td>45.462559</td>\n",
       "      <td>9.132893</td>\n",
       "      <td>5</td>\n",
       "      <td>120.8</td>\n",
       "      <td>0.0</td>\n",
       "      <td>5183</td>\n",
       "      <td>NaN</td>\n",
       "      <td>NaN</td>\n",
       "      <td>143122.50</td>\n",
       "      <td>120.8</td>\n",
       "      <td>2.902</td>\n",
       "      <td>0.0</td>\n",
       "      <td>114.0</td>\n",
       "      <td>542389457</td>\n",
       "      <td>108959659</td>\n",
       "      <td>NaN</td>\n",
       "      <td>NaN</td>\n",
       "      <td>2.902</td>\n",
       "      <td>26</td>\n",
       "      <td>NaN</td>\n",
       "      <td>2023-10-07 16:20:11+00:00</td>\n",
       "    </tr>\n",
       "    <tr>\n",
       "      <th>26664</th>\n",
       "      <td>10710188514.fit</td>\n",
       "      <td>45.462534</td>\n",
       "      <td>9.132901</td>\n",
       "      <td>5</td>\n",
       "      <td>120.8</td>\n",
       "      <td>0.0</td>\n",
       "      <td>5183</td>\n",
       "      <td>NaN</td>\n",
       "      <td>NaN</td>\n",
       "      <td>143125.41</td>\n",
       "      <td>120.8</td>\n",
       "      <td>3.438</td>\n",
       "      <td>0.0</td>\n",
       "      <td>116.0</td>\n",
       "      <td>542389153</td>\n",
       "      <td>108959759</td>\n",
       "      <td>NaN</td>\n",
       "      <td>NaN</td>\n",
       "      <td>3.438</td>\n",
       "      <td>26</td>\n",
       "      <td>NaN</td>\n",
       "      <td>2023-10-07 16:20:12+00:00</td>\n",
       "    </tr>\n",
       "  </tbody>\n",
       "</table>\n",
       "<p>26665 rows × 22 columns</p>\n",
       "</div>"
      ],
      "text/plain": [
       "              FileName   latitude  longitude  lap  altitude  cadence  \\\n",
       "0      10710188514.fit  45.462326   9.132765    1       NaN      NaN   \n",
       "1      10710188514.fit  45.462325   9.132768    1       NaN      NaN   \n",
       "2      10710188514.fit  45.462307   9.132850    1       NaN      0.0   \n",
       "3      10710188514.fit  45.462308   9.132862    1       NaN      0.0   \n",
       "4      10710188514.fit  45.462309   9.132871    1       NaN      0.0   \n",
       "...                ...        ...        ...  ...       ...      ...   \n",
       "26660  10710188514.fit  45.462622   9.132907    5     120.8      0.0   \n",
       "26661  10710188514.fit  45.462604   9.132901    5     120.8      0.0   \n",
       "26662  10710188514.fit  45.462584   9.132896    5     120.8      0.0   \n",
       "26663  10710188514.fit  45.462559   9.132893    5     120.8      0.0   \n",
       "26664  10710188514.fit  45.462534   9.132901    5     120.8      0.0   \n",
       "\n",
       "       calories  compressed_speed_distance  cycle_length   distance  \\\n",
       "0             0                        NaN           NaN       0.00   \n",
       "1             0                        NaN           NaN       0.00   \n",
       "2             0                        NaN           NaN       0.31   \n",
       "3             0                        NaN           NaN       0.31   \n",
       "4             0                        NaN           NaN       0.31   \n",
       "...         ...                        ...           ...        ...   \n",
       "26660      5183                        NaN           NaN  143115.43   \n",
       "26661      5183                        NaN           NaN  143117.41   \n",
       "26662      5183                        NaN           NaN  143119.76   \n",
       "26663      5183                        NaN           NaN  143122.50   \n",
       "26664      5183                        NaN           NaN  143125.41   \n",
       "\n",
       "       enhanced_altitude  enhanced_speed  grade  heart_rate  position_lat  \\\n",
       "0                    NaN           0.000    0.0         NaN     542386674   \n",
       "1                    NaN           0.000    0.0        93.0     542386662   \n",
       "2                    NaN           0.725    0.0        88.0     542386445   \n",
       "3                    NaN           0.000    0.0        89.0     542386459   \n",
       "4                    NaN           0.000    0.0        90.0     542386479   \n",
       "...                  ...             ...    ...         ...           ...   \n",
       "26660              120.8           2.086    0.0       113.0     542390203   \n",
       "26661              120.8           1.961    0.0       113.0     542389998   \n",
       "26662              120.8           2.697    0.0       114.0     542389750   \n",
       "26663              120.8           2.902    0.0       114.0     542389457   \n",
       "26664              120.8           3.438    0.0       116.0     542389153   \n",
       "\n",
       "       position_long  power  resistance  speed  temperature  time_from_course  \\\n",
       "0          108958136    NaN         NaN  0.000           24               NaN   \n",
       "1          108958172    NaN         NaN  0.000           24               NaN   \n",
       "2          108959150    NaN         NaN  0.725           24               NaN   \n",
       "3          108959287    NaN         NaN  0.000           24               NaN   \n",
       "4          108959393    NaN         NaN  0.000           24               NaN   \n",
       "...              ...    ...         ...    ...          ...               ...   \n",
       "26660      108959830    NaN         NaN  2.086           26               NaN   \n",
       "26661      108959751    NaN         NaN  1.961           26               NaN   \n",
       "26662      108959695    NaN         NaN  2.697           26               NaN   \n",
       "26663      108959659    NaN         NaN  2.902           26               NaN   \n",
       "26664      108959759    NaN         NaN  3.438           26               NaN   \n",
       "\n",
       "                      timestamp  \n",
       "0     2023-10-07 06:18:44+00:00  \n",
       "1     2023-10-07 06:18:45+00:00  \n",
       "2     2023-10-07 06:19:00+00:00  \n",
       "3     2023-10-07 06:19:01+00:00  \n",
       "4     2023-10-07 06:19:02+00:00  \n",
       "...                         ...  \n",
       "26660 2023-10-07 16:20:08+00:00  \n",
       "26661 2023-10-07 16:20:09+00:00  \n",
       "26662 2023-10-07 16:20:10+00:00  \n",
       "26663 2023-10-07 16:20:11+00:00  \n",
       "26664 2023-10-07 16:20:12+00:00  \n",
       "\n",
       "[26665 rows x 22 columns]"
      ]
     },
     "execution_count": 194,
     "metadata": {},
     "output_type": "execute_result"
    }
   ],
   "source": [
    "[d for d in list_of_dfs_fit_points\n",
    " if d[[\"altitude\", \"cadence\", \"calories\", \"distance\",\n",
    "       \"speed\", \"grade\", \"heart_rate\", \"temperature\"]].isnull().sum().sum()/len(d)*8 < 0.05][6]"
   ]
  },
  {
   "cell_type": "code",
   "execution_count": 47,
   "metadata": {
    "ExecuteTime": {
     "end_time": "2024-07-09T19:39:55.904397Z",
     "start_time": "2024-07-09T19:39:55.756211Z"
    }
   },
   "outputs": [
    {
     "data": {
      "text/plain": [
       "['Zwift - Zwift Academy: Workout 1 | Explosive 30s in Yorkshire',\n",
       " 'Zwift - Zwift Academy Tri:  Bike Workout 2 | Aerobic Threshold Development in Watopia',\n",
       " 'Zwift - Zone 3 Steps in Makuri Islands',\n",
       " 'Zwift - Zone 1 Ride in Innsbruck',\n",
       " 'Zwift - Workout 13 in New York',\n",
       " 'Zwift - Volcano Climb Forward in Watopia',\n",
       " 'Zwift - Triple Flat Loops in Watopia',\n",
       " 'Zwift - Tiny Race: Seaside Sprint in Watopia',\n",
       " 'Zwift - Threshold Development in France',\n",
       " 'Zwift - Threshold #2 in Watopia']"
      ]
     },
     "execution_count": 47,
     "metadata": {},
     "output_type": "execute_result"
    }
   ],
   "source": [
    "sorted(activities_df[\"Activity Name\"])[::-1][:10]"
   ]
  },
  {
   "cell_type": "code",
   "execution_count": 90,
   "metadata": {
    "ExecuteTime": {
     "end_time": "2024-07-09T19:54:01.974604Z",
     "start_time": "2024-07-09T19:54:01.805089Z"
    }
   },
   "outputs": [
    {
     "data": {
      "text/html": [
       "<div>\n",
       "<style scoped>\n",
       "    .dataframe tbody tr th:only-of-type {\n",
       "        vertical-align: middle;\n",
       "    }\n",
       "\n",
       "    .dataframe tbody tr th {\n",
       "        vertical-align: top;\n",
       "    }\n",
       "\n",
       "    .dataframe thead th {\n",
       "        text-align: right;\n",
       "    }\n",
       "</style>\n",
       "<table border=\"1\" class=\"dataframe\">\n",
       "  <thead>\n",
       "    <tr style=\"text-align: right;\">\n",
       "      <th></th>\n",
       "      <th>Activity ID</th>\n",
       "      <th>Activity Date</th>\n",
       "      <th>Activity Name</th>\n",
       "      <th>Activity Type</th>\n",
       "      <th>Activity Description</th>\n",
       "      <th>Elapsed Time</th>\n",
       "      <th>Distance</th>\n",
       "      <th>Max Heart Rate</th>\n",
       "      <th>Relative Effort</th>\n",
       "      <th>Commute</th>\n",
       "      <th>Activity Private Note</th>\n",
       "      <th>Activity Gear</th>\n",
       "      <th>Filename</th>\n",
       "      <th>Athlete Weight</th>\n",
       "      <th>Bike Weight</th>\n",
       "      <th>Elapsed Time.1</th>\n",
       "      <th>Moving Time</th>\n",
       "      <th>Distance.1</th>\n",
       "      <th>Max Speed</th>\n",
       "      <th>Average Speed</th>\n",
       "      <th>Elevation Gain</th>\n",
       "      <th>Elevation Loss</th>\n",
       "      <th>Elevation Low</th>\n",
       "      <th>Elevation High</th>\n",
       "      <th>Max Grade</th>\n",
       "      <th>Average Grade</th>\n",
       "      <th>Average Positive Grade</th>\n",
       "      <th>Average Negative Grade</th>\n",
       "      <th>Max Cadence</th>\n",
       "      <th>Average Cadence</th>\n",
       "      <th>Max Heart Rate.1</th>\n",
       "      <th>Average Heart Rate</th>\n",
       "      <th>Max Watts</th>\n",
       "      <th>Average Watts</th>\n",
       "      <th>Calories</th>\n",
       "      <th>Max Temperature</th>\n",
       "      <th>Average Temperature</th>\n",
       "      <th>Relative Effort.1</th>\n",
       "      <th>Total Work</th>\n",
       "      <th>Number of Runs</th>\n",
       "      <th>Uphill Time</th>\n",
       "      <th>Downhill Time</th>\n",
       "      <th>Other Time</th>\n",
       "      <th>Perceived Exertion</th>\n",
       "      <th>Type</th>\n",
       "      <th>Start Time</th>\n",
       "      <th>Weighted Average Power</th>\n",
       "      <th>Power Count</th>\n",
       "      <th>Prefer Perceived Exertion</th>\n",
       "      <th>Perceived Relative Effort</th>\n",
       "      <th>Commute.1</th>\n",
       "      <th>Total Weight Lifted</th>\n",
       "      <th>From Upload</th>\n",
       "      <th>Grade Adjusted Distance</th>\n",
       "      <th>Weather Observation Time</th>\n",
       "      <th>Weather Condition</th>\n",
       "      <th>Weather Temperature</th>\n",
       "      <th>Apparent Temperature</th>\n",
       "      <th>Dewpoint</th>\n",
       "      <th>Humidity</th>\n",
       "      <th>Weather Pressure</th>\n",
       "      <th>Wind Speed</th>\n",
       "      <th>Wind Gust</th>\n",
       "      <th>Wind Bearing</th>\n",
       "      <th>Precipitation Intensity</th>\n",
       "      <th>Sunrise Time</th>\n",
       "      <th>Sunset Time</th>\n",
       "      <th>Moon Phase</th>\n",
       "      <th>Bike</th>\n",
       "      <th>Gear</th>\n",
       "      <th>Precipitation Probability</th>\n",
       "      <th>Precipitation Type</th>\n",
       "      <th>Cloud Cover</th>\n",
       "      <th>Weather Visibility</th>\n",
       "      <th>UV Index</th>\n",
       "      <th>Weather Ozone</th>\n",
       "      <th>Jump Count</th>\n",
       "      <th>Total Grit</th>\n",
       "      <th>Average Flow</th>\n",
       "      <th>Flagged</th>\n",
       "      <th>Average Elapsed Speed</th>\n",
       "      <th>Dirt Distance</th>\n",
       "      <th>Newly Explored Distance</th>\n",
       "      <th>Newly Explored Dirt Distance</th>\n",
       "      <th>Activity Count</th>\n",
       "      <th>Total Steps</th>\n",
       "      <th>Carbon Saved</th>\n",
       "      <th>Pool Length</th>\n",
       "      <th>Training Load</th>\n",
       "      <th>Intensity</th>\n",
       "      <th>Average Grade Adjusted Pace</th>\n",
       "      <th>Timer Time</th>\n",
       "      <th>Total Cycles</th>\n",
       "      <th>Media</th>\n",
       "    </tr>\n",
       "  </thead>\n",
       "  <tbody>\n",
       "    <tr>\n",
       "      <th>132</th>\n",
       "      <td>11659433168</td>\n",
       "      <td>Jun 15, 2024, 1:19:44 PM</td>\n",
       "      <td>Zwift - The Pretzel in Watopia</td>\n",
       "      <td>Virtual Ride</td>\n",
       "      <td>Ride to improve PBs on hills</td>\n",
       "      <td>11086</td>\n",
       "      <td>73.07</td>\n",
       "      <td>186.0</td>\n",
       "      <td>202.0</td>\n",
       "      <td>False</td>\n",
       "      <td>NaN</td>\n",
       "      <td>Scott Addict RC (virtual)</td>\n",
       "      <td>12441011297.fit</td>\n",
       "      <td>NaN</td>\n",
       "      <td>7.9</td>\n",
       "      <td>11086.0</td>\n",
       "      <td>10407.0</td>\n",
       "      <td>73076.007812</td>\n",
       "      <td>24.015625</td>\n",
       "      <td>7.021813</td>\n",
       "      <td>1354.0</td>\n",
       "      <td>0.0</td>\n",
       "      <td>-6.4</td>\n",
       "      <td>516.200012</td>\n",
       "      <td>19.785538</td>\n",
       "      <td>-0.007937</td>\n",
       "      <td>NaN</td>\n",
       "      <td>NaN</td>\n",
       "      <td>114.0</td>\n",
       "      <td>87.526077</td>\n",
       "      <td>186.0</td>\n",
       "      <td>157.124146</td>\n",
       "      <td>NaN</td>\n",
       "      <td>144.016159</td>\n",
       "      <td>1431.0</td>\n",
       "      <td>NaN</td>\n",
       "      <td>NaN</td>\n",
       "      <td>202.0</td>\n",
       "      <td>NaN</td>\n",
       "      <td>NaN</td>\n",
       "      <td>NaN</td>\n",
       "      <td>NaN</td>\n",
       "      <td>NaN</td>\n",
       "      <td>6.0</td>\n",
       "      <td>NaN</td>\n",
       "      <td>NaN</td>\n",
       "      <td>155.0</td>\n",
       "      <td>10660.0</td>\n",
       "      <td>0.0</td>\n",
       "      <td>274.0</td>\n",
       "      <td>0.0</td>\n",
       "      <td>NaN</td>\n",
       "      <td>1.0</td>\n",
       "      <td>NaN</td>\n",
       "      <td>NaN</td>\n",
       "      <td>NaN</td>\n",
       "      <td>NaN</td>\n",
       "      <td>NaN</td>\n",
       "      <td>NaN</td>\n",
       "      <td>NaN</td>\n",
       "      <td>NaN</td>\n",
       "      <td>NaN</td>\n",
       "      <td>NaN</td>\n",
       "      <td>NaN</td>\n",
       "      <td>NaN</td>\n",
       "      <td>NaN</td>\n",
       "      <td>NaN</td>\n",
       "      <td>NaN</td>\n",
       "      <td>13940951.0</td>\n",
       "      <td>NaN</td>\n",
       "      <td>NaN</td>\n",
       "      <td>NaN</td>\n",
       "      <td>NaN</td>\n",
       "      <td>NaN</td>\n",
       "      <td>NaN</td>\n",
       "      <td>NaN</td>\n",
       "      <td>NaN</td>\n",
       "      <td>NaN</td>\n",
       "      <td>NaN</td>\n",
       "      <td>0.0</td>\n",
       "      <td>6.591738</td>\n",
       "      <td>0.0</td>\n",
       "      <td>NaN</td>\n",
       "      <td>NaN</td>\n",
       "      <td>NaN</td>\n",
       "      <td>NaN</td>\n",
       "      <td>NaN</td>\n",
       "      <td>NaN</td>\n",
       "      <td>219.0</td>\n",
       "      <td>86.0</td>\n",
       "      <td>NaN</td>\n",
       "      <td>NaN</td>\n",
       "      <td>NaN</td>\n",
       "      <td>media/c67ff196-d530-4e92-a210-242434894968.jpg...</td>\n",
       "    </tr>\n",
       "  </tbody>\n",
       "</table>\n",
       "</div>"
      ],
      "text/plain": [
       "     Activity ID             Activity Date                   Activity Name  \\\n",
       "132  11659433168  Jun 15, 2024, 1:19:44 PM  Zwift - The Pretzel in Watopia   \n",
       "\n",
       "    Activity Type          Activity Description  Elapsed Time  Distance  \\\n",
       "132  Virtual Ride  Ride to improve PBs on hills         11086     73.07   \n",
       "\n",
       "     Max Heart Rate  Relative Effort  Commute  Activity Private Note  \\\n",
       "132           186.0            202.0    False                    NaN   \n",
       "\n",
       "                 Activity Gear         Filename  Athlete Weight  Bike Weight  \\\n",
       "132  Scott Addict RC (virtual)  12441011297.fit             NaN          7.9   \n",
       "\n",
       "     Elapsed Time.1  Moving Time    Distance.1  Max Speed  Average Speed  \\\n",
       "132         11086.0      10407.0  73076.007812  24.015625       7.021813   \n",
       "\n",
       "     Elevation Gain  Elevation Loss  Elevation Low  Elevation High  Max Grade  \\\n",
       "132          1354.0             0.0           -6.4      516.200012  19.785538   \n",
       "\n",
       "     Average Grade  Average Positive Grade  Average Negative Grade  \\\n",
       "132      -0.007937                     NaN                     NaN   \n",
       "\n",
       "     Max Cadence  Average Cadence  Max Heart Rate.1  Average Heart Rate  \\\n",
       "132        114.0        87.526077             186.0          157.124146   \n",
       "\n",
       "     Max Watts  Average Watts  Calories  Max Temperature  Average Temperature  \\\n",
       "132        NaN     144.016159    1431.0              NaN                  NaN   \n",
       "\n",
       "     Relative Effort.1  Total Work  Number of Runs  Uphill Time  \\\n",
       "132              202.0         NaN             NaN          NaN   \n",
       "\n",
       "     Downhill Time  Other Time  Perceived Exertion  Type  Start Time  \\\n",
       "132            NaN         NaN                 6.0   NaN         NaN   \n",
       "\n",
       "     Weighted Average Power  Power Count  Prefer Perceived Exertion  \\\n",
       "132                   155.0      10660.0                        0.0   \n",
       "\n",
       "     Perceived Relative Effort  Commute.1  Total Weight Lifted  From Upload  \\\n",
       "132                      274.0        0.0                  NaN          1.0   \n",
       "\n",
       "     Grade Adjusted Distance  Weather Observation Time  Weather Condition  \\\n",
       "132                      NaN                       NaN                NaN   \n",
       "\n",
       "     Weather Temperature  Apparent Temperature  Dewpoint  Humidity  \\\n",
       "132                  NaN                   NaN       NaN       NaN   \n",
       "\n",
       "     Weather Pressure  Wind Speed  Wind Gust  Wind Bearing  \\\n",
       "132               NaN         NaN        NaN           NaN   \n",
       "\n",
       "     Precipitation Intensity  Sunrise Time  Sunset Time  Moon Phase  \\\n",
       "132                      NaN           NaN          NaN         NaN   \n",
       "\n",
       "           Bike  Gear  Precipitation Probability  Precipitation Type  \\\n",
       "132  13940951.0   NaN                        NaN                 NaN   \n",
       "\n",
       "     Cloud Cover  Weather Visibility  UV Index  Weather Ozone  Jump Count  \\\n",
       "132          NaN                 NaN       NaN            NaN         NaN   \n",
       "\n",
       "     Total Grit  Average Flow  Flagged  Average Elapsed Speed  Dirt Distance  \\\n",
       "132         NaN           NaN      0.0               6.591738            0.0   \n",
       "\n",
       "     Newly Explored Distance  Newly Explored Dirt Distance  Activity Count  \\\n",
       "132                      NaN                           NaN             NaN   \n",
       "\n",
       "     Total Steps  Carbon Saved  Pool Length  Training Load  Intensity  \\\n",
       "132          NaN           NaN          NaN          219.0       86.0   \n",
       "\n",
       "     Average Grade Adjusted Pace  Timer Time  Total Cycles  \\\n",
       "132                          NaN         NaN           NaN   \n",
       "\n",
       "                                                 Media  \n",
       "132  media/c67ff196-d530-4e92-a210-242434894968.jpg...  "
      ]
     },
     "execution_count": 90,
     "metadata": {},
     "output_type": "execute_result"
    }
   ],
   "source": [
    "# activities_df[activities_df[\"Activity Name\"] == \"Back to salite in real life\"] # Zwift - The Pretzel in Watopia\n",
    "activities_df[activities_df[\"Activity Name\"] == \"Zwift - The Pretzel in Watopia\"] # "
   ]
  },
  {
   "cell_type": "code",
   "execution_count": 50,
   "metadata": {
    "ExecuteTime": {
     "end_time": "2024-07-09T19:40:32.338697Z",
     "start_time": "2024-07-09T19:40:32.229635Z"
    }
   },
   "outputs": [
    {
     "data": {
      "text/plain": [
       "['30 km indoor ride',\n",
       " '30km indoor',\n",
       " '40 km indoor ride',\n",
       " '45 km indoor ride',\n",
       " '45 km indoor ride',\n",
       " '5km run 💀',\n",
       " 'A spasso day 2',\n",
       " 'Abbazia di Rosazzo',\n",
       " 'Affezionato alla Brianza + giro turistico in centro',\n",
       " 'Afternoon Ride',\n",
       " 'Afternoon Ride - All4Cycling',\n",
       " 'Afternoon Ride in the rain🌧',\n",
       " 'Allenamento #1',\n",
       " 'Almeno la foratura questo giro è arrivata vicino casa',\n",
       " 'Attorno a San Siro prima della UCL',\n",
       " 'Azzardando ghiaini a Teolo',\n",
       " 'Back in Veneto',\n",
       " 'Back on the road',\n",
       " 'Back to salite in real life',\n",
       " 'Berico-Giaretta-Sasso']"
      ]
     },
     "execution_count": 50,
     "metadata": {},
     "output_type": "execute_result"
    }
   ],
   "source": [
    "sorted(activities_df[\"Activity Name\"])[:20]"
   ]
  },
  {
   "cell_type": "code",
   "execution_count": 77,
   "metadata": {
    "ExecuteTime": {
     "end_time": "2024-07-09T19:46:59.972753Z",
     "start_time": "2024-07-09T19:46:59.852845Z"
    }
   },
   "outputs": [],
   "source": [
    "# fit_file_points[fit_file_points[\"grade\"].notna()]"
   ]
  },
  {
   "cell_type": "code",
   "execution_count": 220,
   "metadata": {
    "ExecuteTime": {
     "end_time": "2024-07-09T20:41:57.253408Z",
     "start_time": "2024-07-09T20:41:56.856167Z"
    }
   },
   "outputs": [],
   "source": [
    "# find slope\n",
    "x = fit_file_points[fit_file_points[\"Filename\"] == \"12441011297.fit\"].copy()\n",
    "x = x.reset_index(drop = True)"
   ]
  },
  {
   "cell_type": "code",
   "execution_count": 221,
   "metadata": {
    "ExecuteTime": {
     "end_time": "2024-07-09T20:41:58.656426Z",
     "start_time": "2024-07-09T20:41:58.284172Z"
    }
   },
   "outputs": [
    {
     "data": {
      "text/html": [
       "<div>\n",
       "<style scoped>\n",
       "    .dataframe tbody tr th:only-of-type {\n",
       "        vertical-align: middle;\n",
       "    }\n",
       "\n",
       "    .dataframe tbody tr th {\n",
       "        vertical-align: top;\n",
       "    }\n",
       "\n",
       "    .dataframe thead th {\n",
       "        text-align: right;\n",
       "    }\n",
       "</style>\n",
       "<table border=\"1\" class=\"dataframe\">\n",
       "  <thead>\n",
       "    <tr style=\"text-align: right;\">\n",
       "      <th></th>\n",
       "      <th>FileName</th>\n",
       "      <th>latitude</th>\n",
       "      <th>longitude</th>\n",
       "      <th>lap</th>\n",
       "      <th>altitude</th>\n",
       "      <th>cadence</th>\n",
       "      <th>calories</th>\n",
       "      <th>compressed_speed_distance</th>\n",
       "      <th>cycle_length</th>\n",
       "      <th>distance</th>\n",
       "      <th>enhanced_altitude</th>\n",
       "      <th>enhanced_speed</th>\n",
       "      <th>grade</th>\n",
       "      <th>heart_rate</th>\n",
       "      <th>position_lat</th>\n",
       "      <th>position_long</th>\n",
       "      <th>power</th>\n",
       "      <th>resistance</th>\n",
       "      <th>speed</th>\n",
       "      <th>temperature</th>\n",
       "      <th>time_from_course</th>\n",
       "      <th>timestamp</th>\n",
       "      <th>Activity ID</th>\n",
       "      <th>Activity Date</th>\n",
       "      <th>Activity Name</th>\n",
       "      <th>Activity Type</th>\n",
       "      <th>Activity Description</th>\n",
       "      <th>Elapsed Time</th>\n",
       "      <th>Distance</th>\n",
       "      <th>Max Heart Rate</th>\n",
       "      <th>Relative Effort</th>\n",
       "      <th>Commute</th>\n",
       "      <th>Activity Private Note</th>\n",
       "      <th>Activity Gear</th>\n",
       "      <th>Filename</th>\n",
       "      <th>Athlete Weight</th>\n",
       "      <th>Bike Weight</th>\n",
       "      <th>Elapsed Time.1</th>\n",
       "      <th>Moving Time</th>\n",
       "      <th>Distance.1</th>\n",
       "      <th>Max Speed</th>\n",
       "      <th>Average Speed</th>\n",
       "      <th>Elevation Gain</th>\n",
       "      <th>Elevation Loss</th>\n",
       "      <th>Elevation Low</th>\n",
       "      <th>Elevation High</th>\n",
       "      <th>Max Grade</th>\n",
       "      <th>Average Grade</th>\n",
       "      <th>Average Positive Grade</th>\n",
       "      <th>Average Negative Grade</th>\n",
       "      <th>...</th>\n",
       "      <th>Type</th>\n",
       "      <th>Start Time</th>\n",
       "      <th>Weighted Average Power</th>\n",
       "      <th>Power Count</th>\n",
       "      <th>Prefer Perceived Exertion</th>\n",
       "      <th>Perceived Relative Effort</th>\n",
       "      <th>Commute.1</th>\n",
       "      <th>Total Weight Lifted</th>\n",
       "      <th>From Upload</th>\n",
       "      <th>Grade Adjusted Distance</th>\n",
       "      <th>Weather Observation Time</th>\n",
       "      <th>Weather Condition</th>\n",
       "      <th>Weather Temperature</th>\n",
       "      <th>Apparent Temperature</th>\n",
       "      <th>Dewpoint</th>\n",
       "      <th>Humidity</th>\n",
       "      <th>Weather Pressure</th>\n",
       "      <th>Wind Speed</th>\n",
       "      <th>Wind Gust</th>\n",
       "      <th>Wind Bearing</th>\n",
       "      <th>Precipitation Intensity</th>\n",
       "      <th>Sunrise Time</th>\n",
       "      <th>Sunset Time</th>\n",
       "      <th>Moon Phase</th>\n",
       "      <th>Bike</th>\n",
       "      <th>Gear</th>\n",
       "      <th>Precipitation Probability</th>\n",
       "      <th>Precipitation Type</th>\n",
       "      <th>Cloud Cover</th>\n",
       "      <th>Weather Visibility</th>\n",
       "      <th>UV Index</th>\n",
       "      <th>Weather Ozone</th>\n",
       "      <th>Jump Count</th>\n",
       "      <th>Total Grit</th>\n",
       "      <th>Average Flow</th>\n",
       "      <th>Flagged</th>\n",
       "      <th>Average Elapsed Speed</th>\n",
       "      <th>Dirt Distance</th>\n",
       "      <th>Newly Explored Distance</th>\n",
       "      <th>Newly Explored Dirt Distance</th>\n",
       "      <th>Activity Count</th>\n",
       "      <th>Total Steps</th>\n",
       "      <th>Carbon Saved</th>\n",
       "      <th>Pool Length</th>\n",
       "      <th>Training Load</th>\n",
       "      <th>Intensity</th>\n",
       "      <th>Average Grade Adjusted Pace</th>\n",
       "      <th>Timer Time</th>\n",
       "      <th>Total Cycles</th>\n",
       "      <th>Media</th>\n",
       "    </tr>\n",
       "  </thead>\n",
       "  <tbody>\n",
       "    <tr>\n",
       "      <th>0</th>\n",
       "      <td>12441011297.fit</td>\n",
       "      <td>-11.639474</td>\n",
       "      <td>166.948264</td>\n",
       "      <td>1</td>\n",
       "      <td>7.4</td>\n",
       "      <td>0.0</td>\n",
       "      <td>NaN</td>\n",
       "      <td>None</td>\n",
       "      <td>None</td>\n",
       "      <td>2.46</td>\n",
       "      <td>7.4</td>\n",
       "      <td>2.371</td>\n",
       "      <td>NaN</td>\n",
       "      <td>104.0</td>\n",
       "      <td>-138864336</td>\n",
       "      <td>1991770368</td>\n",
       "      <td>0.0</td>\n",
       "      <td>NaN</td>\n",
       "      <td>NaN</td>\n",
       "      <td>None</td>\n",
       "      <td>None</td>\n",
       "      <td>2024-06-15 13:19:44+00:00</td>\n",
       "      <td>11659433168</td>\n",
       "      <td>Jun 15, 2024, 1:19:44 PM</td>\n",
       "      <td>Zwift - The Pretzel in Watopia</td>\n",
       "      <td>Virtual Ride</td>\n",
       "      <td>Ride to improve PBs on hills</td>\n",
       "      <td>11086</td>\n",
       "      <td>73.07</td>\n",
       "      <td>186.0</td>\n",
       "      <td>202.0</td>\n",
       "      <td>False</td>\n",
       "      <td>NaN</td>\n",
       "      <td>Scott Addict RC (virtual)</td>\n",
       "      <td>12441011297.fit</td>\n",
       "      <td>NaN</td>\n",
       "      <td>7.9</td>\n",
       "      <td>11086.0</td>\n",
       "      <td>10407.0</td>\n",
       "      <td>73076.007812</td>\n",
       "      <td>24.015625</td>\n",
       "      <td>7.021813</td>\n",
       "      <td>1354.0</td>\n",
       "      <td>0.0</td>\n",
       "      <td>-6.4</td>\n",
       "      <td>516.200012</td>\n",
       "      <td>19.785538</td>\n",
       "      <td>-0.007937</td>\n",
       "      <td>NaN</td>\n",
       "      <td>NaN</td>\n",
       "      <td>...</td>\n",
       "      <td>NaN</td>\n",
       "      <td>NaN</td>\n",
       "      <td>155.0</td>\n",
       "      <td>10660.0</td>\n",
       "      <td>0.0</td>\n",
       "      <td>274.0</td>\n",
       "      <td>0.0</td>\n",
       "      <td>NaN</td>\n",
       "      <td>1.0</td>\n",
       "      <td>NaN</td>\n",
       "      <td>NaN</td>\n",
       "      <td>NaN</td>\n",
       "      <td>NaN</td>\n",
       "      <td>NaN</td>\n",
       "      <td>NaN</td>\n",
       "      <td>NaN</td>\n",
       "      <td>NaN</td>\n",
       "      <td>NaN</td>\n",
       "      <td>NaN</td>\n",
       "      <td>NaN</td>\n",
       "      <td>NaN</td>\n",
       "      <td>NaN</td>\n",
       "      <td>NaN</td>\n",
       "      <td>NaN</td>\n",
       "      <td>13940951.0</td>\n",
       "      <td>NaN</td>\n",
       "      <td>NaN</td>\n",
       "      <td>NaN</td>\n",
       "      <td>NaN</td>\n",
       "      <td>NaN</td>\n",
       "      <td>NaN</td>\n",
       "      <td>NaN</td>\n",
       "      <td>NaN</td>\n",
       "      <td>NaN</td>\n",
       "      <td>NaN</td>\n",
       "      <td>0.0</td>\n",
       "      <td>6.591738</td>\n",
       "      <td>0.0</td>\n",
       "      <td>NaN</td>\n",
       "      <td>NaN</td>\n",
       "      <td>NaN</td>\n",
       "      <td>NaN</td>\n",
       "      <td>NaN</td>\n",
       "      <td>NaN</td>\n",
       "      <td>219.0</td>\n",
       "      <td>86.0</td>\n",
       "      <td>NaN</td>\n",
       "      <td>NaN</td>\n",
       "      <td>NaN</td>\n",
       "      <td>media/c67ff196-d530-4e92-a210-242434894968.jpg...</td>\n",
       "    </tr>\n",
       "    <tr>\n",
       "      <th>1</th>\n",
       "      <td>12441011297.fit</td>\n",
       "      <td>-11.639455</td>\n",
       "      <td>166.948274</td>\n",
       "      <td>1</td>\n",
       "      <td>7.2</td>\n",
       "      <td>48.0</td>\n",
       "      <td>NaN</td>\n",
       "      <td>None</td>\n",
       "      <td>None</td>\n",
       "      <td>5.15</td>\n",
       "      <td>7.2</td>\n",
       "      <td>3.145</td>\n",
       "      <td>NaN</td>\n",
       "      <td>102.0</td>\n",
       "      <td>-138864112</td>\n",
       "      <td>1991770496</td>\n",
       "      <td>237.0</td>\n",
       "      <td>NaN</td>\n",
       "      <td>NaN</td>\n",
       "      <td>None</td>\n",
       "      <td>None</td>\n",
       "      <td>2024-06-15 13:19:45+00:00</td>\n",
       "      <td>11659433168</td>\n",
       "      <td>Jun 15, 2024, 1:19:44 PM</td>\n",
       "      <td>Zwift - The Pretzel in Watopia</td>\n",
       "      <td>Virtual Ride</td>\n",
       "      <td>Ride to improve PBs on hills</td>\n",
       "      <td>11086</td>\n",
       "      <td>73.07</td>\n",
       "      <td>186.0</td>\n",
       "      <td>202.0</td>\n",
       "      <td>False</td>\n",
       "      <td>NaN</td>\n",
       "      <td>Scott Addict RC (virtual)</td>\n",
       "      <td>12441011297.fit</td>\n",
       "      <td>NaN</td>\n",
       "      <td>7.9</td>\n",
       "      <td>11086.0</td>\n",
       "      <td>10407.0</td>\n",
       "      <td>73076.007812</td>\n",
       "      <td>24.015625</td>\n",
       "      <td>7.021813</td>\n",
       "      <td>1354.0</td>\n",
       "      <td>0.0</td>\n",
       "      <td>-6.4</td>\n",
       "      <td>516.200012</td>\n",
       "      <td>19.785538</td>\n",
       "      <td>-0.007937</td>\n",
       "      <td>NaN</td>\n",
       "      <td>NaN</td>\n",
       "      <td>...</td>\n",
       "      <td>NaN</td>\n",
       "      <td>NaN</td>\n",
       "      <td>155.0</td>\n",
       "      <td>10660.0</td>\n",
       "      <td>0.0</td>\n",
       "      <td>274.0</td>\n",
       "      <td>0.0</td>\n",
       "      <td>NaN</td>\n",
       "      <td>1.0</td>\n",
       "      <td>NaN</td>\n",
       "      <td>NaN</td>\n",
       "      <td>NaN</td>\n",
       "      <td>NaN</td>\n",
       "      <td>NaN</td>\n",
       "      <td>NaN</td>\n",
       "      <td>NaN</td>\n",
       "      <td>NaN</td>\n",
       "      <td>NaN</td>\n",
       "      <td>NaN</td>\n",
       "      <td>NaN</td>\n",
       "      <td>NaN</td>\n",
       "      <td>NaN</td>\n",
       "      <td>NaN</td>\n",
       "      <td>NaN</td>\n",
       "      <td>13940951.0</td>\n",
       "      <td>NaN</td>\n",
       "      <td>NaN</td>\n",
       "      <td>NaN</td>\n",
       "      <td>NaN</td>\n",
       "      <td>NaN</td>\n",
       "      <td>NaN</td>\n",
       "      <td>NaN</td>\n",
       "      <td>NaN</td>\n",
       "      <td>NaN</td>\n",
       "      <td>NaN</td>\n",
       "      <td>0.0</td>\n",
       "      <td>6.591738</td>\n",
       "      <td>0.0</td>\n",
       "      <td>NaN</td>\n",
       "      <td>NaN</td>\n",
       "      <td>NaN</td>\n",
       "      <td>NaN</td>\n",
       "      <td>NaN</td>\n",
       "      <td>NaN</td>\n",
       "      <td>219.0</td>\n",
       "      <td>86.0</td>\n",
       "      <td>NaN</td>\n",
       "      <td>NaN</td>\n",
       "      <td>NaN</td>\n",
       "      <td>media/c67ff196-d530-4e92-a210-242434894968.jpg...</td>\n",
       "    </tr>\n",
       "    <tr>\n",
       "      <th>2</th>\n",
       "      <td>12441011297.fit</td>\n",
       "      <td>-11.639433</td>\n",
       "      <td>166.948307</td>\n",
       "      <td>1</td>\n",
       "      <td>7.2</td>\n",
       "      <td>60.0</td>\n",
       "      <td>NaN</td>\n",
       "      <td>None</td>\n",
       "      <td>None</td>\n",
       "      <td>8.82</td>\n",
       "      <td>7.2</td>\n",
       "      <td>3.940</td>\n",
       "      <td>NaN</td>\n",
       "      <td>101.0</td>\n",
       "      <td>-138863840</td>\n",
       "      <td>1991770880</td>\n",
       "      <td>110.0</td>\n",
       "      <td>NaN</td>\n",
       "      <td>NaN</td>\n",
       "      <td>None</td>\n",
       "      <td>None</td>\n",
       "      <td>2024-06-15 13:19:46+00:00</td>\n",
       "      <td>11659433168</td>\n",
       "      <td>Jun 15, 2024, 1:19:44 PM</td>\n",
       "      <td>Zwift - The Pretzel in Watopia</td>\n",
       "      <td>Virtual Ride</td>\n",
       "      <td>Ride to improve PBs on hills</td>\n",
       "      <td>11086</td>\n",
       "      <td>73.07</td>\n",
       "      <td>186.0</td>\n",
       "      <td>202.0</td>\n",
       "      <td>False</td>\n",
       "      <td>NaN</td>\n",
       "      <td>Scott Addict RC (virtual)</td>\n",
       "      <td>12441011297.fit</td>\n",
       "      <td>NaN</td>\n",
       "      <td>7.9</td>\n",
       "      <td>11086.0</td>\n",
       "      <td>10407.0</td>\n",
       "      <td>73076.007812</td>\n",
       "      <td>24.015625</td>\n",
       "      <td>7.021813</td>\n",
       "      <td>1354.0</td>\n",
       "      <td>0.0</td>\n",
       "      <td>-6.4</td>\n",
       "      <td>516.200012</td>\n",
       "      <td>19.785538</td>\n",
       "      <td>-0.007937</td>\n",
       "      <td>NaN</td>\n",
       "      <td>NaN</td>\n",
       "      <td>...</td>\n",
       "      <td>NaN</td>\n",
       "      <td>NaN</td>\n",
       "      <td>155.0</td>\n",
       "      <td>10660.0</td>\n",
       "      <td>0.0</td>\n",
       "      <td>274.0</td>\n",
       "      <td>0.0</td>\n",
       "      <td>NaN</td>\n",
       "      <td>1.0</td>\n",
       "      <td>NaN</td>\n",
       "      <td>NaN</td>\n",
       "      <td>NaN</td>\n",
       "      <td>NaN</td>\n",
       "      <td>NaN</td>\n",
       "      <td>NaN</td>\n",
       "      <td>NaN</td>\n",
       "      <td>NaN</td>\n",
       "      <td>NaN</td>\n",
       "      <td>NaN</td>\n",
       "      <td>NaN</td>\n",
       "      <td>NaN</td>\n",
       "      <td>NaN</td>\n",
       "      <td>NaN</td>\n",
       "      <td>NaN</td>\n",
       "      <td>13940951.0</td>\n",
       "      <td>NaN</td>\n",
       "      <td>NaN</td>\n",
       "      <td>NaN</td>\n",
       "      <td>NaN</td>\n",
       "      <td>NaN</td>\n",
       "      <td>NaN</td>\n",
       "      <td>NaN</td>\n",
       "      <td>NaN</td>\n",
       "      <td>NaN</td>\n",
       "      <td>NaN</td>\n",
       "      <td>0.0</td>\n",
       "      <td>6.591738</td>\n",
       "      <td>0.0</td>\n",
       "      <td>NaN</td>\n",
       "      <td>NaN</td>\n",
       "      <td>NaN</td>\n",
       "      <td>NaN</td>\n",
       "      <td>NaN</td>\n",
       "      <td>NaN</td>\n",
       "      <td>219.0</td>\n",
       "      <td>86.0</td>\n",
       "      <td>NaN</td>\n",
       "      <td>NaN</td>\n",
       "      <td>NaN</td>\n",
       "      <td>media/c67ff196-d530-4e92-a210-242434894968.jpg...</td>\n",
       "    </tr>\n",
       "    <tr>\n",
       "      <th>3</th>\n",
       "      <td>12441011297.fit</td>\n",
       "      <td>-11.639408</td>\n",
       "      <td>166.948339</td>\n",
       "      <td>1</td>\n",
       "      <td>7.0</td>\n",
       "      <td>60.0</td>\n",
       "      <td>NaN</td>\n",
       "      <td>None</td>\n",
       "      <td>None</td>\n",
       "      <td>12.82</td>\n",
       "      <td>7.0</td>\n",
       "      <td>4.580</td>\n",
       "      <td>NaN</td>\n",
       "      <td>101.0</td>\n",
       "      <td>-138863552</td>\n",
       "      <td>1991771264</td>\n",
       "      <td>116.0</td>\n",
       "      <td>NaN</td>\n",
       "      <td>NaN</td>\n",
       "      <td>None</td>\n",
       "      <td>None</td>\n",
       "      <td>2024-06-15 13:19:47+00:00</td>\n",
       "      <td>11659433168</td>\n",
       "      <td>Jun 15, 2024, 1:19:44 PM</td>\n",
       "      <td>Zwift - The Pretzel in Watopia</td>\n",
       "      <td>Virtual Ride</td>\n",
       "      <td>Ride to improve PBs on hills</td>\n",
       "      <td>11086</td>\n",
       "      <td>73.07</td>\n",
       "      <td>186.0</td>\n",
       "      <td>202.0</td>\n",
       "      <td>False</td>\n",
       "      <td>NaN</td>\n",
       "      <td>Scott Addict RC (virtual)</td>\n",
       "      <td>12441011297.fit</td>\n",
       "      <td>NaN</td>\n",
       "      <td>7.9</td>\n",
       "      <td>11086.0</td>\n",
       "      <td>10407.0</td>\n",
       "      <td>73076.007812</td>\n",
       "      <td>24.015625</td>\n",
       "      <td>7.021813</td>\n",
       "      <td>1354.0</td>\n",
       "      <td>0.0</td>\n",
       "      <td>-6.4</td>\n",
       "      <td>516.200012</td>\n",
       "      <td>19.785538</td>\n",
       "      <td>-0.007937</td>\n",
       "      <td>NaN</td>\n",
       "      <td>NaN</td>\n",
       "      <td>...</td>\n",
       "      <td>NaN</td>\n",
       "      <td>NaN</td>\n",
       "      <td>155.0</td>\n",
       "      <td>10660.0</td>\n",
       "      <td>0.0</td>\n",
       "      <td>274.0</td>\n",
       "      <td>0.0</td>\n",
       "      <td>NaN</td>\n",
       "      <td>1.0</td>\n",
       "      <td>NaN</td>\n",
       "      <td>NaN</td>\n",
       "      <td>NaN</td>\n",
       "      <td>NaN</td>\n",
       "      <td>NaN</td>\n",
       "      <td>NaN</td>\n",
       "      <td>NaN</td>\n",
       "      <td>NaN</td>\n",
       "      <td>NaN</td>\n",
       "      <td>NaN</td>\n",
       "      <td>NaN</td>\n",
       "      <td>NaN</td>\n",
       "      <td>NaN</td>\n",
       "      <td>NaN</td>\n",
       "      <td>NaN</td>\n",
       "      <td>13940951.0</td>\n",
       "      <td>NaN</td>\n",
       "      <td>NaN</td>\n",
       "      <td>NaN</td>\n",
       "      <td>NaN</td>\n",
       "      <td>NaN</td>\n",
       "      <td>NaN</td>\n",
       "      <td>NaN</td>\n",
       "      <td>NaN</td>\n",
       "      <td>NaN</td>\n",
       "      <td>NaN</td>\n",
       "      <td>0.0</td>\n",
       "      <td>6.591738</td>\n",
       "      <td>0.0</td>\n",
       "      <td>NaN</td>\n",
       "      <td>NaN</td>\n",
       "      <td>NaN</td>\n",
       "      <td>NaN</td>\n",
       "      <td>NaN</td>\n",
       "      <td>NaN</td>\n",
       "      <td>219.0</td>\n",
       "      <td>86.0</td>\n",
       "      <td>NaN</td>\n",
       "      <td>NaN</td>\n",
       "      <td>NaN</td>\n",
       "      <td>media/c67ff196-d530-4e92-a210-242434894968.jpg...</td>\n",
       "    </tr>\n",
       "    <tr>\n",
       "      <th>4</th>\n",
       "      <td>12441011297.fit</td>\n",
       "      <td>-11.639376</td>\n",
       "      <td>166.948371</td>\n",
       "      <td>1</td>\n",
       "      <td>6.8</td>\n",
       "      <td>61.0</td>\n",
       "      <td>NaN</td>\n",
       "      <td>None</td>\n",
       "      <td>None</td>\n",
       "      <td>17.89</td>\n",
       "      <td>6.8</td>\n",
       "      <td>5.130</td>\n",
       "      <td>NaN</td>\n",
       "      <td>101.0</td>\n",
       "      <td>-138863168</td>\n",
       "      <td>1991771648</td>\n",
       "      <td>81.0</td>\n",
       "      <td>NaN</td>\n",
       "      <td>NaN</td>\n",
       "      <td>None</td>\n",
       "      <td>None</td>\n",
       "      <td>2024-06-15 13:19:48+00:00</td>\n",
       "      <td>11659433168</td>\n",
       "      <td>Jun 15, 2024, 1:19:44 PM</td>\n",
       "      <td>Zwift - The Pretzel in Watopia</td>\n",
       "      <td>Virtual Ride</td>\n",
       "      <td>Ride to improve PBs on hills</td>\n",
       "      <td>11086</td>\n",
       "      <td>73.07</td>\n",
       "      <td>186.0</td>\n",
       "      <td>202.0</td>\n",
       "      <td>False</td>\n",
       "      <td>NaN</td>\n",
       "      <td>Scott Addict RC (virtual)</td>\n",
       "      <td>12441011297.fit</td>\n",
       "      <td>NaN</td>\n",
       "      <td>7.9</td>\n",
       "      <td>11086.0</td>\n",
       "      <td>10407.0</td>\n",
       "      <td>73076.007812</td>\n",
       "      <td>24.015625</td>\n",
       "      <td>7.021813</td>\n",
       "      <td>1354.0</td>\n",
       "      <td>0.0</td>\n",
       "      <td>-6.4</td>\n",
       "      <td>516.200012</td>\n",
       "      <td>19.785538</td>\n",
       "      <td>-0.007937</td>\n",
       "      <td>NaN</td>\n",
       "      <td>NaN</td>\n",
       "      <td>...</td>\n",
       "      <td>NaN</td>\n",
       "      <td>NaN</td>\n",
       "      <td>155.0</td>\n",
       "      <td>10660.0</td>\n",
       "      <td>0.0</td>\n",
       "      <td>274.0</td>\n",
       "      <td>0.0</td>\n",
       "      <td>NaN</td>\n",
       "      <td>1.0</td>\n",
       "      <td>NaN</td>\n",
       "      <td>NaN</td>\n",
       "      <td>NaN</td>\n",
       "      <td>NaN</td>\n",
       "      <td>NaN</td>\n",
       "      <td>NaN</td>\n",
       "      <td>NaN</td>\n",
       "      <td>NaN</td>\n",
       "      <td>NaN</td>\n",
       "      <td>NaN</td>\n",
       "      <td>NaN</td>\n",
       "      <td>NaN</td>\n",
       "      <td>NaN</td>\n",
       "      <td>NaN</td>\n",
       "      <td>NaN</td>\n",
       "      <td>13940951.0</td>\n",
       "      <td>NaN</td>\n",
       "      <td>NaN</td>\n",
       "      <td>NaN</td>\n",
       "      <td>NaN</td>\n",
       "      <td>NaN</td>\n",
       "      <td>NaN</td>\n",
       "      <td>NaN</td>\n",
       "      <td>NaN</td>\n",
       "      <td>NaN</td>\n",
       "      <td>NaN</td>\n",
       "      <td>0.0</td>\n",
       "      <td>6.591738</td>\n",
       "      <td>0.0</td>\n",
       "      <td>NaN</td>\n",
       "      <td>NaN</td>\n",
       "      <td>NaN</td>\n",
       "      <td>NaN</td>\n",
       "      <td>NaN</td>\n",
       "      <td>NaN</td>\n",
       "      <td>219.0</td>\n",
       "      <td>86.0</td>\n",
       "      <td>NaN</td>\n",
       "      <td>NaN</td>\n",
       "      <td>NaN</td>\n",
       "      <td>media/c67ff196-d530-4e92-a210-242434894968.jpg...</td>\n",
       "    </tr>\n",
       "  </tbody>\n",
       "</table>\n",
       "<p>5 rows × 116 columns</p>\n",
       "</div>"
      ],
      "text/plain": [
       "          FileName   latitude   longitude  lap  altitude  cadence  calories  \\\n",
       "0  12441011297.fit -11.639474  166.948264    1       7.4      0.0       NaN   \n",
       "1  12441011297.fit -11.639455  166.948274    1       7.2     48.0       NaN   \n",
       "2  12441011297.fit -11.639433  166.948307    1       7.2     60.0       NaN   \n",
       "3  12441011297.fit -11.639408  166.948339    1       7.0     60.0       NaN   \n",
       "4  12441011297.fit -11.639376  166.948371    1       6.8     61.0       NaN   \n",
       "\n",
       "  compressed_speed_distance cycle_length  distance  enhanced_altitude  \\\n",
       "0                      None         None      2.46                7.4   \n",
       "1                      None         None      5.15                7.2   \n",
       "2                      None         None      8.82                7.2   \n",
       "3                      None         None     12.82                7.0   \n",
       "4                      None         None     17.89                6.8   \n",
       "\n",
       "   enhanced_speed  grade  heart_rate  position_lat  position_long  power  \\\n",
       "0           2.371    NaN       104.0    -138864336     1991770368    0.0   \n",
       "1           3.145    NaN       102.0    -138864112     1991770496  237.0   \n",
       "2           3.940    NaN       101.0    -138863840     1991770880  110.0   \n",
       "3           4.580    NaN       101.0    -138863552     1991771264  116.0   \n",
       "4           5.130    NaN       101.0    -138863168     1991771648   81.0   \n",
       "\n",
       "   resistance  speed temperature time_from_course                 timestamp  \\\n",
       "0         NaN    NaN        None             None 2024-06-15 13:19:44+00:00   \n",
       "1         NaN    NaN        None             None 2024-06-15 13:19:45+00:00   \n",
       "2         NaN    NaN        None             None 2024-06-15 13:19:46+00:00   \n",
       "3         NaN    NaN        None             None 2024-06-15 13:19:47+00:00   \n",
       "4         NaN    NaN        None             None 2024-06-15 13:19:48+00:00   \n",
       "\n",
       "   Activity ID             Activity Date                   Activity Name  \\\n",
       "0  11659433168  Jun 15, 2024, 1:19:44 PM  Zwift - The Pretzel in Watopia   \n",
       "1  11659433168  Jun 15, 2024, 1:19:44 PM  Zwift - The Pretzel in Watopia   \n",
       "2  11659433168  Jun 15, 2024, 1:19:44 PM  Zwift - The Pretzel in Watopia   \n",
       "3  11659433168  Jun 15, 2024, 1:19:44 PM  Zwift - The Pretzel in Watopia   \n",
       "4  11659433168  Jun 15, 2024, 1:19:44 PM  Zwift - The Pretzel in Watopia   \n",
       "\n",
       "  Activity Type          Activity Description  Elapsed Time  Distance  \\\n",
       "0  Virtual Ride  Ride to improve PBs on hills         11086     73.07   \n",
       "1  Virtual Ride  Ride to improve PBs on hills         11086     73.07   \n",
       "2  Virtual Ride  Ride to improve PBs on hills         11086     73.07   \n",
       "3  Virtual Ride  Ride to improve PBs on hills         11086     73.07   \n",
       "4  Virtual Ride  Ride to improve PBs on hills         11086     73.07   \n",
       "\n",
       "   Max Heart Rate  Relative Effort  Commute  Activity Private Note  \\\n",
       "0           186.0            202.0    False                    NaN   \n",
       "1           186.0            202.0    False                    NaN   \n",
       "2           186.0            202.0    False                    NaN   \n",
       "3           186.0            202.0    False                    NaN   \n",
       "4           186.0            202.0    False                    NaN   \n",
       "\n",
       "               Activity Gear         Filename  Athlete Weight  Bike Weight  \\\n",
       "0  Scott Addict RC (virtual)  12441011297.fit             NaN          7.9   \n",
       "1  Scott Addict RC (virtual)  12441011297.fit             NaN          7.9   \n",
       "2  Scott Addict RC (virtual)  12441011297.fit             NaN          7.9   \n",
       "3  Scott Addict RC (virtual)  12441011297.fit             NaN          7.9   \n",
       "4  Scott Addict RC (virtual)  12441011297.fit             NaN          7.9   \n",
       "\n",
       "   Elapsed Time.1  Moving Time    Distance.1  Max Speed  Average Speed  \\\n",
       "0         11086.0      10407.0  73076.007812  24.015625       7.021813   \n",
       "1         11086.0      10407.0  73076.007812  24.015625       7.021813   \n",
       "2         11086.0      10407.0  73076.007812  24.015625       7.021813   \n",
       "3         11086.0      10407.0  73076.007812  24.015625       7.021813   \n",
       "4         11086.0      10407.0  73076.007812  24.015625       7.021813   \n",
       "\n",
       "   Elevation Gain  Elevation Loss  Elevation Low  Elevation High  Max Grade  \\\n",
       "0          1354.0             0.0           -6.4      516.200012  19.785538   \n",
       "1          1354.0             0.0           -6.4      516.200012  19.785538   \n",
       "2          1354.0             0.0           -6.4      516.200012  19.785538   \n",
       "3          1354.0             0.0           -6.4      516.200012  19.785538   \n",
       "4          1354.0             0.0           -6.4      516.200012  19.785538   \n",
       "\n",
       "   Average Grade  Average Positive Grade  Average Negative Grade  ...  Type  \\\n",
       "0      -0.007937                     NaN                     NaN  ...   NaN   \n",
       "1      -0.007937                     NaN                     NaN  ...   NaN   \n",
       "2      -0.007937                     NaN                     NaN  ...   NaN   \n",
       "3      -0.007937                     NaN                     NaN  ...   NaN   \n",
       "4      -0.007937                     NaN                     NaN  ...   NaN   \n",
       "\n",
       "   Start Time  Weighted Average Power  Power Count  Prefer Perceived Exertion  \\\n",
       "0         NaN                   155.0      10660.0                        0.0   \n",
       "1         NaN                   155.0      10660.0                        0.0   \n",
       "2         NaN                   155.0      10660.0                        0.0   \n",
       "3         NaN                   155.0      10660.0                        0.0   \n",
       "4         NaN                   155.0      10660.0                        0.0   \n",
       "\n",
       "   Perceived Relative Effort  Commute.1  Total Weight Lifted  From Upload  \\\n",
       "0                      274.0        0.0                  NaN          1.0   \n",
       "1                      274.0        0.0                  NaN          1.0   \n",
       "2                      274.0        0.0                  NaN          1.0   \n",
       "3                      274.0        0.0                  NaN          1.0   \n",
       "4                      274.0        0.0                  NaN          1.0   \n",
       "\n",
       "   Grade Adjusted Distance  Weather Observation Time  Weather Condition  \\\n",
       "0                      NaN                       NaN                NaN   \n",
       "1                      NaN                       NaN                NaN   \n",
       "2                      NaN                       NaN                NaN   \n",
       "3                      NaN                       NaN                NaN   \n",
       "4                      NaN                       NaN                NaN   \n",
       "\n",
       "   Weather Temperature  Apparent Temperature  Dewpoint  Humidity  \\\n",
       "0                  NaN                   NaN       NaN       NaN   \n",
       "1                  NaN                   NaN       NaN       NaN   \n",
       "2                  NaN                   NaN       NaN       NaN   \n",
       "3                  NaN                   NaN       NaN       NaN   \n",
       "4                  NaN                   NaN       NaN       NaN   \n",
       "\n",
       "   Weather Pressure  Wind Speed  Wind Gust  Wind Bearing  \\\n",
       "0               NaN         NaN        NaN           NaN   \n",
       "1               NaN         NaN        NaN           NaN   \n",
       "2               NaN         NaN        NaN           NaN   \n",
       "3               NaN         NaN        NaN           NaN   \n",
       "4               NaN         NaN        NaN           NaN   \n",
       "\n",
       "   Precipitation Intensity  Sunrise Time  Sunset Time  Moon Phase        Bike  \\\n",
       "0                      NaN           NaN          NaN         NaN  13940951.0   \n",
       "1                      NaN           NaN          NaN         NaN  13940951.0   \n",
       "2                      NaN           NaN          NaN         NaN  13940951.0   \n",
       "3                      NaN           NaN          NaN         NaN  13940951.0   \n",
       "4                      NaN           NaN          NaN         NaN  13940951.0   \n",
       "\n",
       "   Gear  Precipitation Probability  Precipitation Type  Cloud Cover  \\\n",
       "0   NaN                        NaN                 NaN          NaN   \n",
       "1   NaN                        NaN                 NaN          NaN   \n",
       "2   NaN                        NaN                 NaN          NaN   \n",
       "3   NaN                        NaN                 NaN          NaN   \n",
       "4   NaN                        NaN                 NaN          NaN   \n",
       "\n",
       "   Weather Visibility  UV Index  Weather Ozone  Jump Count  Total Grit  \\\n",
       "0                 NaN       NaN            NaN         NaN         NaN   \n",
       "1                 NaN       NaN            NaN         NaN         NaN   \n",
       "2                 NaN       NaN            NaN         NaN         NaN   \n",
       "3                 NaN       NaN            NaN         NaN         NaN   \n",
       "4                 NaN       NaN            NaN         NaN         NaN   \n",
       "\n",
       "   Average Flow  Flagged  Average Elapsed Speed  Dirt Distance  \\\n",
       "0           NaN      0.0               6.591738            0.0   \n",
       "1           NaN      0.0               6.591738            0.0   \n",
       "2           NaN      0.0               6.591738            0.0   \n",
       "3           NaN      0.0               6.591738            0.0   \n",
       "4           NaN      0.0               6.591738            0.0   \n",
       "\n",
       "   Newly Explored Distance  Newly Explored Dirt Distance  Activity Count  \\\n",
       "0                      NaN                           NaN             NaN   \n",
       "1                      NaN                           NaN             NaN   \n",
       "2                      NaN                           NaN             NaN   \n",
       "3                      NaN                           NaN             NaN   \n",
       "4                      NaN                           NaN             NaN   \n",
       "\n",
       "   Total Steps  Carbon Saved  Pool Length  Training Load  Intensity  \\\n",
       "0          NaN           NaN          NaN          219.0       86.0   \n",
       "1          NaN           NaN          NaN          219.0       86.0   \n",
       "2          NaN           NaN          NaN          219.0       86.0   \n",
       "3          NaN           NaN          NaN          219.0       86.0   \n",
       "4          NaN           NaN          NaN          219.0       86.0   \n",
       "\n",
       "   Average Grade Adjusted Pace  Timer Time  Total Cycles  \\\n",
       "0                          NaN         NaN           NaN   \n",
       "1                          NaN         NaN           NaN   \n",
       "2                          NaN         NaN           NaN   \n",
       "3                          NaN         NaN           NaN   \n",
       "4                          NaN         NaN           NaN   \n",
       "\n",
       "                                               Media  \n",
       "0  media/c67ff196-d530-4e92-a210-242434894968.jpg...  \n",
       "1  media/c67ff196-d530-4e92-a210-242434894968.jpg...  \n",
       "2  media/c67ff196-d530-4e92-a210-242434894968.jpg...  \n",
       "3  media/c67ff196-d530-4e92-a210-242434894968.jpg...  \n",
       "4  media/c67ff196-d530-4e92-a210-242434894968.jpg...  \n",
       "\n",
       "[5 rows x 116 columns]"
      ]
     },
     "execution_count": 221,
     "metadata": {},
     "output_type": "execute_result"
    }
   ],
   "source": [
    "x.head()"
   ]
  },
  {
   "cell_type": "code",
   "execution_count": 222,
   "metadata": {
    "ExecuteTime": {
     "end_time": "2024-07-09T20:42:01.926266Z",
     "start_time": "2024-07-09T20:42:01.511112Z"
    }
   },
   "outputs": [
    {
     "data": {
      "text/plain": [
       "[<matplotlib.lines.Line2D at 0x22f1849a040>]"
      ]
     },
     "execution_count": 222,
     "metadata": {},
     "output_type": "execute_result"
    },
    {
     "data": {
      "image/png": "[encoded data removed]",
      "text/plain": [
       "<Figure size 432x288 with 1 Axes>"
      ]
     },
     "metadata": {},
     "output_type": "display_data"
    }
   ],
   "source": [
    "plt.plot(x[\"altitude\"])"
   ]
  },
  {
   "cell_type": "code",
   "execution_count": 123,
   "metadata": {
    "ExecuteTime": {
     "end_time": "2024-07-09T20:01:32.660589Z",
     "start_time": "2024-07-09T20:01:32.550054Z"
    }
   },
   "outputs": [
    {
     "data": {
      "text/plain": [
       "count     26665.000000\n",
       "mean         18.394678\n",
       "std        2129.609152\n",
       "min      -10000.000000\n",
       "25%           0.000000\n",
       "50%           0.000000\n",
       "75%           0.000000\n",
       "max      342000.000000\n",
       "dtype: float64"
      ]
     },
     "execution_count": 123,
     "metadata": {},
     "output_type": "execute_result"
    }
   ],
   "source": [
    "(100*(x[\"altitude\"].diff().fillna(0.01)/(x[\"distance\"].diff().fillna(0.001) + 0.01))).describe()"
   ]
  },
  {
   "cell_type": "code",
   "execution_count": 118,
   "metadata": {
    "ExecuteTime": {
     "end_time": "2024-07-09T20:00:37.411082Z",
     "start_time": "2024-07-09T20:00:36.903863Z"
    }
   },
   "outputs": [
    {
     "data": {
      "text/html": [
       "<div>\n",
       "<style scoped>\n",
       "    .dataframe tbody tr th:only-of-type {\n",
       "        vertical-align: middle;\n",
       "    }\n",
       "\n",
       "    .dataframe tbody tr th {\n",
       "        vertical-align: top;\n",
       "    }\n",
       "\n",
       "    .dataframe thead th {\n",
       "        text-align: right;\n",
       "    }\n",
       "</style>\n",
       "<table border=\"1\" class=\"dataframe\">\n",
       "  <thead>\n",
       "    <tr style=\"text-align: right;\">\n",
       "      <th></th>\n",
       "      <th>FileName</th>\n",
       "      <th>Activity Name</th>\n",
       "    </tr>\n",
       "  </thead>\n",
       "  <tbody>\n",
       "    <tr>\n",
       "      <th>24</th>\n",
       "      <td>10057687651.fit</td>\n",
       "      <td>Day 1: Verso Asti</td>\n",
       "    </tr>\n",
       "    <tr>\n",
       "      <th>21586</th>\n",
       "      <td>10057691840.fit</td>\n",
       "      <td>Day 2: Monferrato</td>\n",
       "    </tr>\n",
       "    <tr>\n",
       "      <th>39156</th>\n",
       "      <td>10112528019.fit</td>\n",
       "      <td>Morning Ride</td>\n",
       "    </tr>\n",
       "    <tr>\n",
       "      <th>45291</th>\n",
       "      <td>10193450347.fit</td>\n",
       "      <td>Unico giro sotto i 100 km con salite da Milano?</td>\n",
       "    </tr>\n",
       "    <tr>\n",
       "      <th>60372</th>\n",
       "      <td>10327150072.fit</td>\n",
       "      <td>Affezionato alla Brianza + giro turistico in c...</td>\n",
       "    </tr>\n",
       "    <tr>\n",
       "      <th>76748</th>\n",
       "      <td>10527301818.fit</td>\n",
       "      <td>Long time no see Brianza</td>\n",
       "    </tr>\n",
       "    <tr>\n",
       "      <th>89198</th>\n",
       "      <td>10710188514.fit</td>\n",
       "      <td>IL LOMBARDIA 2023</td>\n",
       "    </tr>\n",
       "    <tr>\n",
       "      <th>115858</th>\n",
       "      <td>10755123838.fit</td>\n",
       "      <td>Se fori fori nel punto più lontano da casa</td>\n",
       "    </tr>\n",
       "    <tr>\n",
       "      <th>140438</th>\n",
       "      <td>10876234942.fit</td>\n",
       "      <td>In paradiso day 1</td>\n",
       "    </tr>\n",
       "    <tr>\n",
       "      <th>149777</th>\n",
       "      <td>10876244654.fit</td>\n",
       "      <td>A spasso day 2</td>\n",
       "    </tr>\n",
       "    <tr>\n",
       "      <th>640503</th>\n",
       "      <td>9293279157.fit</td>\n",
       "      <td>Back on the road</td>\n",
       "    </tr>\n",
       "    <tr>\n",
       "      <th>647007</th>\n",
       "      <td>9323764869.fit</td>\n",
       "      <td>Caldo e vento sugli Euganei🔥🌬</td>\n",
       "    </tr>\n",
       "    <tr>\n",
       "      <th>660135</th>\n",
       "      <td>9364127943.fit</td>\n",
       "      <td>Long Ride di Marzo</td>\n",
       "    </tr>\n",
       "    <tr>\n",
       "      <th>679297</th>\n",
       "      <td>9380658757.fit</td>\n",
       "      <td>Azzardando ghiaini a Teolo</td>\n",
       "    </tr>\n",
       "    <tr>\n",
       "      <th>686999</th>\n",
       "      <td>9399007407.fit</td>\n",
       "      <td>Ultima in Veneto</td>\n",
       "    </tr>\n",
       "    <tr>\n",
       "      <th>697025</th>\n",
       "      <td>9501575839.fit</td>\n",
       "      <td>Monte Berico di Sabato Santo</td>\n",
       "    </tr>\n",
       "    <tr>\n",
       "      <th>708391</th>\n",
       "      <td>9545958229.fit</td>\n",
       "      <td>Como in chill🚵‍♂️</td>\n",
       "    </tr>\n",
       "    <tr>\n",
       "      <th>725971</th>\n",
       "      <td>9722381796.fit</td>\n",
       "      <td>Recharging🔋</td>\n",
       "    </tr>\n",
       "    <tr>\n",
       "      <th>728903</th>\n",
       "      <td>9769702970.fit</td>\n",
       "      <td>Afternoon Ride in the rain🌧</td>\n",
       "    </tr>\n",
       "    <tr>\n",
       "      <th>737803</th>\n",
       "      <td>9776976940.fit</td>\n",
       "      <td>Peccato per il Giro ma bella per prof. Mazzari</td>\n",
       "    </tr>\n",
       "    <tr>\n",
       "      <th>755890</th>\n",
       "      <td>9824696756.fit</td>\n",
       "      <td>Milano e la sua pellicola di smog</td>\n",
       "    </tr>\n",
       "    <tr>\n",
       "      <th>762062</th>\n",
       "      <td>9858640064.fit</td>\n",
       "      <td>Il pavese come la bassa veronese</td>\n",
       "    </tr>\n",
       "    <tr>\n",
       "      <th>775122</th>\n",
       "      <td>9912835482.fit</td>\n",
       "      <td>Attorno a San Siro prima della UCL</td>\n",
       "    </tr>\n",
       "  </tbody>\n",
       "</table>\n",
       "</div>"
      ],
      "text/plain": [
       "               FileName                                      Activity Name\n",
       "24      10057687651.fit                                  Day 1: Verso Asti\n",
       "21586   10057691840.fit                                 Day 2: Monferrato \n",
       "39156   10112528019.fit                                       Morning Ride\n",
       "45291   10193450347.fit    Unico giro sotto i 100 km con salite da Milano?\n",
       "60372   10327150072.fit  Affezionato alla Brianza + giro turistico in c...\n",
       "76748   10527301818.fit                           Long time no see Brianza\n",
       "89198   10710188514.fit                                  IL LOMBARDIA 2023\n",
       "115858  10755123838.fit         Se fori fori nel punto più lontano da casa\n",
       "140438  10876234942.fit                                  In paradiso day 1\n",
       "149777  10876244654.fit                                     A spasso day 2\n",
       "640503   9293279157.fit                                   Back on the road\n",
       "647007   9323764869.fit                      Caldo e vento sugli Euganei🔥🌬\n",
       "660135   9364127943.fit                                 Long Ride di Marzo\n",
       "679297   9380658757.fit                         Azzardando ghiaini a Teolo\n",
       "686999   9399007407.fit                                   Ultima in Veneto\n",
       "697025   9501575839.fit                       Monte Berico di Sabato Santo\n",
       "708391   9545958229.fit                                  Como in chill🚵‍♂️\n",
       "725971   9722381796.fit                                        Recharging🔋\n",
       "728903   9769702970.fit                        Afternoon Ride in the rain🌧\n",
       "737803   9776976940.fit     Peccato per il Giro ma bella per prof. Mazzari\n",
       "755890   9824696756.fit                  Milano e la sua pellicola di smog\n",
       "762062   9858640064.fit                   Il pavese come la bassa veronese\n",
       "775122   9912835482.fit                 Attorno a San Siro prima della UCL"
      ]
     },
     "execution_count": 118,
     "metadata": {},
     "output_type": "execute_result"
    }
   ],
   "source": [
    "fit_file_points[fit_file_points[\"grade\"].notna()][[\"FileName\", \"Activity Name\", \"distance\", \"altitude\"]].dropna(how = \"any\")[[\"FileName\", \"Activity Name\"]].drop_duplicates()"
   ]
  },
  {
   "cell_type": "code",
   "execution_count": 227,
   "metadata": {
    "ExecuteTime": {
     "end_time": "2024-07-09T20:42:38.914924Z",
     "start_time": "2024-07-09T20:42:38.620389Z"
    }
   },
   "outputs": [
    {
     "data": {
      "text/plain": [
       "FileName                         0\n",
       "latitude                         0\n",
       "longitude                        0\n",
       "lap                              0\n",
       "altitude                         0\n",
       "cadence                          0\n",
       "calories                     10414\n",
       "compressed_speed_distance    10414\n",
       "cycle_length                 10414\n",
       "distance                         0\n",
       "enhanced_altitude                0\n",
       "enhanced_speed                   0\n",
       "grade                        10414\n",
       "heart_rate                       0\n",
       "position_lat                     0\n",
       "position_long                    0\n",
       "power                            0\n",
       "resistance                   10414\n",
       "speed                        10414\n",
       "temperature                  10414\n",
       "time_from_course             10414\n",
       "timestamp                        0\n",
       "Activity ID                      0\n",
       "Activity Date                    0\n",
       "Activity Name                    0\n",
       "dtype: int64"
      ]
     },
     "execution_count": 227,
     "metadata": {},
     "output_type": "execute_result"
    }
   ],
   "source": [
    "x.isnull().sum()[:25]"
   ]
  },
  {
   "cell_type": "code",
   "execution_count": 231,
   "metadata": {
    "ExecuteTime": {
     "end_time": "2024-07-09T20:43:34.028661Z",
     "start_time": "2024-07-09T20:43:33.749914Z"
    }
   },
   "outputs": [
    {
     "data": {
      "text/plain": [
       "25.24964121375072"
      ]
     },
     "execution_count": 231,
     "metadata": {},
     "output_type": "execute_result"
    }
   ],
   "source": [
    "(3.6*x[\"enhanced_speed\"]).mean()"
   ]
  },
  {
   "cell_type": "code",
   "execution_count": 237,
   "metadata": {
    "ExecuteTime": {
     "end_time": "2024-07-09T20:44:31.382130Z",
     "start_time": "2024-07-09T20:44:30.885606Z"
    }
   },
   "outputs": [
    {
     "data": {
      "text/plain": [
       "[<matplotlib.lines.Line2D at 0x22f23af0790>]"
      ]
     },
     "execution_count": 237,
     "metadata": {},
     "output_type": "execute_result"
    },
    {
     "data": {
      "image/png": "[encoded data removed]",
      "text/plain": [
       "<Figure size 1152x360 with 1 Axes>"
      ]
     },
     "metadata": {},
     "output_type": "display_data"
    }
   ],
   "source": [
    "plt.figure(figsize = (16, 5))\n",
    "# plt.plot((3.6*x[\"enhanced_speed\"]))\n",
    "# plt.plot(x[\"enhanced_altitude\"])\n",
    "plt.plot(x[\"heart_rate\"])\n",
    "plt.plot(x[\"power\"])\n",
    "plt.plot(x[\"cadence\"])"
   ]
  },
  {
   "cell_type": "code",
   "execution_count": null,
   "metadata": {},
   "outputs": [],
   "source": []
  },
  {
   "cell_type": "code",
   "execution_count": null,
   "metadata": {},
   "outputs": [],
   "source": []
  },
  {
   "cell_type": "code",
   "execution_count": null,
   "metadata": {},
   "outputs": [],
   "source": []
  },
  {
   "cell_type": "code",
   "execution_count": 212,
   "metadata": {
    "ExecuteTime": {
     "end_time": "2024-07-09T20:36:33.193644Z",
     "start_time": "2024-07-09T20:36:33.048831Z"
    }
   },
   "outputs": [
    {
     "name": "stdout",
     "output_type": "stream",
     "text": [
      "Skforecast version:  0.12.1\n"
     ]
    }
   ],
   "source": [
    "# Data manipulation\n",
    "# ==============================================================================\n",
    "from skforecast.datasets import fetch_dataset\n",
    "\n",
    "# Modeling and Forecasting\n",
    "# ==============================================================================\n",
    "from sklearn.linear_model import Ridge\n",
    "from sklearn.ensemble import RandomForestRegressor\n",
    "from sklearn.metrics import mean_squared_error\n",
    "from sklearn.metrics import root_mean_squared_error\n",
    "from sklearn.metrics import mean_absolute_error\n",
    "from sklearn.preprocessing import StandardScaler\n",
    "\n",
    "import skforecast\n",
    "from skforecast.ForecasterAutoreg import ForecasterAutoreg\n",
    "from skforecast.ForecasterAutoregCustom import ForecasterAutoregCustom\n",
    "from skforecast.ForecasterAutoregDirect import ForecasterAutoregDirect\n",
    "from skforecast.model_selection import grid_search_forecaster\n",
    "from skforecast.model_selection import backtesting_forecaster\n",
    "from skforecast.utils import save_forecaster\n",
    "from skforecast.utils import load_forecaster\n",
    "\n",
    "# Warnings configuration\n",
    "# ==============================================================================\n",
    "import warnings\n",
    "warnings.filterwarnings('once')\n",
    "\n",
    "print('Skforecast version: ', skforecast.__version__)"
   ]
  },
  {
   "cell_type": "code",
   "execution_count": 154,
   "metadata": {
    "ExecuteTime": {
     "end_time": "2024-07-09T20:14:44.766549Z",
     "start_time": "2024-07-09T20:14:44.604226Z"
    }
   },
   "outputs": [
    {
     "data": {
      "text/plain": [
       "count    95043.600000\n",
       "mean        19.185937\n",
       "std          7.617514\n",
       "min          2.008800\n",
       "25%         13.957200\n",
       "50%         20.448000\n",
       "75%         24.447600\n",
       "max         51.138000\n",
       "Name: speed, dtype: float64"
      ]
     },
     "execution_count": 154,
     "metadata": {},
     "output_type": "execute_result"
    }
   ],
   "source": [
    "x[x[\"speed\"] > 0][\"speed\"].describe()*3.6"
   ]
  },
  {
   "cell_type": "code",
   "execution_count": 160,
   "metadata": {
    "ExecuteTime": {
     "end_time": "2024-07-09T20:17:19.912615Z",
     "start_time": "2024-07-09T20:17:19.754164Z"
    }
   },
   "outputs": [
    {
     "name": "stderr",
     "output_type": "stream",
     "text": [
      "C:\\Users\\matti\\AppData\\Local\\Temp\\ipykernel_18792\\1754506508.py:2: FutureWarning: Series.fillna with 'method' is deprecated and will raise in a future version. Use obj.ffill() or obj.bfill() instead.\n",
      "  x[\"altitude\"] = x[\"altitude\"].fillna(method = \"bfill\")\n"
     ]
    }
   ],
   "source": [
    "x[\"cadence\"] = x[\"cadence\"].fillna(0)\n",
    "x[\"altitude\"] = x[\"altitude\"].bfill()\n",
    "x[\"heart_rate\"] = x[\"heart_rate\"].bfill()"
   ]
  },
  {
   "cell_type": "code",
   "execution_count": 166,
   "metadata": {
    "ExecuteTime": {
     "end_time": "2024-07-09T20:18:30.840309Z",
     "start_time": "2024-07-09T20:18:30.687226Z"
    }
   },
   "outputs": [
    {
     "data": {
      "text/plain": [
       "cadence        0\n",
       "calories       0\n",
       "distance       0\n",
       "altitude       0\n",
       "grade          0\n",
       "heart_rate     0\n",
       "speed          0\n",
       "temperature    0\n",
       "dtype: int64"
      ]
     },
     "execution_count": 166,
     "metadata": {},
     "output_type": "execute_result"
    }
   ],
   "source": [
    "x[[\"cadence\", \"calories\", \"distance\", \"altitude\", \"grade\", \"heart_rate\", \"speed\", \"temperature\"]].isnull().sum()"
   ]
  },
  {
   "cell_type": "code",
   "execution_count": 282,
   "metadata": {
    "ExecuteTime": {
     "end_time": "2024-07-09T20:58:12.398722Z",
     "start_time": "2024-07-09T20:58:12.111768Z"
    }
   },
   "outputs": [],
   "source": [
    "feature_cols = ['altitude', 'cadence', 'distance',\n",
    "                'enhanced_speed', 'heart_rate', 'power']"
   ]
  },
  {
   "cell_type": "code",
   "execution_count": 279,
   "metadata": {
    "ExecuteTime": {
     "end_time": "2024-07-09T20:57:38.921234Z",
     "start_time": "2024-07-09T20:57:38.400974Z"
    }
   },
   "outputs": [
    {
     "name": "stderr",
     "output_type": "stream",
     "text": [
      "C:\\Users\\matti\\anaconda3\\lib\\site-packages\\seaborn\\matrix.py:302: MatplotlibDeprecationWarning: Auto-removal of grids by pcolor() and pcolormesh() is deprecated since 3.5 and will be removed two minor releases later; please call grid(False) first.\n",
      "  mesh = ax.pcolormesh(self.plot_data, cmap=self.cmap, **kws)\n"
     ]
    },
    {
     "data": {
      "text/plain": [
       "<AxesSubplot:>"
      ]
     },
     "execution_count": 279,
     "metadata": {},
     "output_type": "execute_result"
    },
    {
     "data": {
      "image/png": "[encoded data removed]",
      "text/plain": [
       "<Figure size 432x288 with 1 Axes>"
      ]
     },
     "metadata": {},
     "output_type": "display_data"
    }
   ],
   "source": [
    "sns.heatmap(x[feature_cols].corr(), annot = True, cmap = \"RdBu_r\", vmin = -1, vmax = 1, cbar = False)"
   ]
  },
  {
   "cell_type": "code",
   "execution_count": 280,
   "metadata": {
    "ExecuteTime": {
     "end_time": "2024-07-09T20:57:53.508929Z",
     "start_time": "2024-07-09T20:57:53.200855Z"
    }
   },
   "outputs": [
    {
     "data": {
      "text/plain": [
       "(10414, 116)"
      ]
     },
     "execution_count": 280,
     "metadata": {},
     "output_type": "execute_result"
    }
   ],
   "source": [
    "x.shape"
   ]
  },
  {
   "cell_type": "code",
   "execution_count": 284,
   "metadata": {
    "ExecuteTime": {
     "end_time": "2024-07-09T20:58:20.081525Z",
     "start_time": "2024-07-09T20:58:19.556570Z"
    }
   },
   "outputs": [
    {
     "name": "stdout",
     "output_type": "stream",
     "text": [
      "Train dates : 0 --- 7413  (n=7414)\n",
      "Test dates  : 7414 --- 10413  (n=3000)\n"
     ]
    },
    {
     "data": {
      "image/png": "[encoded data removed]",
      "text/plain": [
       "<Figure size 432x180 with 1 Axes>"
      ]
     },
     "metadata": {},
     "output_type": "display_data"
    }
   ],
   "source": [
    "# Split data into train-test\n",
    "# ==============================================================================\n",
    "steps = 3000\n",
    "data_train = x[feature_cols][:-steps]\n",
    "data_test  = x[feature_cols][-steps:]\n",
    "print(\n",
    "    f\"Train dates : {data_train.index.min()} --- \"\n",
    "    f\"{data_train.index.max()}  (n={len(data_train)})\"\n",
    ")\n",
    "print(\n",
    "    f\"Test dates  : {data_test.index.min()} --- \"\n",
    "    f\"{data_test.index.max()}  (n={len(data_test)})\"\n",
    ")\n",
    "\n",
    "fig, ax = plt.subplots(figsize=(6, 2.5))\n",
    "data_train['power'].plot(ax=ax, label='train')\n",
    "data_test['power'].plot(ax=ax, label='test')\n",
    "ax.legend();"
   ]
  },
  {
   "cell_type": "code",
   "execution_count": 285,
   "metadata": {
    "ExecuteTime": {
     "end_time": "2024-07-09T20:59:16.546899Z",
     "start_time": "2024-07-09T20:59:15.310446Z"
    }
   },
   "outputs": [
    {
     "data": {
      "text/plain": [
       "================= \n",
       "ForecasterAutoreg \n",
       "================= \n",
       "Regressor: RandomForestRegressor(max_features=5, n_jobs=-1, random_state=123) \n",
       "Lags: [ 1  2  3  4  5  6  7  8  9 10 11 12 13 14 15 16 17 18 19 20] \n",
       "Transformer for y: None \n",
       "Transformer for exog: None \n",
       "Window size: 20 \n",
       "Weight function included: False \n",
       "Differentiation order: None \n",
       "Exogenous included: False \n",
       "Type of exogenous variable: None \n",
       "Exogenous variables names: None \n",
       "Training range: [0, 7413] \n",
       "Training index type: RangeIndex \n",
       "Training index frequency: 1 \n",
       "Regressor parameters: {'bootstrap': True, 'ccp_alpha': 0.0, 'criterion': 'squared_error', 'max_depth': None, 'max_features': 5, 'max_leaf_nodes': None, 'max_samples': None, 'min_impurity_decrease': 0.0, 'min_samples_leaf': 1, 'min_samples_split': 2, 'min_weight_fraction_leaf': 0.0, 'monotonic_cst': None, 'n_estimators': 100, 'n_jobs': -1, 'oob_score': False, 'random_state': 123, 'verbose': 0, 'warm_start': False} \n",
       "fit_kwargs: {} \n",
       "Creation date: 2024-07-09 22:59:15 \n",
       "Last fit date: 2024-07-09 22:59:16 \n",
       "Skforecast version: 0.12.1 \n",
       "Python version: 3.9.12 \n",
       "Forecaster id: None "
      ]
     },
     "execution_count": 285,
     "metadata": {},
     "output_type": "execute_result"
    }
   ],
   "source": [
    "# Create and train forecaster\n",
    "# ==============================================================================\n",
    "forecaster = ForecasterAutoreg(\n",
    "                 regressor = RandomForestRegressor(random_state=123,\n",
    "                                                   max_features = len(feature_cols) - 1,\n",
    "                                                  n_jobs = -1),\n",
    "                 lags      = 20\n",
    "             )\n",
    "forecaster.fit(y=data_train['power'])\n",
    "forecaster"
   ]
  },
  {
   "cell_type": "code",
   "execution_count": 286,
   "metadata": {
    "ExecuteTime": {
     "end_time": "2024-07-09T21:05:10.353103Z",
     "start_time": "2024-07-09T20:59:18.401432Z"
    }
   },
   "outputs": [
    {
     "data": {
      "text/plain": [
       "7414    185.24\n",
       "7415    183.69\n",
       "7416    183.42\n",
       "7417    184.84\n",
       "7418    185.12\n",
       "Name: pred, dtype: float64"
      ]
     },
     "execution_count": 286,
     "metadata": {},
     "output_type": "execute_result"
    }
   ],
   "source": [
    "# Predictions\n",
    "# ==============================================================================\n",
    "steps = 5000\n",
    "predictions = forecaster.predict(steps=steps)\n",
    "predictions.head(5)"
   ]
  },
  {
   "cell_type": "code",
   "execution_count": 287,
   "metadata": {
    "ExecuteTime": {
     "end_time": "2024-07-09T21:05:11.026916Z",
     "start_time": "2024-07-09T21:05:10.356157Z"
    }
   },
   "outputs": [
    {
     "data": {
      "image/png": "[encoded data removed]",
      "text/plain": [
       "<Figure size 1152x360 with 1 Axes>"
      ]
     },
     "metadata": {},
     "output_type": "display_data"
    }
   ],
   "source": [
    "# Plot predictions versus test data\n",
    "# ==============================================================================\n",
    "fig, ax = plt.subplots(figsize=(16, 5))\n",
    "data_train['power'].plot(ax=ax, label='train')\n",
    "data_test['power'].plot(ax=ax, label='test', alpha = .5)\n",
    "predictions.plot(ax=ax, label='predictions')\n",
    "ax.legend();"
   ]
  },
  {
   "cell_type": "code",
   "execution_count": null,
   "metadata": {},
   "outputs": [],
   "source": []
  },
  {
   "cell_type": "code",
   "execution_count": null,
   "metadata": {},
   "outputs": [],
   "source": []
  },
  {
   "cell_type": "code",
   "execution_count": null,
   "metadata": {},
   "outputs": [],
   "source": []
  },
  {
   "cell_type": "code",
   "execution_count": null,
   "metadata": {},
   "outputs": [],
   "source": []
  },
  {
   "cell_type": "code",
   "execution_count": 198,
   "metadata": {
    "ExecuteTime": {
     "end_time": "2024-07-09T20:33:06.207795Z",
     "start_time": "2024-07-09T20:33:06.049252Z"
    }
   },
   "outputs": [],
   "source": [
    "def preprocessing(lst):\n",
    "    \n",
    "    out = []\n",
    "    for d in lst:\n",
    "        if d[\"power\"].isnull().sum() == 0:\n",
    "            # print(d[\"FileName\"].values[0])        \n",
    "            dd = d.copy().reset_index(drop = True)\n",
    "            dd[\"heart_rate\"] = dd[\"heart_rate\"].astype(int)\n",
    "            dd[\"grade\"] = (dd[\"altitude\"].diff().fillna(0.01)/(dd[\"distance\"].diff().fillna(0.01) + 0.1))\n",
    "            dd.loc[dd[\"grade\"] > 25,  \"grade\"] = 25\n",
    "            dd.loc[dd[\"grade\"] < -25, \"grade\"] = -25\n",
    "\n",
    "            dd = dd.dropna(axis = 1, how = \"all\")\n",
    "            dd = dd.sort_values(\"timestamp\").reset_index(drop = True)\n",
    "\n",
    "            dd_3s = dd.set_index(\"timestamp\").drop(\"FileName\", axis = 1).resample('3s', offset=\"0.1s\",\n",
    "                                                                                  origin = \"start\").mean()\n",
    "            dd_3s = dd_3s.dropna(how = \"all\")\n",
    "            dd_3s = dd_3s[dd_3s[\"power\"] > 0].reset_index(drop = True)\n",
    "\n",
    "            out += [dd_3s]\n",
    "        \n",
    "    return pd.concat(out, ignore_index = True)"
   ]
  },
  {
   "cell_type": "code",
   "execution_count": null,
   "metadata": {},
   "outputs": [],
   "source": []
  },
  {
   "cell_type": "code",
   "execution_count": null,
   "metadata": {},
   "outputs": [],
   "source": []
  },
  {
   "cell_type": "code",
   "execution_count": null,
   "metadata": {},
   "outputs": [],
   "source": []
  },
  {
   "cell_type": "code",
   "execution_count": 69,
   "metadata": {
    "ExecuteTime": {
     "end_time": "2024-07-05T20:30:57.481497Z",
     "start_time": "2024-07-05T20:30:57.208062Z"
    }
   },
   "outputs": [],
   "source": [
    "# list_of_dfs_fit_points[0].head()"
   ]
  },
  {
   "cell_type": "code",
   "execution_count": 199,
   "metadata": {
    "ExecuteTime": {
     "end_time": "2024-07-09T20:33:12.577121Z",
     "start_time": "2024-07-09T20:33:11.109633Z"
    }
   },
   "outputs": [],
   "source": [
    "Xy = preprocessing(list_of_dfs_fit_points)"
   ]
  },
  {
   "cell_type": "code",
   "execution_count": 200,
   "metadata": {
    "ExecuteTime": {
     "end_time": "2024-07-09T20:33:18.497554Z",
     "start_time": "2024-07-09T20:33:17.385644Z"
    }
   },
   "outputs": [
    {
     "name": "stderr",
     "output_type": "stream",
     "text": [
      "C:\\Users\\matti\\anaconda3\\lib\\site-packages\\seaborn\\matrix.py:302: MatplotlibDeprecationWarning: Auto-removal of grids by pcolor() and pcolormesh() is deprecated since 3.5 and will be removed two minor releases later; please call grid(False) first.\n",
      "  mesh = ax.pcolormesh(self.plot_data, cmap=self.cmap, **kws)\n"
     ]
    },
    {
     "data": {
      "image/png": "[encoded data removed]",
      "text/plain": [
       "<Figure size 576x360 with 1 Axes>"
      ]
     },
     "metadata": {},
     "output_type": "display_data"
    }
   ],
   "source": [
    "plt.figure(figsize = (8, 5))\n",
    "sns.heatmap(Xy.corr(), vmin = -1, vmax = 1, cbar = False, annot = True, cmap = \"RdBu\")\n",
    "plt.show()"
   ]
  },
  {
   "cell_type": "code",
   "execution_count": 201,
   "metadata": {
    "ExecuteTime": {
     "end_time": "2024-07-09T20:33:24.992097Z",
     "start_time": "2024-07-09T20:33:24.768573Z"
    }
   },
   "outputs": [
    {
     "name": "stdout",
     "output_type": "stream",
     "text": [
      "[  0.88421898   5.02341121   0.59511101 569.45189369] -93.78712651747864\n"
     ]
    }
   ],
   "source": [
    "from sklearn.metrics import r2_score\n",
    "from sklearn.metrics import mean_squared_error\n",
    "from sklearn.metrics import mean_absolute_error\n",
    "from sklearn.linear_model import LinearRegression\n",
    "from sklearn.metrics import root_mean_squared_error\n",
    "from sklearn.model_selection import train_test_split\n",
    "from sklearn.metrics import mean_absolute_percentage_error\n",
    "\n",
    "X = Xy[[\"heart_rate\", \"enhanced_speed\", \"cadence\", \"grade\"]].copy()\n",
    "y = Xy[\"power\"].copy()\n",
    "\n",
    "X_train, X_test, y_train, y_test = train_test_split(X, y, test_size=0.3, random_state=42, shuffle = True)\n",
    "\n",
    "lr = LinearRegression(fit_intercept=True)\n",
    "lr.fit(X_train, y_train)\n",
    "print(lr.coef_, lr.intercept_)"
   ]
  },
  {
   "cell_type": "code",
   "execution_count": 206,
   "metadata": {
    "ExecuteTime": {
     "end_time": "2024-07-09T20:35:25.753117Z",
     "start_time": "2024-07-09T20:35:25.603178Z"
    }
   },
   "outputs": [
    {
     "data": {
      "text/plain": [
       "array([141.4487973 , 101.62434774, 139.05610969, ..., 127.31703116,\n",
       "       115.2108028 , 121.05792282])"
      ]
     },
     "execution_count": 206,
     "metadata": {},
     "output_type": "execute_result"
    }
   ],
   "source": [
    "lr.predict(X_test)* (lr.predict(X_test) > 0)"
   ]
  },
  {
   "cell_type": "code",
   "execution_count": 207,
   "metadata": {
    "ExecuteTime": {
     "end_time": "2024-07-09T20:35:33.556069Z",
     "start_time": "2024-07-09T20:35:33.397388Z"
    }
   },
   "outputs": [],
   "source": [
    "lr_preds = pd.DataFrame({\"y_true\": y_test, \"y_pred\": lr.predict(X_test)* (lr.predict(X_test) > 0)})\n",
    "lr_preds[\"delta\"] = abs(lr_preds[\"y_true\"] - lr_preds[\"y_pred\"])"
   ]
  },
  {
   "cell_type": "code",
   "execution_count": 208,
   "metadata": {
    "ExecuteTime": {
     "end_time": "2024-07-09T20:35:35.946983Z",
     "start_time": "2024-07-09T20:35:35.606457Z"
    }
   },
   "outputs": [
    {
     "data": {
      "text/plain": [
       "<AxesSubplot:>"
      ]
     },
     "execution_count": 208,
     "metadata": {},
     "output_type": "execute_result"
    },
    {
     "data": {
      "image/png": "[encoded data removed]",
      "text/plain": [
       "<Figure size 576x360 with 1 Axes>"
      ]
     },
     "metadata": {},
     "output_type": "display_data"
    }
   ],
   "source": [
    "plt.figure(figsize = (8, 5))\n",
    "lr_preds[\"delta\"].reset_index(drop = True).plot()"
   ]
  },
  {
   "cell_type": "code",
   "execution_count": 209,
   "metadata": {
    "ExecuteTime": {
     "end_time": "2024-07-09T20:35:40.896590Z",
     "start_time": "2024-07-09T20:35:40.400343Z"
    }
   },
   "outputs": [
    {
     "data": {
      "text/plain": [
       "<AxesSubplot:>"
      ]
     },
     "execution_count": 209,
     "metadata": {},
     "output_type": "execute_result"
    },
    {
     "data": {
      "image/png": "[encoded data removed]",
      "text/plain": [
       "<Figure size 576x360 with 1 Axes>"
      ]
     },
     "metadata": {},
     "output_type": "display_data"
    }
   ],
   "source": [
    "fix, ax = plt.subplots(1, 1, figsize = (8, 5))\n",
    "lr_preds.reset_index(drop = True).drop(\"delta\", axis = 1).plot(ax = ax)"
   ]
  },
  {
   "cell_type": "code",
   "execution_count": 213,
   "metadata": {
    "ExecuteTime": {
     "end_time": "2024-07-09T20:36:55.410125Z",
     "start_time": "2024-07-09T20:36:55.246216Z"
    }
   },
   "outputs": [
    {
     "name": "stdout",
     "output_type": "stream",
     "text": [
      "R^2: 0.35\n",
      "RMSE: 37.85\n",
      "MAE: 24.10\n",
      "MAPE: 24.87 %\n"
     ]
    }
   ],
   "source": [
    "print(\"R^2: {:.2f}\".format(r2_score(y_test, lr.predict(X_test))))\n",
    "print(\"RMSE: {:.2f}\".format(root_mean_squared_error(y_test, lr.predict(X_test))))\n",
    "print(\"MAE: {:.2f}\".format(mean_absolute_error(y_test, lr.predict(X_test))))\n",
    "print(\"MAPE: {:.2f} %\".format(100*mean_absolute_percentage_error(y_test, lr.predict(X_test))))"
   ]
  },
  {
   "cell_type": "code",
   "execution_count": 214,
   "metadata": {
    "ExecuteTime": {
     "end_time": "2024-07-09T20:37:11.457740Z",
     "start_time": "2024-07-09T20:36:57.655775Z"
    }
   },
   "outputs": [
    {
     "name": "stderr",
     "output_type": "stream",
     "text": [
      "C:\\Users\\matti\\anaconda3\\lib\\site-packages\\tensorflow\\core\\framework\\tensor_shape_pb2.py:18: DeprecationWarning: Call to deprecated create function FileDescriptor(). Note: Create unlinked descriptors is going to go away. Please use get/find descriptors from generated code or query the descriptor_pool.\n",
      "  DESCRIPTOR = _descriptor.FileDescriptor(\n",
      "C:\\Users\\matti\\anaconda3\\lib\\site-packages\\tensorflow\\core\\framework\\tensor_shape_pb2.py:36: DeprecationWarning: Call to deprecated create function FieldDescriptor(). Note: Create unlinked descriptors is going to go away. Please use get/find descriptors from generated code or query the descriptor_pool.\n",
      "  _descriptor.FieldDescriptor(\n",
      "C:\\Users\\matti\\anaconda3\\lib\\site-packages\\tensorflow\\core\\framework\\tensor_shape_pb2.py:29: DeprecationWarning: Call to deprecated create function Descriptor(). Note: Create unlinked descriptors is going to go away. Please use get/find descriptors from generated code or query the descriptor_pool.\n",
      "  _TENSORSHAPEPROTO_DIM = _descriptor.Descriptor(\n",
      "C:\\Users\\matti\\anaconda3\\lib\\site-packages\\tensorflow\\core\\framework\\types_pb2.py:19: DeprecationWarning: Call to deprecated create function FileDescriptor(). Note: Create unlinked descriptors is going to go away. Please use get/find descriptors from generated code or query the descriptor_pool.\n",
      "  DESCRIPTOR = _descriptor.FileDescriptor(\n",
      "C:\\Users\\matti\\anaconda3\\lib\\site-packages\\tensorflow\\core\\framework\\types_pb2.py:33: DeprecationWarning: Call to deprecated create function EnumValueDescriptor(). Note: Create unlinked descriptors is going to go away. Please use get/find descriptors from generated code or query the descriptor_pool.\n",
      "  _descriptor.EnumValueDescriptor(\n",
      "C:\\Users\\matti\\anaconda3\\lib\\site-packages\\tensorflow\\core\\framework\\types_pb2.py:27: DeprecationWarning: Call to deprecated create function EnumDescriptor(). Note: Create unlinked descriptors is going to go away. Please use get/find descriptors from generated code or query the descriptor_pool.\n",
      "  _DATATYPE = _descriptor.EnumDescriptor(\n",
      "C:\\Users\\matti\\anaconda3\\lib\\site-packages\\tensorflow\\core\\framework\\resource_handle_pb2.py:20: DeprecationWarning: Call to deprecated create function FileDescriptor(). Note: Create unlinked descriptors is going to go away. Please use get/find descriptors from generated code or query the descriptor_pool.\n",
      "  DESCRIPTOR = _descriptor.FileDescriptor(\n",
      "C:\\Users\\matti\\anaconda3\\lib\\site-packages\\tensorflow\\core\\framework\\resource_handle_pb2.py:39: DeprecationWarning: Call to deprecated create function FieldDescriptor(). Note: Create unlinked descriptors is going to go away. Please use get/find descriptors from generated code or query the descriptor_pool.\n",
      "  _descriptor.FieldDescriptor(\n",
      "C:\\Users\\matti\\anaconda3\\lib\\site-packages\\tensorflow\\core\\framework\\resource_handle_pb2.py:32: DeprecationWarning: Call to deprecated create function Descriptor(). Note: Create unlinked descriptors is going to go away. Please use get/find descriptors from generated code or query the descriptor_pool.\n",
      "  _RESOURCEHANDLEPROTO_DTYPEANDSHAPE = _descriptor.Descriptor(\n",
      "C:\\Users\\matti\\anaconda3\\lib\\site-packages\\tensorflow\\core\\framework\\tensor_pb2.py:21: DeprecationWarning: Call to deprecated create function FileDescriptor(). Note: Create unlinked descriptors is going to go away. Please use get/find descriptors from generated code or query the descriptor_pool.\n",
      "  DESCRIPTOR = _descriptor.FileDescriptor(\n",
      "C:\\Users\\matti\\anaconda3\\lib\\site-packages\\tensorflow\\core\\framework\\tensor_pb2.py:40: DeprecationWarning: Call to deprecated create function FieldDescriptor(). Note: Create unlinked descriptors is going to go away. Please use get/find descriptors from generated code or query the descriptor_pool.\n",
      "  _descriptor.FieldDescriptor(\n",
      "C:\\Users\\matti\\anaconda3\\lib\\site-packages\\tensorflow\\core\\framework\\tensor_pb2.py:33: DeprecationWarning: Call to deprecated create function Descriptor(). Note: Create unlinked descriptors is going to go away. Please use get/find descriptors from generated code or query the descriptor_pool.\n",
      "  _TENSORPROTO = _descriptor.Descriptor(\n",
      "C:\\Users\\matti\\anaconda3\\lib\\site-packages\\tensorflow\\core\\framework\\attr_value_pb2.py:21: DeprecationWarning: Call to deprecated create function FileDescriptor(). Note: Create unlinked descriptors is going to go away. Please use get/find descriptors from generated code or query the descriptor_pool.\n",
      "  DESCRIPTOR = _descriptor.FileDescriptor(\n",
      "C:\\Users\\matti\\anaconda3\\lib\\site-packages\\tensorflow\\core\\framework\\attr_value_pb2.py:40: DeprecationWarning: Call to deprecated create function FieldDescriptor(). Note: Create unlinked descriptors is going to go away. Please use get/find descriptors from generated code or query the descriptor_pool.\n",
      "  _descriptor.FieldDescriptor(\n",
      "C:\\Users\\matti\\anaconda3\\lib\\site-packages\\tensorflow\\core\\framework\\attr_value_pb2.py:33: DeprecationWarning: Call to deprecated create function Descriptor(). Note: Create unlinked descriptors is going to go away. Please use get/find descriptors from generated code or query the descriptor_pool.\n",
      "  _ATTRVALUE_LISTVALUE = _descriptor.Descriptor(\n",
      "C:\\Users\\matti\\anaconda3\\lib\\site-packages\\tensorflow\\python\\framework\\dtypes.py:205: DeprecationWarning: `np.bool8` is a deprecated alias for `np.bool_`.  (Deprecated NumPy 1.24)\n",
      "  np.bool8: (False, True),\n",
      "C:\\Users\\matti\\anaconda3\\lib\\site-packages\\tensorboard\\compat\\tensorflow_stub\\dtypes.py:326: DeprecationWarning: `np.bool8` is a deprecated alias for `np.bool_`.  (Deprecated NumPy 1.24)\n",
      "  np.bool8: (False, True),\n"
     ]
    }
   ],
   "source": [
    "from keras.callbacks import EarlyStopping\n",
    "from keras.utils.vis_utils import plot_model\n",
    "from tensorflow.keras.models import Sequential\n",
    "from tensorflow.keras.layers import Input, Dense\n",
    "from tensorflow.keras.utils import to_categorical\n",
    "from tensorflow.python.framework.random_seed import set_random_seed"
   ]
  },
  {
   "cell_type": "code",
   "execution_count": 215,
   "metadata": {
    "ExecuteTime": {
     "end_time": "2024-07-09T20:37:11.998549Z",
     "start_time": "2024-07-09T20:37:11.461737Z"
    }
   },
   "outputs": [
    {
     "name": "stdout",
     "output_type": "stream",
     "text": [
      "Model: \"sequential\"\n",
      "_________________________________________________________________\n",
      " Layer (type)                Output Shape              Param #   \n",
      "=================================================================\n",
      " dense (Dense)               (None, 4)                 20        \n",
      "                                                                 \n",
      " dense_1 (Dense)             (None, 4)                 20        \n",
      "                                                                 \n",
      " dense_2 (Dense)             (None, 4)                 20        \n",
      "                                                                 \n",
      " dense_3 (Dense)             (None, 1)                 5         \n",
      "                                                                 \n",
      "=================================================================\n",
      "Total params: 65\n",
      "Trainable params: 65\n",
      "Non-trainable params: 0\n",
      "_________________________________________________________________\n"
     ]
    }
   ],
   "source": [
    "model = Sequential()\n",
    "model.add(Dense(input_dim = 4, units = 4, activation = \"elu\"))\n",
    "model.add(Dense(units = 4, activation = \"elu\"))\n",
    "model.add(Dense(units = 4, activation = \"elu\"))\n",
    "model.add(Dense(units = 1, activation = None))\n",
    "model.compile(loss = \"mean_absolute_error\", optimizer = \"adam\",\n",
    "              metrics = [\"mean_absolute_error\", \"mean_absolute_percentage_error\"])\n",
    "model.summary()"
   ]
  },
  {
   "cell_type": "code",
   "execution_count": 216,
   "metadata": {
    "ExecuteTime": {
     "end_time": "2024-07-09T20:39:17.596401Z",
     "start_time": "2024-07-09T20:37:21.612857Z"
    }
   },
   "outputs": [
    {
     "name": "stdout",
     "output_type": "stream",
     "text": [
      "Epoch 94: early stopping\n"
     ]
    }
   ],
   "source": [
    "## Define an Early Stopping\n",
    "early_stopping = EarlyStopping(monitor = \"mean_absolute_error\", mode = \"min\", patience = 20, verbose = 1)\n",
    "\n",
    "history = model.fit(X_train, y_train, epochs = 1000, batch_size = 100,\n",
    "                    verbose = 0, validation_split = 0.4, callbacks = [early_stopping])"
   ]
  },
  {
   "cell_type": "code",
   "execution_count": 217,
   "metadata": {
    "ExecuteTime": {
     "end_time": "2024-07-09T20:39:18.124578Z",
     "start_time": "2024-07-09T20:39:17.598274Z"
    }
   },
   "outputs": [
    {
     "data": {
      "text/plain": [
       "<AxesSubplot:>"
      ]
     },
     "execution_count": 217,
     "metadata": {},
     "output_type": "execute_result"
    },
    {
     "data": {
      "image/png": "[encoded data removed]",
      "text/plain": [
       "<Figure size 576x360 with 1 Axes>"
      ]
     },
     "metadata": {},
     "output_type": "display_data"
    }
   ],
   "source": [
    "pd.DataFrame(history.history).plot(figsize = (8, 5))"
   ]
  },
  {
   "cell_type": "code",
   "execution_count": 219,
   "metadata": {
    "ExecuteTime": {
     "end_time": "2024-07-09T20:39:47.683528Z",
     "start_time": "2024-07-09T20:39:41.924633Z"
    }
   },
   "outputs": [
    {
     "name": "stdout",
     "output_type": "stream",
     "text": [
      "1132/1132 [==============================] - 1s 1ms/step\n",
      "RMSE: 36.70\n",
      "1132/1132 [==============================] - 1s 1ms/step\n",
      "MAE: 22.97\n",
      "1132/1132 [==============================] - 1s 1ms/step\n",
      "MAPE: 22.74 %\n"
     ]
    }
   ],
   "source": [
    "print(\"RMSE: {:.2f}\".format(root_mean_squared_error(y_test, model.predict(X_test))))\n",
    "print(\"MAE: {:.2f}\".format(mean_absolute_error(y_test, model.predict(X_test))))\n",
    "print(\"MAPE: {:.2f} %\".format(100*mean_absolute_percentage_error(y_test, model.predict(X_test))))"
   ]
  },
  {
   "cell_type": "markdown",
   "metadata": {},
   "source": [
    "$POWER=\\frac{9\\cdot(6\\cdot A\\cdot R-b\\cdot c)}{26.46\\cdot a}$\n",
    "\n",
    "$R=$"
   ]
  },
  {
   "cell_type": "markdown",
   "metadata": {},
   "source": [
    "$9^{\\frac{1}{3}}$"
   ]
  },
  {
   "cell_type": "code",
   "execution_count": null,
   "metadata": {},
   "outputs": [],
   "source": []
  },
  {
   "cell_type": "code",
   "execution_count": null,
   "metadata": {},
   "outputs": [],
   "source": []
  },
  {
   "cell_type": "code",
   "execution_count": null,
   "metadata": {},
   "outputs": [],
   "source": []
  },
  {
   "cell_type": "markdown",
   "metadata": {},
   "source": [
    "$x=\\frac{1}{1157360400a^3}*[\\frac{}{50^{\\frac{2}{3}}}-\\frac{}{50^{\\frac{1}{3}}}+11809799900\\cdot a^3\\cdot s^3+a^2\\cdot b\\cdot(11809799900\\cdot s^2 - 3936600000\\cdot c)+3936599980\\cdot a\\cdot b^2 \\cdot s + 437399997\\cdot b^3]$"
   ]
  },
  {
   "cell_type": "markdown",
   "metadata": {},
   "source": [
    "```python\n",
    "##########################################\n",
    "### GET TO DATAFRAME PER EACH GPX FILE ###\n",
    "##########################################\n",
    "\n",
    "list_of_dfs_gpx = []\n",
    "for file in list_of_gpx_files:\n",
    "    try:\n",
    "        d_ = parse_gpx.get_dataframe_from_gpx(file)\n",
    "        list_of_dfs_gpx.append(d_)\n",
    "    except Exception as e:\n",
    "        print(file)\n",
    "\n",
    "list_of_dfs_gpx[0]\n",
    "\n",
    "from lxml.etree import tostring\n",
    "\n",
    "gpx = gpxpy.parse(open(\"\\\\\".join((strava_export, \"7501129268.gpx\")), 'r'))\n",
    "\n",
    "print(len(gpx.tracks))\n",
    "for track in gpx.tracks:\n",
    "    print(len(track.segments))\n",
    "    for segment in track.segments:\n",
    "        print(len(segment.points))\n",
    "        for point in segment.points:\n",
    "            \n",
    "            #print(point.attributes)\n",
    "\n",
    "            print({'latitude': point.latitude,\n",
    "            'longitude': point.longitude,\n",
    "            'elevation': point.elevation,\n",
    "            'time': point.time,\n",
    "            'speed': point.speed})\n",
    "            # print(tostring(point.extensions[0]))\n",
    "            # # for df in []:\n",
    "            # #     print(elem.find(f'garmin_tpe:{df}', NAMESPACES).text)\n",
    "\n",
    "\n",
    "            # NAMESPACES = {'garmin_tpe': 'http://www.garmin.com/xmlschemas/TrackPointExtension/v1'}\n",
    "            # print(point.extensions[0].find('garmin_tpe:speed', NAMESPACES).text)\n",
    "```"
   ]
  }
 ],
 "metadata": {
  "kernelspec": {
   "display_name": "Python 3 (ipykernel)",
   "language": "python",
   "name": "python3"
  },
  "language_info": {
   "codemirror_mode": {
    "name": "ipython",
    "version": 3
   },
   "file_extension": ".py",
   "mimetype": "text/x-python",
   "name": "python",
   "nbconvert_exporter": "python",
   "pygments_lexer": "ipython3",
   "version": "3.9.12"
  }
 },
 "nbformat": 4,
 "nbformat_minor": 2
}
