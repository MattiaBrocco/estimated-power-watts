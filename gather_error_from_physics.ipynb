{
 "cells": [
  {
   "cell_type": "code",
   "execution_count": 2,
   "metadata": {
    "ExecuteTime": {
     "end_time": "2024-07-16T11:54:48.519334Z",
     "start_time": "2024-07-16T11:54:48.378489Z"
    }
   },
   "outputs": [
    {
     "name": "stdout",
     "output_type": "stream",
     "text": [
      "The autoreload extension is already loaded. To reload it, use:\n",
      "  %reload_ext autoreload\n"
     ]
    }
   ],
   "source": [
    "import os\n",
    "import sys\n",
    "import gzip\n",
    "import gpxpy\n",
    "import shutil\n",
    "import fitdecode\n",
    "import gpxpy.gpx\n",
    "import numpy as np\n",
    "import pandas as pd\n",
    "import seaborn as sns\n",
    "from tqdm import tqdm\n",
    "import matplotlib.pyplot as plt\n",
    "\n",
    "import parse_fit\n",
    "import parse_gpx\n",
    "import parse_tcx\n",
    "\n",
    "pd.options.display.max_columns = 100\n",
    "\n",
    "%load_ext autoreload\n",
    "%autoreload 2"
   ]
  },
  {
   "cell_type": "code",
   "execution_count": null,
   "metadata": {},
   "outputs": [],
   "source": [
    "list_of_fit_files = [\"\\\\\".join((\".\\\\data\", v)) for v in os.listdir(\".\\\\data\")\n",
    "                     if \".gpx\" not in v and \".gz\" not in v]\n",
    "list_of_gpx_files = [\"\\\\\".join((\".\\\\data\", v)) for v in os.listdir(\".\\\\data\")\n",
    "                     if \".gpx\" in v]"
   ]
  },
  {
   "cell_type": "code",
   "execution_count": 3,
   "metadata": {
    "ExecuteTime": {
     "end_time": "2024-07-16T11:54:54.021895Z",
     "start_time": "2024-07-16T11:54:51.119454Z"
    }
   },
   "outputs": [],
   "source": [
    "# SAVE FILES TO AVOID RECOMPUTING EACH TIME\n",
    "fit_file_laps = pd.read_parquet(\".\\\\data\\\\fit_file_laps.parquet\")\n",
    "fit_file_points = pd.read_parquet(\".\\\\data\\\\fit_file_points.parquet\")"
   ]
  },
  {
   "cell_type": "code",
   "execution_count": 4,
   "metadata": {
    "ExecuteTime": {
     "end_time": "2024-07-16T11:54:54.469691Z",
     "start_time": "2024-07-16T11:54:54.044719Z"
    }
   },
   "outputs": [],
   "source": [
    "def compute_power(weight, bike_wgt, speed, slope):\n",
    "    \n",
    "    # 1) rolling resistance\n",
    "    C_rr = np.random.uniform(0.0025, 0.005) # coefficient of rolling resistance\n",
    "    m = weight + bike_wgt # total mass\n",
    "    g = 9.81\n",
    "\n",
    "    P_rr = C_rr * m * speed * g\n",
    "\n",
    "    # 2) Aerodynamic drag\n",
    "    rho = 1.225 # air density\n",
    "    C_d = 0.88 # drag coefficient\n",
    "    A = 0.5 # frontal area\n",
    "\n",
    "    P_aero = 0.5 * rho * C_d * A * np.power(speed, 3)\n",
    "\n",
    "    # 3) Gradient resistance\n",
    "    slope_rad = slope * (np.pi/180)\n",
    "    P_gr = m * g * speed * np.sin(slope_rad)\n",
    "\n",
    "    eta = 0.95 # drivetrain efficiency\n",
    "\n",
    "    P = (P_rr + P_aero + P_gr) / eta\n",
    "\n",
    "    return max(P, 0)"
   ]
  },
  {
   "cell_type": "markdown",
   "metadata": {},
   "source": [
    "1. Prendi attività Zwift:\n",
    "     * y = errore (power_stimata, power_reale)\n",
    "     * power_stimata con grade = 0\n",
    "     * X = pesi, speed, cadence, grade\n",
    "     * Come cambia l'errore in base a X\n",
    "2. Prendi i coefficienti ottenuti in (1) con attività Garmin\n",
    "    * y = power_stimata + $\\alpha\\cdot$ speed + $\\beta\\cdot$ HR\n",
    "    * ricalcola errore rispetto a potenza media da Strava"
   ]
  }
 ],
 "metadata": {
  "kernelspec": {
   "display_name": "Python 3 (ipykernel)",
   "language": "python",
   "name": "python3"
  },
  "language_info": {
   "codemirror_mode": {
    "name": "ipython",
    "version": 3
   },
   "file_extension": ".py",
   "mimetype": "text/x-python",
   "name": "python",
   "nbconvert_exporter": "python",
   "pygments_lexer": "ipython3",
   "version": "3.9.12"
  }
 },
 "nbformat": 4,
 "nbformat_minor": 2
}
